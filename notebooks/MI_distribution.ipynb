{
 "cells": [
  {
   "cell_type": "markdown",
   "metadata": {},
   "source": [
    "Distribution of MI scores of entries in several thesauri. Do thesauri just happen to contain better features?"
   ]
  },
  {
   "cell_type": "code",
   "execution_count": 52,
   "metadata": {},
   "outputs": [
    {
     "name": "stdout",
     "output_type": "stream",
     "text": [
      "/Volumes/LocalDataHD/m/mm/mmb28/NetBeansProjects/thesisgenerator\n"
     ]
    }
   ],
   "source": [
    "%cd ~/NetBeansProjects/thesisgenerator/\n",
    "from thesisgenerator.utils.conf_file_utils import parse_config_file\n",
    "from thesisgenerator.utils.data_utils import get_tokenized_data, get_tokenizer_settings_from_conf\n",
    "from thesisgenerator.plugins.bov import ThesaurusVectorizer\n",
    "from discoutils.thesaurus_loader import Vectors\n",
    "from sklearn.feature_selection import f_classif\n",
    "\n",
    "import seaborn as sns\n",
    "import matplotlib.pylab as plt\n",
    "%matplotlib inline"
   ]
  },
  {
   "cell_type": "code",
   "execution_count": 35,
   "metadata": {},
   "outputs": [],
   "source": [
    "conf, configspec_file = parse_config_file('conf/exp1/exp1_base.conf')\n",
    "tr_data = conf['training_data'] + '.gz'\n",
    "xtr, ytr, _, _ = get_tokenized_data(tr_data,\n",
    "                                        get_tokenizer_settings_from_conf(conf))\n",
    "\n",
    "X, vocab = ThesaurusVectorizer(min_df=0).fit_transform(xtr)"
   ]
  },
  {
   "cell_type": "code",
   "execution_count": 40,
   "metadata": {},
   "outputs": [],
   "source": [
    "fvalues, pvalues = f_classif(X, ytr)"
   ]
  },
  {
   "cell_type": "code",
   "execution_count": 92,
   "metadata": {},
   "outputs": [],
   "source": [
    "scores = {}\n",
    "paths = ['../FeatureExtractionToolkit/exp10-13-composed-ngrams/AN_NN_gigaw-100_Baroni.events.filtered.strings',\n",
    "        '../FeatureExtractionToolkit/exp10-13-composed-ngrams/AN_NN_gigaw-100_Add.events.filtered.strings',\n",
    "        '../FeatureExtractionToolkit/exp10-13-composed-ngrams/AN_NN_gigaw-100_Left.events.filtered.strings',\n",
    "        '../FeatureExtractionToolkit/exp10-13-composed-ngrams/AN_NN_gigaw-100_Right.events.filtered.strings']\n",
    "for path in paths:\n",
    "    v = Vectors.from_tsv(path)\n",
    "    scores_this_composer = []\n",
    "    for i, (df, idx) in enumerate(vocab.items()):\n",
    "        if df in v:\n",
    "            scores_this_composer.append(pvalues[idx])\n",
    "    scores[path] = scores_this_composer"
   ]
  },
  {
   "cell_type": "code",
   "execution_count": 94,
   "metadata": {},
   "outputs": [
    {
     "data": {
      "image/png": "[encoded data removed]"
     },
     "output_type": "display_data",
     "metadata": {}
    }
   ],
   "source": [
    "f, axes = plt.subplots(2, 2, sharey=True, sharex=True)\n",
    "names, colors = 'BALR', 'rgbc'\n",
    "for i, (_, vals) in enumerate(scores.items()):\n",
    "    axes.flat[i].hist(vals, bins=20, alpha=.3, color=colors[i]);\n",
    "    axes.flat[i].set_title(names[i])\n",
    "plt.savefig('midist.pdf', format='pdf')"
   ]
  },
  {
   "cell_type": "code",
   "execution_count": 99,
   "metadata": {},
   "outputs": [
    {
     "data": {
      "text/plain": [
       "(array([ inf,   1.,   1.,  inf]),\n",
       " array([ 0.        ,  0.42264973,  0.42264973,  0.        ]))"
      ]
     },
     "execution_count": 99,
     "output_type": "execute_result",
     "metadata": {}
    }
   ],
   "source": [
    "X = [\n",
    "        [1, 1, 0, 0],\n",
    "        [1, 1, 1, 0],\n",
    "        [0, 1, 1, 1],\n",
    "        [0, 0, 1, 1],\n",
    "    ]\n",
    "y = np.array([0, 0, 1, 1])\n",
    "f_classif(X, y)"
   ]
  },
  {
   "cell_type": "code",
   "execution_count": 101,
   "metadata": {},
   "outputs": [
    {
     "data": {
      "text/plain": [
       "array([ 14.50865824,   0.69314668,  -0.69314668, -14.50865824])"
      ]
     },
     "execution_count": 101,
     "output_type": "execute_result",
     "metadata": {}
    }
   ],
   "source": [
    "from thesisgenerator.utils.misc import calculate_log_odds\n",
    "from scipy.sparse import csr_matrix\n",
    "calculate_log_odds(csr_matrix(X), y)"
   ]
  },
  {
   "cell_type": "code",
   "execution_count": null,
   "metadata": {},
   "outputs": [],
   "source": [
    ""
   ]
  }
 ],
 "metadata": {
  "kernelspec": {
   "display_name": "Python 3",
   "language": "python",
   "name": "python3"
  },
  "language_info": {
   "codemirror_mode": {
    "name": "ipython",
    "version": 3.0
   },
   "file_extension": ".py",
   "mimetype": "text/x-python",
   "name": "python",
   "nbconvert_exporter": "python",
   "pygments_lexer": "ipython3",
   "version": "3.4.3"
  }
 },
 "nbformat": 4,
 "nbformat_minor": 0
}