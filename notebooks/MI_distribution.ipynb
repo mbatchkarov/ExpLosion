{
 "cells": [
  {
   "cell_type": "markdown",
   "metadata": {},
   "source": [
    "Distribution of MI scores of entries in several thesauri. Do thesauri just happen to contain better features?"
   ]
  },
  {
   "cell_type": "code",
   "execution_count": 1,
   "metadata": {
    "collapsed": false
   },
   "outputs": [
    {
     "name": "stdout",
     "output_type": "stream",
     "text": [
      "/Volumes/LocalDataHD/m/mm/mmb28/NetBeansProjects/thesisgenerator\n"
     ]
    }
   ],
   "source": [
    "%cd ~/NetBeansProjects/thesisgenerator/\n",
    "from thesisgenerator.utils.conf_file_utils import parse_config_file\n",
    "from thesisgenerator.utils.data_utils import get_tokenized_data, get_tokenizer_settings_from_conf\n",
    "from thesisgenerator.plugins.bov import ThesaurusVectorizer\n",
    "from discoutils.thesaurus_loader import Vectors\n",
    "from sklearn.feature_selection import f_classif, chi2\n",
    "import numpy as np\n",
    "import seaborn as sns\n",
    "import matplotlib.pylab as plt\n",
    "from thesisgenerator.utils.misc import calculate_log_odds\n",
    "from scipy.sparse import csr_matrix\n",
    "%matplotlib inline"
   ]
  },
  {
   "cell_type": "code",
   "execution_count": 148,
   "metadata": {
    "collapsed": false
   },
   "outputs": [],
   "source": [
    "conf, configspec_file = parse_config_file('conf/exp1/exp1_base.conf')\n",
    "tr_data = conf['training_data'] + '.gz'\n",
    "xtr, ytr, _, _ = get_tokenized_data(tr_data,\n",
    "                                        get_tokenizer_settings_from_conf(conf))\n",
    "\n",
    "X, vocab = ThesaurusVectorizer(min_df=0).fit_transform(xtr)\n",
    "vocab = {str(k): v for k,v in vocab.items()}"
   ]
  },
  {
   "cell_type": "code",
   "execution_count": 3,
   "metadata": {
    "collapsed": true
   },
   "outputs": [],
   "source": [
    "fvalues, pvalues = f_classif(X, ytr)"
   ]
  },
  {
   "cell_type": "code",
   "execution_count": 4,
   "metadata": {
    "collapsed": false
   },
   "outputs": [],
   "source": [
    "scores = {}\n",
    "paths = ['../FeatureExtractionToolkit/exp10-13-composed-ngrams/AN_NN_gigaw-100_Baroni.events.filtered.strings',\n",
    "        '../FeatureExtractionToolkit/exp10-13-composed-ngrams/AN_NN_gigaw-100_Add.events.filtered.strings',\n",
    "        '../FeatureExtractionToolkit/exp10-13-composed-ngrams/AN_NN_gigaw-100_Left.events.filtered.strings',\n",
    "        '../FeatureExtractionToolkit/exp10-13-composed-ngrams/AN_NN_gigaw-100_Right.events.filtered.strings']\n",
    "for path in paths:\n",
    "    v = Vectors.from_tsv(path)\n",
    "    scores_this_composer = []\n",
    "    for i, (df, idx) in enumerate(vocab.items()):\n",
    "        if df in v:\n",
    "            scores_this_composer.append(fvalues[idx])\n",
    "    scores[path] = scores_this_composer"
   ]
  },
  {
   "cell_type": "code",
   "execution_count": 5,
   "metadata": {
    "collapsed": false
   },
   "outputs": [
    {
     "data": {
      "image/png": "[encoded data removed]",
      "text/plain": [
       "<matplotlib.figure.Figure at 0x10f047898>"
      ]
     },
     "metadata": {},
     "output_type": "display_data"
    }
   ],
   "source": [
    "f, axes = plt.subplots(2, 2, sharey=True, sharex=True)\n",
    "names, colors = 'BALR', 'rgbc'\n",
    "for i, (_, vals) in enumerate(scores.items()):\n",
    "    axes.flat[i].hist(vals, bins=20, alpha=.3, color=colors[i]);\n",
    "    axes.flat[i].set_title(names[i])\n",
    "plt.savefig('midist.pdf', format='pdf')"
   ]
  },
  {
   "cell_type": "code",
   "execution_count": 6,
   "metadata": {
    "collapsed": false
   },
   "outputs": [
    {
     "data": {
      "text/plain": [
       "(array([ inf,   1.,   1.,  inf]),\n",
       " array([ 0.        ,  0.42264973,  0.42264973,  0.        ]))"
      ]
     },
     "execution_count": 6,
     "metadata": {},
     "output_type": "execute_result"
    }
   ],
   "source": [
    "X1 = [\n",
    "        [1, 1, 0, 0],\n",
    "        [1, 1, 1, 0],\n",
    "        [0, 1, 1, 1],\n",
    "        [0, 0, 1, 1],\n",
    "    ]\n",
    "y1 = np.array([0, 0, 1, 1])\n",
    "f_classif(X1, y1)"
   ]
  },
  {
   "cell_type": "code",
   "execution_count": 7,
   "metadata": {
    "collapsed": false
   },
   "outputs": [
    {
     "data": {
      "text/plain": [
       "array([ 14.50865824,   0.69314668,  -0.69314668, -14.50865824])"
      ]
     },
     "execution_count": 7,
     "metadata": {},
     "output_type": "execute_result"
    }
   ],
   "source": [
    "calculate_log_odds(csr_matrix(X1), y1)"
   ]
  },
  {
   "cell_type": "markdown",
   "metadata": {},
   "source": [
    "# what happens to good classifier features when redirected through a thesaurus"
   ]
  },
  {
   "cell_type": "code",
   "execution_count": 8,
   "metadata": {
    "collapsed": false
   },
   "outputs": [
    {
     "name": "stdout",
     "output_type": "stream",
     "text": [
      "shape is (2000, 47370)\n"
     ]
    },
    {
     "data": {
      "image/png": "[encoded data removed]",
      "text/plain": [
       "<matplotlib.figure.Figure at 0x1048476d8>"
      ]
     },
     "metadata": {},
     "output_type": "display_data"
    }
   ],
   "source": [
    "# are very informative features (ones strongly associated with class C)\n",
    "# replaced by other informative feats or not?\n",
    "print('shape is', X.shape)\n",
    "a, b = chi2(X, ytr) # small values of A mean informative features\n",
    "plt.hist(a, bins=20);"
   ]
  },
  {
   "cell_type": "code",
   "execution_count": 261,
   "metadata": {
    "collapsed": false
   },
   "outputs": [
    {
     "name": "stdout",
     "output_type": "stream",
     "text": [
      "CPU times: user 38.7 s, sys: 135 ms, total: 38.8 s\n",
      "Wall time: 39.9 s\n"
     ]
    }
   ],
   "source": [
    "ytr[ytr != 'Automotive'] = 'NotAutomotive' # lo_score assumes two classes, let's make it that was\n",
    "# pre-select features using chi2 (much faster, but selects both positive and negative features)\n",
    "premask, _ = f_classif(X, ytr)\n",
    "# %time lo_automotive = calculate_log_odds(X, ytr, column_indices=np.argsort(premask)[:1000])\n",
    "# %time lo_automotive = calculate_log_odds(X, ytr, column_indices=set(np.random.randint(0,X.shape[1],20000)))\n",
    "%time lo_automotive = calculate_log_odds(X, ytr)"
   ]
  },
  {
   "cell_type": "code",
   "execution_count": 262,
   "metadata": {
    "collapsed": false
   },
   "outputs": [
    {
     "data": {
      "text/plain": [
       "18.09217669226155"
      ]
     },
     "execution_count": 262,
     "metadata": {},
     "output_type": "execute_result"
    },
    {
     "data": {
      "image/png": "[encoded data removed]",
      "text/plain": [
       "<matplotlib.figure.Figure at 0x10ad68cc0>"
      ]
     },
     "metadata": {},
     "output_type": "display_data"
    }
   ],
   "source": [
    "plt.hist(lo_automotive, bins=20);\n",
    "max(lo_automotive)"
   ]
  },
  {
   "cell_type": "code",
   "execution_count": 263,
   "metadata": {
    "collapsed": false
   },
   "outputs": [
    {
     "data": {
      "text/plain": [
       "<matplotlib.collections.PathCollection at 0x10adad860>"
      ]
     },
     "execution_count": 263,
     "metadata": {},
     "output_type": "execute_result"
    },
    {
     "data": {
      "image/png": "[encoded data removed]",
      "text/plain": [
       "<matplotlib.figure.Figure at 0x10adad198>"
      ]
     },
     "metadata": {},
     "output_type": "display_data"
    }
   ],
   "source": [
    "premask[premask>100] = -1\n",
    "plt.scatter(lo_automotive, premask);\n",
    "# looks like there are both good and bad features (according to chi2) in terms of LO score"
   ]
  },
  {
   "cell_type": "code",
   "execution_count": 264,
   "metadata": {
    "collapsed": false,
    "scrolled": false
   },
   "outputs": [],
   "source": [
    "# import pandas as pd\n",
    "# density_df = pd.DataFrame({'X':lo_automotive[:100], 'Y':premask[:100]})\n",
    "# sns.kdeplot(lo_automotive[:100], premask[:100])\n",
    "# data = np.vstack([lo_automotive[:100], premask[:100]])\n",
    "# sns.kdeplot(density_df.ix[:11], shade=True);\n",
    "# data.shape\n",
    "# density_df"
   ]
  },
  {
   "cell_type": "code",
   "execution_count": 265,
   "metadata": {
    "collapsed": false,
    "scrolled": true
   },
   "outputs": [
    {
     "data": {
      "text/plain": [
       "({'acceleration/N',\n",
       "  'accelerator/N',\n",
       "  'accord/N',\n",
       "  'accord/N_works/N',\n",
       "  'actron/N',\n",
       "  'add/V_patch/N',\n",
       "  'adhesion/N',\n",
       "  'adhesive/N',\n",
       "  'air/N_compressor/N',\n",
       "  'air/N_tool/N',\n",
       "  'alarm/N',\n",
       "  'album/N',\n",
       "  'alcohol/N_pad/N',\n",
       "  'allow/V_air/N',\n",
       "  'allow/V_fuel/N',\n",
       "  'amazon/N_customer/N',\n",
       "  'amp/N',\n",
       "  'amp/N_fuse/N',\n",
       "  'anchor/V_seat/N',\n",
       "  'antenna/N_topper/N',\n",
       "  'anvil/N',\n",
       "  'atv/N',\n",
       "  'auto/N_store/N',\n",
       "  'auto/N_ventshade/N',\n",
       "  'automotive/J',\n",
       "  'av/N',\n",
       "  'avenger/N',\n",
       "  'bad/J_choice/N',\n",
       "  'baldor/N',\n",
       "  'bar/N_force/N',\n",
       "  'bass/N',\n",
       "  'battery/N_charger/N',\n",
       "  'bearing/N',\n",
       "  'bearing/N_buddy/N',\n",
       "  'best/J_belt/N',\n",
       "  'better/J_tie/N',\n",
       "  'binder/N',\n",
       "  'black/J_jacket/N',\n",
       "  'blazer/N',\n",
       "  'blitz/N',\n",
       "  'boat/N_cushion/N',\n",
       "  'boat/N_mirror/N',\n",
       "  'boat/N_motor/N',\n",
       "  'boat/N_trailer/N',\n",
       "  'bonnet/N',\n",
       "  'brain/N',\n",
       "  'brass/N',\n",
       "  'breath/N_deflector/N',\n",
       "  'bronco/N',\n",
       "  'buffer/N',\n",
       "  'bug/N_deflector/N',\n",
       "  'bug/N_shield/N',\n",
       "  'bugflector/N',\n",
       "  'bung/N',\n",
       "  'buy/V_charger/N',\n",
       "  'buy/V_helmet/N',\n",
       "  'buy/V_jacket/N',\n",
       "  'buy/V_shield/N',\n",
       "  'cam/N',\n",
       "  'camaro/N',\n",
       "  'camry/N',\n",
       "  'canoe/N',\n",
       "  'car/N_battery/N',\n",
       "  'car/N_charger/N',\n",
       "  'car/N_cover/N',\n",
       "  'car/N_shift/V_dog/N',\n",
       "  'car/N_wash/N',\n",
       "  'car/N_window/N',\n",
       "  'carburetor/N',\n",
       "  'carpad/N',\n",
       "  'carpad/N_liner/N',\n",
       "  'cart/N',\n",
       "  'cd/N',\n",
       "  'cd/N_holder/N',\n",
       "  'century/N',\n",
       "  'cfm/N',\n",
       "  'charge/V_battery/N',\n",
       "  'charge/V_phone/N',\n",
       "  'cheap/J_brain/N',\n",
       "  'cheap/J_helmet/N',\n",
       "  'cherokee/N',\n",
       "  'chevy/N',\n",
       "  'chin/N_bar/N',\n",
       "  'chin/N_force/N',\n",
       "  'chrome/J',\n",
       "  'classy/J',\n",
       "  'clock/N',\n",
       "  'club/N',\n",
       "  'co-worker/N',\n",
       "  'coast/N',\n",
       "  'coffee/N_maker/N',\n",
       "  'coil/N',\n",
       "  'colorado/N',\n",
       "  'come/V_garment/N',\n",
       "  'compact/J_car/N',\n",
       "  'compass/N',\n",
       "  'competetive/J',\n",
       "  'compression/N',\n",
       "  'contain/V_dirt/N',\n",
       "  'contain/V_snow/N',\n",
       "  'conversion/N',\n",
       "  'converter/N',\n",
       "  'correct/J_number/N',\n",
       "  'corrosion/N',\n",
       "  'couple/N_size/N',\n",
       "  'cr-v/N',\n",
       "  'crack/V_window/N',\n",
       "  'crc/N',\n",
       "  'creeper/N',\n",
       "  'cruiser/N',\n",
       "  'cup/N_holder/N',\n",
       "  'cupholder/N',\n",
       "  'dash/N',\n",
       "  'dashboard/N',\n",
       "  'daybreak/N',\n",
       "  'dealership/N',\n",
       "  'deflector/N',\n",
       "  'dependable/J',\n",
       "  'detailer/N',\n",
       "  'dewalt/N',\n",
       "  'digital/J_camera/N',\n",
       "  'digital/N',\n",
       "  'display/V_panel/N',\n",
       "  'documentation/N',\n",
       "  'downs/N',\n",
       "  'dozer/N',\n",
       "  'drill/N',\n",
       "  'drip/N',\n",
       "  'dual/J',\n",
       "  'dust/N_cover/N',\n",
       "  'dynomax/N',\n",
       "  'earlier/J',\n",
       "  'easy/N_installation/N',\n",
       "  'edelbrock/N',\n",
       "  'electric/N',\n",
       "  'electronics/N',\n",
       "  'engine/N',\n",
       "  'entire/J_purpose/N',\n",
       "  'exhaust/N',\n",
       "  'expedition/N',\n",
       "  'explorer/N',\n",
       "  'extang/N',\n",
       "  'fabric/N_seat/N',\n",
       "  'fast/J_cure/N',\n",
       "  'fender/N',\n",
       "  'fender/N_flare/N',\n",
       "  'fiberglass/N',\n",
       "  'fit/V_car/N',\n",
       "  'fit/V_hitch/N',\n",
       "  'fit/V_tire/N',\n",
       "  'fit/V_truck/N',\n",
       "  'fit/V_vehicle/N',\n",
       "  'fitment/N',\n",
       "  'flitz/N',\n",
       "  'flowmaster/N',\n",
       "  'fogging/N',\n",
       "  'fold/V_half/N',\n",
       "  'ford/N_explorer/N',\n",
       "  'ford/N_ranger/N',\n",
       "  'fram/N',\n",
       "  'fram/N_filter/N',\n",
       "  'fuel/N',\n",
       "  'fuel/N_leak/N',\n",
       "  'fuel/N_pump/N',\n",
       "  'fulton/N',\n",
       "  'furnace/N',\n",
       "  'fuse/N',\n",
       "  'fuse/N_holder/N',\n",
       "  'garage/N_mat/N',\n",
       "  'garbage/N_defeat/V_purpose/N',\n",
       "  'gas/N_mileage/N',\n",
       "  'gasoline/N',\n",
       "  'generator/N',\n",
       "  'genuine/J',\n",
       "  'glasspack/N',\n",
       "  'glide/V_way/N',\n",
       "  'gmc/N',\n",
       "  'good/J_quality-beware/N',\n",
       "  'gp/N',\n",
       "  'grease/N_gun/N',\n",
       "  'great/J_accord/N',\n",
       "  'great/J_muffler/N',\n",
       "  'grille/N',\n",
       "  'grille/N_guard/N',\n",
       "  'ground/N_wire/N',\n",
       "  'gt/N',\n",
       "  'guitar/N',\n",
       "  'gutter/N',\n",
       "  'hail/N',\n",
       "  'header/N',\n",
       "  'heavy-duty/J',\n",
       "  'helemt/N',\n",
       "  'helmet/N',\n",
       "  'hitachi/N',\n",
       "  'hitch/N_ball/N',\n",
       "  'hitch/N_cover/N',\n",
       "  'hitch/N_pin/N',\n",
       "  'holley/N',\n",
       "  'holley/N_avenger/N',\n",
       "  'holley/N_carb/N',\n",
       "  'holley/N_pump/N',\n",
       "  'horn/N',\n",
       "  'hp/N',\n",
       "  'hull/N',\n",
       "  'hyundai/N',\n",
       "  'idle/J',\n",
       "  'ignition/N',\n",
       "  'impact/N',\n",
       "  'impact/N_wrench/N',\n",
       "  'in-channel/J',\n",
       "  'input/N',\n",
       "  'instalation/N',\n",
       "  'install/N',\n",
       "  'installation/N_instruction/N',\n",
       "  'interface/N',\n",
       "  'international/N',\n",
       "  'inverter/N',\n",
       "  'jerry/N',\n",
       "  'jet/N_ski/N',\n",
       "  'johnson/N',\n",
       "  'jumper/N_cable/N',\n",
       "  'k&n/N',\n",
       "  'k&n/N_filter/N',\n",
       "  'kayak/N',\n",
       "  'kid-proof/V_backseat/N',\n",
       "  'kinda/N_sorta/N',\n",
       "  'knock-off/J',\n",
       "  'knock-off/J_price/N',\n",
       "  'large/J_seat/N',\n",
       "  'lava/N',\n",
       "  'leak/N_air/N',\n",
       "  'leather/N_seat/N',\n",
       "  'leave/V_streak/N',\n",
       "  'leave/V_window/N',\n",
       "  'liner/N_w/V_carpad/N',\n",
       "  'linkage/N',\n",
       "  'lund/N',\n",
       "  'makita/N',\n",
       "  'manifold/N',\n",
       "  'match/V_dad/N',\n",
       "  'mcgard/N',\n",
       "  'mechanic/N',\n",
       "  'meguiar/N',\n",
       "  'melted/J',\n",
       "  'melted/J_snow/N',\n",
       "  'mercruiser/N',\n",
       "  'milwaukee/N',\n",
       "  'model/N_number/N',\n",
       "  'mooring/N',\n",
       "  'mounting/N',\n",
       "  'mouth/N_half/N',\n",
       "  'mpg/N',\n",
       "  'msd/N',\n",
       "  'mud/N_guard/N',\n",
       "  'mud/N_scratch/N',\n",
       "  'muffler/N',\n",
       "  'multimeter/N',\n",
       "  'mustang/N',\n",
       "  'mustang/N_gt/N',\n",
       "  'navy/N',\n",
       "  'navy/N_patch/N',\n",
       "  'need/V_readjustment/N',\n",
       "  'need/V_tie/N',\n",
       "  'new/J_truck/N',\n",
       "  'ngk/N',\n",
       "  'nice/J_fit/N',\n",
       "  'nice/J_sound/N',\n",
       "  'nissan/N',\n",
       "  'no-where/J',\n",
       "  'nolan/N',\n",
       "  'northern/J_tool/N',\n",
       "  'northern/N',\n",
       "  'occidental/N',\n",
       "  'oil/N_change/N',\n",
       "  'oil/N_filter/N',\n",
       "  'old/J_pump/N',\n",
       "  'old/J_son/N',\n",
       "  'older/J_model/N',\n",
       "  'open/J_window/N',\n",
       "  'organizer/N',\n",
       "  'outboard/N',\n",
       "  'oven/N',\n",
       "  'oxidation/N',\n",
       "  'packer/N',\n",
       "  'painting/N',\n",
       "  'paw/N_scratch/N',\n",
       "  'pc/N',\n",
       "  'pet/J_cover/N',\n",
       "  'pet/N_cover/N',\n",
       "  'phone/N_charger/N',\n",
       "  'pickup/N',\n",
       "  'place/V_patch/N',\n",
       "  'plastic/J_cover/N',\n",
       "  'polisher/N',\n",
       "  'pontiac/N',\n",
       "  'porter/N_cable/N',\n",
       "  'power/N_inverter/N',\n",
       "  'power/N_supply/N',\n",
       "  'powersport/N',\n",
       "  'prep/N',\n",
       "  'product/N_fit/N',\n",
       "  'propane/N',\n",
       "  'protect/V_brain/N',\n",
       "  'protect/V_car/N',\n",
       "  'protect/V_seat/N',\n",
       "  'provide/V_power/N',\n",
       "  'psus/N',\n",
       "  'pt/N',\n",
       "  'purchase/V_mat/N',\n",
       "  'purchase/V_muffler/N',\n",
       "  'purchase/V_plug/N',\n",
       "  'pwc/N',\n",
       "  'quality-beware/N',\n",
       "  'quick/J_hitch/N',\n",
       "  'radiator/N',\n",
       "  'radio/N_shack/N',\n",
       "  'rainy/J_day/N',\n",
       "  'ram/N',\n",
       "  'ran/N',\n",
       "  'ranger/N',\n",
       "  'readjustment/N',\n",
       "  'rear/N',\n",
       "  'rebuild/V_kit/N',\n",
       "  'registration/N',\n",
       "  'replace/V_light/N',\n",
       "  'replacment/N',\n",
       "  'ribbed/J',\n",
       "  'rifle/N',\n",
       "  'roadside/N',\n",
       "  'roadside/N_kit/N',\n",
       "  'roll/V_window/N',\n",
       "  'rothco/N',\n",
       "  'rothco/N_garment/N',\n",
       "  'rough/J_idea/N',\n",
       "  'rpm/N',\n",
       "  'rusting/J',\n",
       "  'saddle/N',\n",
       "  'salt/N_water/N',\n",
       "  'satellite/N',\n",
       "  'saturn/N',\n",
       "  'scraper/N',\n",
       "  'sears/N',\n",
       "  'seat/N_cover/N',\n",
       "  'service/N_center/N',\n",
       "  'service/N_patch/N',\n",
       "  'shift/V_dog/N',\n",
       "  'shurhold/N',\n",
       "  'sierra/N',\n",
       "  'silencer/N',\n",
       "  'silverado/N',\n",
       "  'sine/N',\n",
       "  'ski/N',\n",
       "  'slick/J_underside/N',\n",
       "  'small/J_unit/N',\n",
       "  'solar/J',\n",
       "  'solenoid/N',\n",
       "  'spare/J_tire/N',\n",
       "  'spark/V_plug/N',\n",
       "  'spindle/N',\n",
       "  'spout/N',\n",
       "  'stainless/J_screw/N',\n",
       "  'standard/J_height/N',\n",
       "  'start/V_car/N',\n",
       "  'step/N_bar/N',\n",
       "  'stereo/N',\n",
       "  'stock/N_muffler/N',\n",
       "  'stocking/N',\n",
       "  'storage/N_shed/N',\n",
       "  'stove/N',\n",
       "  'stripe/N',\n",
       "  'suburban/J',\n",
       "  'sunroof/N',\n",
       "  'super/J_shipping/N',\n",
       "  'superwinch/N',\n",
       "  'tach/N',\n",
       "  'tacoma/N',\n",
       "  'tahoe/N',\n",
       "  'tail/N_light/N',\n",
       "  'taiwan/N',\n",
       "  'tall/J_year/N',\n",
       "  'tarp/N',\n",
       "  'taurus/N',\n",
       "  'technical/J',\n",
       "  'telephone/N',\n",
       "  'telescoping/N',\n",
       "  'theft/N',\n",
       "  'thief/N',\n",
       "  'throttle/N',\n",
       "  'thule/N',\n",
       "  'tire/N_cover/N',\n",
       "  'tire/N_gauge/N',\n",
       "  'tire/N_spoon/N',\n",
       "  'tonneau/N',\n",
       "  'tool/N_belt/N',\n",
       "  'toolbox/N',\n",
       "  'topper/N',\n",
       "  'torin/N',\n",
       "  'torque/N_wrench/N',\n",
       "  'torx/N',\n",
       "  'toyota/N',\n",
       "  'trac/N',\n",
       "  'tracker/N',\n",
       "  'trailer/N_cover/N',\n",
       "  'trailer/N_hitch/N',\n",
       "  'trans/J',\n",
       "  'transfer/N_switch/N',\n",
       "  'transmission/N',\n",
       "  'transom/N',\n",
       "  'travel/N_trailer/N',\n",
       "  'trio/N',\n",
       "  'tripp/N',\n",
       "  'truck/N_look/N',\n",
       "  'tundra/N',\n",
       "  'turbo/N',\n",
       "  'uncle/N',\n",
       "  'unhappy/J_look/N',\n",
       "  'universal/N',\n",
       "  'usaf/N',\n",
       "  'usaf/N_service/N',\n",
       "  'usb/J',\n",
       "  'use/V_cable/N',\n",
       "  'use/V_model/N',\n",
       "  'use/V_tube/N',\n",
       "  'use/V_wrench/N',\n",
       "  'valve/N_allow/V_fuel/N',\n",
       "  'vector/N',\n",
       "  'vent/V_shade/N',\n",
       "  'vent/V_shades/N',\n",
       "  'vent/V_visor/N',\n",
       "  'ventshade/N',\n",
       "  'ventshade/N_ventvisor/N',\n",
       "  'ventshade/N_visor/N',\n",
       "  'ventvisor/N',\n",
       "  'visor/N',\n",
       "  'visor/N_air/N',\n",
       "  'vue/N',\n",
       "  'w/V_carpad/N',\n",
       "  'warn/N',\n",
       "  'water/N_spot/N',\n",
       "  'watt/N_generator/N',\n",
       "  'watt/N_inverter/N',\n",
       "  'webbing/N',\n",
       "  'weird/J_bag/N',\n",
       "  'welding/N',\n",
       "  'westin/N',\n",
       "  'wheel/N_cover/N',\n",
       "  'winch/N',\n",
       "  'wind/N_noise/N',\n",
       "  'window/N_channel/N',\n",
       "  'window/N_vent/N',\n",
       "  'window/N_visor/N',\n",
       "  'windshield/N',\n",
       "  'wise/J_size/N',\n",
       "  'wool/N',\n",
       "  'wrangler/N',\n",
       "  'xantrex/N',\n",
       "  'yakima/N',\n",
       "  'yamaha/N',\n",
       "  'youngest/J_daughter/N'},\n",
       " 459)"
      ]
     },
     "execution_count": 265,
     "metadata": {},
     "output_type": "execute_result"
    }
   ],
   "source": [
    "orig_lo_automotive = lo_automotive.copy()\n",
    "lo_automotive[np.asarray(X.sum(axis=0)).ravel() < 5] = 0 # de-select infreq features\n",
    "# lets look at the informative features\n",
    "inv_vocab = {v:k for k,v in vocab.items()}\n",
    "good_feats_idx = np.where(lo_automotive>10)[0] # index of 100 most informative features (either for or against automotive)\n",
    "good_feats = set(str(inv_vocab[idx]) for idx in good_feats_idx)\n",
    "good_feats, len(good_feats)"
   ]
  },
  {
   "cell_type": "code",
   "execution_count": 330,
   "metadata": {
    "collapsed": false
   },
   "outputs": [],
   "source": [
    "v1 = Vectors.from_tsv('../FeatureExtractionToolkit/word2vec_vectors/composed/AN_NN_word2vec-wiki_15percent-rep0_Add.events.filtered.strings', allow_lexical_overlap=False)\n",
    "v2 = Vectors.from_tsv('../FeatureExtractionToolkit/word2vec_vectors/composed/AN_NN_word2vec-wiki_50percent-rep0_Add.events.filtered.strings', allow_lexical_overlap=False)\n",
    "v3 = Vectors.from_tsv('../FeatureExtractionToolkit/word2vec_vectors/composed/AN_NN_word2vec-gigaw_100percent-rep0_Add.events.filtered.strings', allow_lexical_overlap=False)"
   ]
  },
  {
   "cell_type": "code",
   "execution_count": 329,
   "metadata": {
    "collapsed": true
   },
   "outputs": [],
   "source": [
    "v4 = Vectors.from_tsv('../FeatureExtractionToolkit/exp10-13-composed-ngrams/AN_NN_gigaw-100_Baroni.events.filtered.strings', allow_lexical_overlap=False)\n",
    "v5 = Vectors.from_tsv('../FeatureExtractionToolkit/exp10-13-composed-ngrams/AN_NN_gigaw-100_Add.events.filtered.strings', allow_lexical_overlap=False)"
   ]
  },
  {
   "cell_type": "code",
   "execution_count": 328,
   "metadata": {
    "collapsed": true
   },
   "outputs": [],
   "source": [
    "v6 = Vectors.from_tsv('../FeatureExtractionToolkit/glove/AN_NN_glove-wiki_Add.events.filtered.strings', allow_lexical_overlap=False)"
   ]
  },
  {
   "cell_type": "code",
   "execution_count": 331,
   "metadata": {
    "collapsed": false
   },
   "outputs": [],
   "source": [
    "def evaluate(v):\n",
    "    phrases = [str(s) for s in vocab.keys()]\n",
    "    v.init_sims(vocab=phrases, n_neighbors=5) # 1000\n",
    "    \n",
    "    # test 1- set overlap of good neighbours\n",
    "    lengths = []\n",
    "    for feat in good_feats:\n",
    "        neigh = v.get_nearest_neighbours(feat)\n",
    "        if neigh:\n",
    "            neigh = set(x[0] for x in neigh)\n",
    "            inters = neigh.intersection(good_feats)\n",
    "            lengths.append(len(inters))\n",
    "    #         print(feat, 'inters', inters)\n",
    "    #     else:\n",
    "    #         print('no neigh for', feat)\n",
    "    print('mean overlap', np.mean(lengths))\n",
    "    \n",
    "    # test 2- how many good feats get messed up\n",
    "    data = []\n",
    "    for feat in good_feats:\n",
    "        neigh = v.get_nearest_neighbours(feat)\n",
    "        if neigh:\n",
    "            neigh = set(x[0] for x in neigh[:3])\n",
    "            data.append([lo_automotive[vocab[feat]]] + [orig_lo_automotive[vocab[n]] for n in neigh])\n",
    "    #         print(, '-->', ','.join('%1.1f'%))\n",
    "    df = pd.DataFrame(data, columns=['orig', 'r1', 'r2', 'r3'])\n",
    "    # plt.hist(df[[1,2,3]].sum(axis=1));\n",
    "    # df.apply(pd.Series.round)\n",
    "    flat = df[[1,2,3]].values.flat\n",
    "#     plt.hist(flat, bins=31);\n",
    "    print('positive feats getting mangled:', \n",
    "          np.count_nonzero(flat < 0)/len(flat), \n",
    "          np.count_nonzero(flat > 0)/len(flat))\n",
    "#     ,np.count_nonzero(flat > 10)/len(flat))"
   ]
  },
  {
   "cell_type": "code",
   "execution_count": 332,
   "metadata": {
    "collapsed": false
   },
   "outputs": [
    {
     "name": "stdout",
     "output_type": "stream",
     "text": [
      "mean overlap 0.245398773006\n",
      "positive feats getting mangled: 0.38445807770961143 0.45194274028629855\n"
     ]
    }
   ],
   "source": [
    "evaluate(v3)"
   ]
  },
  {
   "cell_type": "code",
   "execution_count": 333,
   "metadata": {
    "collapsed": false
   },
   "outputs": [
    {
     "name": "stdout",
     "output_type": "stream",
     "text": [
      "mean overlap 0.242677824268\n",
      "positive feats getting mangled: 0.33751743375174337 0.4909344490934449\n"
     ]
    }
   ],
   "source": [
    "evaluate(v1)"
   ]
  },
  {
   "cell_type": "code",
   "execution_count": 334,
   "metadata": {
    "collapsed": false
   },
   "outputs": [
    {
     "name": "stdout",
     "output_type": "stream",
     "text": [
      "mean overlap 0.192771084337\n",
      "positive feats getting mangled: 0.3654618473895582 0.46586345381526106\n"
     ]
    }
   ],
   "source": [
    "evaluate(v2)"
   ]
  },
  {
   "cell_type": "code",
   "execution_count": 335,
   "metadata": {
    "collapsed": false
   },
   "outputs": [
    {
     "name": "stdout",
     "output_type": "stream",
     "text": [
      "mean overlap 0.153284671533\n",
      "positive feats getting mangled: 0.5474452554744526 0.36739659367396593\n"
     ]
    }
   ],
   "source": [
    "evaluate(v4)"
   ]
  },
  {
   "cell_type": "code",
   "execution_count": 336,
   "metadata": {
    "collapsed": false
   },
   "outputs": [
    {
     "name": "stdout",
     "output_type": "stream",
     "text": [
      "mean overlap 0.0888888888889\n",
      "positive feats getting mangled: 0.5370370370370371 0.35\n"
     ]
    }
   ],
   "source": [
    "evaluate(v5)"
   ]
  },
  {
   "cell_type": "code",
   "execution_count": 337,
   "metadata": {
    "collapsed": false
   },
   "outputs": [
    {
     "name": "stdout",
     "output_type": "stream",
     "text": [
      "mean overlap 0.228571428571\n",
      "positive feats getting mangled: 0.4326530612244898 0.4204081632653061\n"
     ]
    }
   ],
   "source": [
    "evaluate(v6)"
   ]
  },
  {
   "cell_type": "code",
   "execution_count": 338,
   "metadata": {
    "collapsed": false
   },
   "outputs": [
    {
     "data": {
      "text/plain": [
       "(2000, 47370)"
      ]
     },
     "execution_count": 338,
     "metadata": {},
     "output_type": "execute_result"
    }
   ],
   "source": [
    "X.shape"
   ]
  },
  {
   "cell_type": "code",
   "execution_count": 144,
   "metadata": {
    "collapsed": false
   },
   "outputs": [
    {
     "data": {
      "text/plain": [
       "0.95700000000000007"
      ]
     },
     "execution_count": 144,
     "metadata": {},
     "output_type": "execute_result"
    }
   ],
   "source": [
    "from sklearn.naive_bayes import MultinomialNB\n",
    "from sklearn.metrics import accuracy_score\n",
    "from sklearn.cross_validation import cross_val_score\n",
    "cross_val_score(MultinomialNB(alpha=0.001), X, ytr, cv=10).mean()\n",
    "# clf = MultinomialNB(alpha=0.001).fit(X,ytr)\n",
    "# accuracy_score(clf.predict(X), ytr)"
   ]
  },
  {
   "cell_type": "code",
   "execution_count": 312,
   "metadata": {
    "collapsed": false
   },
   "outputs": [
    {
     "data": {
      "text/plain": [
       "{'Automotive', 'NotAutomotiv'}"
      ]
     },
     "execution_count": 312,
     "metadata": {},
     "output_type": "execute_result"
    }
   ],
   "source": [
    "set(ytr)"
   ]
  },
  {
   "cell_type": "code",
   "execution_count": 355,
   "metadata": {
    "collapsed": true
   },
   "outputs": [],
   "source": [
    "v1.init_sims(vocab=phrases, n_neighbors=5)\n",
    "v4.init_sims(vocab=phrases, n_neighbors=5)\n",
    "v6.init_sims(vocab=phrases, n_neighbors=5)"
   ]
  },
  {
   "cell_type": "code",
   "execution_count": 364,
   "metadata": {
    "collapsed": false,
    "scrolled": false
   },
   "outputs": [
    {
     "name": "stdout",
     "output_type": "stream",
     "text": [
      "air/N_compressor/N\n",
      "[]\n",
      "-\n",
      "[('current/J_emblem/N', 0.14328260125964493), ('small/J_child/N', 0.14330716544783453), ('small/J_battery/N', 0.14375416895491175), ('free/J_odor/N', 0.14559089092411068)]\n",
      "-\n",
      "[]\n",
      "-\n",
      "###########\n",
      "oil/N_filter/N\n",
      "[]\n",
      "-\n",
      "[('largest/J_gal/N', 0.61409617295122132), ('second/J_bottle/N', 0.64371820717524608), ('small/J_box/N', 0.64522997753074474), ('largest/J_cage/N', 0.65401134595686405)]\n",
      "-\n",
      "[]\n",
      "-\n",
      "###########\n",
      "air/N_tool/N\n",
      "[('drill/N_application/N', 2.1884428251337433), ('quality/J_unit/N', 2.2096513187445836), ('installation/N', 2.2788144703413837)]\n",
      "-\n",
      "[('high/J_cost/N', 3.9389314543953415), ('total/J_improvement/N', 4.0662816128339108), ('new/J_food/N', 4.1353486251294589)]\n",
      "-\n",
      "[]\n",
      "-\n",
      "###########\n",
      "oil/N_change/N\n",
      "[]\n",
      "-\n",
      "[('major/J_emergency/N', 23.896164182794973), ('major/J_difference/N', 25.501486647651149), ('early/J_relationship/N', 29.773893658386079)]\n",
      "-\n",
      "[]\n",
      "-\n",
      "###########\n",
      "cup/N_holder/N\n",
      "[]\n",
      "-\n",
      "[('market/N_brand/N', 2.6322780023647301), ('second/J_game/N', 2.7303761710690231), ('current/J_experience/N', 2.9366969021320544), ('second/J_copy/N', 2.9420239814640774), ('daily/J_med/N', 2.9533095956612567)]\n",
      "-\n",
      "[]\n",
      "-\n",
      "###########\n",
      "northern/J_tool/N\n",
      "[('southern/J', 2.4565444012060498), ('western/J', 2.4627293966274948)]\n",
      "-\n",
      "[('local/J_wal-mart/N', 0.93576080481891466), ('military/J_tag/N', 0.94354999354302482), ('small/J_tree/N', 0.94738605926808561), ('free/J_leak/N', 0.94775212693157607), ('small/J_escape/N', 0.95011005701966733)]\n",
      "-\n",
      "[]\n",
      "-\n",
      "###########\n",
      "small/J_unit/N\n",
      "[]\n",
      "-\n",
      "[('strong/J_force/N', 0.0061282707272154726), ('possible/J_use/N', 0.0082094982855224451), ('good/J_match/N', 0.010498618515153465), ('high/J_altitude/N', 0.010884560800473118), ('good/J_order/N', 0.010978093328413154)]\n",
      "-\n",
      "[]\n",
      "-\n",
      "###########\n",
      "new/J_truck/N\n",
      "[]\n",
      "-\n",
      "[('human/J_toddler/N', 0.28898630962051031)]\n",
      "-\n",
      "[]\n",
      "-\n",
      "###########\n"
     ]
    }
   ],
   "source": [
    "# for v in [v1,v2,v3,v4,v5,v6]:\n",
    "v1.allow_lexical_overlap = True\n",
    "\n",
    "    \n",
    "for feat in good_feats:\n",
    "    if all(feat in v for v in [v1, v4, v6]):\n",
    "        if not feat.count('_'):\n",
    "            continue\n",
    "        print(feat)\n",
    "        for v in [v1, v4, v6]:\n",
    "            print(v.get_nearest_neighbours(feat))\n",
    "            print('-')\n",
    "        print('###########')"
   ]
  },
  {
   "cell_type": "code",
   "execution_count": null,
   "metadata": {
    "collapsed": true
   },
   "outputs": [],
   "source": []
  }
 ],
 "metadata": {
  "kernelspec": {
   "display_name": "Python 3",
   "language": "python",
   "name": "python3"
  },
  "language_info": {
   "codemirror_mode": {
    "name": "ipython",
    "version": 3
   },
   "file_extension": ".py",
   "mimetype": "text/x-python",
   "name": "python",
   "nbconvert_exporter": "python",
   "pygments_lexer": "ipython3",
   "version": "3.4.3"
  }
 },
 "nbformat": 4,
 "nbformat_minor": 0
}
