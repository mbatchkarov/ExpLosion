{
 "cells": [
  {
   "cell_type": "markdown",
   "metadata": {},
   "source": [
    "Distribution of MI scores of entries in several thesauri. Do thesauri just happen to contain better features?"
   ]
  },
  {
   "cell_type": "code",
   "execution_count": 1,
   "metadata": {
    "collapsed": false
   },
   "outputs": [
    {
     "name": "stdout",
     "output_type": "stream",
     "text": [
      "/Users/miroslavbatchkarov/NetBeansProjects/thesisgenerator\n"
     ]
    }
   ],
   "source": [
    "%cd ~/NetBeansProjects/thesisgenerator/\n",
    "from thesisgenerator.utils.conf_file_utils import parse_config_file\n",
    "from thesisgenerator.utils.data_utils import get_tokenized_data, get_tokenizer_settings_from_conf\n",
    "from thesisgenerator.plugins.bov import ThesaurusVectorizer\n",
    "from discoutils.thesaurus_loader import Vectors\n",
    "from sklearn.feature_selection import f_classif, chi2\n",
    "import numpy as np\n",
    "import seaborn as sns\n",
    "import matplotlib.pylab as plt\n",
    "from thesisgenerator.utils.misc import calculate_log_odds\n",
    "from scipy.sparse import csr_matrix\n",
    "%matplotlib inline"
   ]
  },
  {
   "cell_type": "code",
   "execution_count": 2,
   "metadata": {
    "collapsed": false
   },
   "outputs": [],
   "source": [
    "conf, configspec_file = parse_config_file('conf/exp1/exp1_base.conf')\n",
    "tr_data = conf['training_data'] + '.gz'\n",
    "xtr, ytr, _, _ = get_tokenized_data(tr_data,\n",
    "                                        get_tokenizer_settings_from_conf(conf))\n",
    "\n",
    "X, vocab = ThesaurusVectorizer(min_df=0).fit_transform(xtr)"
   ]
  },
  {
   "cell_type": "code",
   "execution_count": 3,
   "metadata": {
    "collapsed": true
   },
   "outputs": [],
   "source": [
    "fvalues, pvalues = f_classif(X, ytr)"
   ]
  },
  {
   "cell_type": "code",
   "execution_count": 4,
   "metadata": {
    "collapsed": false
   },
   "outputs": [],
   "source": [
    "scores = {}\n",
    "paths = ['../FeatureExtractionToolkit/exp10-13-composed-ngrams/AN_NN_gigaw-100_Baroni.events.filtered.strings',\n",
    "        '../FeatureExtractionToolkit/exp10-13-composed-ngrams/AN_NN_gigaw-100_Add.events.filtered.strings',\n",
    "        '../FeatureExtractionToolkit/exp10-13-composed-ngrams/AN_NN_gigaw-100_Left.events.filtered.strings',\n",
    "        '../FeatureExtractionToolkit/exp10-13-composed-ngrams/AN_NN_gigaw-100_Right.events.filtered.strings']\n",
    "for path in paths:\n",
    "    v = Vectors.from_tsv(path)\n",
    "    scores_this_composer = []\n",
    "    for i, (df, idx) in enumerate(vocab.items()):\n",
    "        if df in v:\n",
    "            scores_this_composer.append(fvalues[idx])\n",
    "    scores[path] = scores_this_composer"
   ]
  },
  {
   "cell_type": "code",
   "execution_count": 5,
   "metadata": {
    "collapsed": false
   },
   "outputs": [
    {
     "data": {
      "image/png": "[encoded data removed]",
      "text/plain": [
       "<matplotlib.figure.Figure at 0x1049a7ad0>"
      ]
     },
     "metadata": {},
     "output_type": "display_data"
    }
   ],
   "source": [
    "f, axes = plt.subplots(2, 2, sharey=True, sharex=True)\n",
    "names, colors = 'BALR', 'rgbc'\n",
    "for i, (_, vals) in enumerate(scores.items()):\n",
    "    axes.flat[i].hist(vals, bins=20, alpha=.3, color=colors[i]);\n",
    "    axes.flat[i].set_title(names[i])\n",
    "plt.savefig('midist.pdf', format='pdf')"
   ]
  },
  {
   "cell_type": "code",
   "execution_count": 6,
   "metadata": {
    "collapsed": false
   },
   "outputs": [
    {
     "data": {
      "text/plain": [
       "(array([ inf,   1.,   1.,  inf]),\n",
       " array([ 0.        ,  0.42264973,  0.42264973,  0.        ]))"
      ]
     },
     "execution_count": 6,
     "metadata": {},
     "output_type": "execute_result"
    }
   ],
   "source": [
    "X1 = [\n",
    "        [1, 1, 0, 0],\n",
    "        [1, 1, 1, 0],\n",
    "        [0, 1, 1, 1],\n",
    "        [0, 0, 1, 1],\n",
    "    ]\n",
    "y1 = np.array([0, 0, 1, 1])\n",
    "f_classif(X1, y1)"
   ]
  },
  {
   "cell_type": "code",
   "execution_count": 7,
   "metadata": {
    "collapsed": false
   },
   "outputs": [
    {
     "data": {
      "text/plain": [
       "array([ 14.50865824,   0.69314668,  -0.69314668, -14.50865824])"
      ]
     },
     "execution_count": 7,
     "metadata": {},
     "output_type": "execute_result"
    }
   ],
   "source": [
    "calculate_log_odds(csr_matrix(X1), y1)"
   ]
  },
  {
   "cell_type": "markdown",
   "metadata": {},
   "source": [
    "# what happens to good classifier features when redirected through a thesaurus"
   ]
  },
  {
   "cell_type": "code",
   "execution_count": 8,
   "metadata": {
    "collapsed": false
   },
   "outputs": [
    {
     "name": "stdout",
     "output_type": "stream",
     "text": [
      "shape is (79800, 879546)\n"
     ]
    },
    {
     "data": {
      "image/png": "[encoded data removed]",
      "text/plain": [
       "<matplotlib.figure.Figure at 0x10200e150>"
      ]
     },
     "metadata": {},
     "output_type": "display_data"
    }
   ],
   "source": [
    "# are very informative features (ones strongly associated with class C)\n",
    "# replaced by other informative feats or not?\n",
    "print('shape is', X.shape)\n",
    "a, b = chi2(X, ytr) # small values of A mean informative features\n",
    "plt.hist(a, bins=20);"
   ]
  },
  {
   "cell_type": "code",
   "execution_count": 9,
   "metadata": {
    "collapsed": false
   },
   "outputs": [
    {
     "name": "stdout",
     "output_type": "stream",
     "text": [
      "CPU times: user 1.22 s, sys: 8.99 ms, total: 1.23 s\n",
      "Wall time: 1.23 s\n"
     ]
    }
   ],
   "source": [
    "ytr[ytr != 'Automotive'] = 'NotAutomotive' # lo_score assumes two classes, let's make it that was\n",
    "# pre-select features using chi2 (much faster, but selects both positive and negative features)\n",
    "premask, _ = chi2(X, ytr)\n",
    "premask = np.argsort(premask)[:1000]\n",
    "%time lo_automotive = calculate_log_odds(X, ytr, column_indices=premask)"
   ]
  },
  {
   "cell_type": "code",
   "execution_count": 10,
   "metadata": {
    "collapsed": false
   },
   "outputs": [
    {
     "data": {
      "text/plain": [
       "27100.934131930349"
      ]
     },
     "execution_count": 10,
     "metadata": {},
     "output_type": "execute_result"
    },
    {
     "data": {
      "image/png": "[encoded data removed]",
      "text/plain": [
       "<matplotlib.figure.Figure at 0x165b228d0>"
      ]
     },
     "metadata": {},
     "output_type": "display_data"
    }
   ],
   "source": [
    "plt.hist(lo_automotive, bins=20);\n",
    "max(lo_automotive)"
   ]
  },
  {
   "cell_type": "code",
   "execution_count": 16,
   "metadata": {
    "collapsed": false,
    "scrolled": true
   },
   "outputs": [
    {
     "data": {
      "text/plain": [
       "{'back-up/N',\n",
       " 'bandanna/N',\n",
       " 'basic/J_cover/N',\n",
       " 'blink/N',\n",
       " 'brand-new/J',\n",
       " 'control/N_knob/N',\n",
       " 'corp/N',\n",
       " 'cut/V_inch/N',\n",
       " 'day/N_light/N',\n",
       " 'flexible/J_hose/N',\n",
       " 'fr/N',\n",
       " 'hard/J_shell/N',\n",
       " 'hazy/J',\n",
       " 'help/V_issue/N',\n",
       " 'ho/N',\n",
       " 'little/J_lift/N',\n",
       " 'longer/J_length/N',\n",
       " 'low/J_grade/N',\n",
       " 'match/V_photo/N',\n",
       " 'metal/N_pipe/N',\n",
       " 'mildew/N_smell/N',\n",
       " 'nfl/N',\n",
       " 'oct/N',\n",
       " 'order/V_right/N',\n",
       " 'particulate/N',\n",
       " 'pice/N',\n",
       " 'plastic/J_foot/N',\n",
       " 'portable/J_player/N',\n",
       " 'pre-filter/J',\n",
       " 'raise/N',\n",
       " 'raise/V_child/N',\n",
       " 'receive/V_ball/N',\n",
       " 'run/V_house/N',\n",
       " 'screw-in/J',\n",
       " 'shiping/N',\n",
       " 'status/N',\n",
       " 'tight/J_water/N',\n",
       " 'unavoidable/J',\n",
       " 'unreal/J',\n",
       " 'wwii/N'}"
      ]
     },
     "execution_count": 16,
     "metadata": {},
     "output_type": "execute_result"
    }
   ],
   "source": [
    "lo_automotive[np.asarray(X.sum(axis=0)).ravel() < 5] = 0 # de-select infreq features\n",
    "# lets look at the informative features\n",
    "inv_vocab = {v:k for k,v in vocab.items()}\n",
    "good_feats_idx = np.argsort(lo_automotive)[:40] # index of 100 most informative features (either for or against automotive)\n",
    "good_feats = set(str(inv_vocab[idx]) for idx in good_feats_idx)\n",
    "good_feats"
   ]
  },
  {
   "cell_type": "code",
   "execution_count": 12,
   "metadata": {
    "collapsed": false
   },
   "outputs": [],
   "source": [
    "v = Vectors.from_tsv('../FeatureExtractionToolkit/word2vec_vectors/composed/AN_NN_word2vec-wiki_15percent-rep0_Add.events.filtered.strings')"
   ]
  },
  {
   "cell_type": "code",
   "execution_count": 17,
   "metadata": {
    "collapsed": false
   },
   "outputs": [],
   "source": [
    "phrases = [str(s) for s in vocab.keys()]\n",
    "v.init_sims(vocab=phrases, n_neighbors=len(good_feats_idx))"
   ]
  },
  {
   "cell_type": "code",
   "execution_count": 18,
   "metadata": {
    "collapsed": false
   },
   "outputs": [
    {
     "name": "stdout",
     "output_type": "stream",
     "text": [
      "0.0\n"
     ]
    }
   ],
   "source": [
    "lengths = []\n",
    "for feat in good_feats:\n",
    "    neigh = v.get_nearest_neighbours(feat)\n",
    "    if neigh:\n",
    "        neigh = set(x[0] for x in neigh)\n",
    "        inters = neigh.intersection(good_feats)\n",
    "        lengths.append(len(inters))\n",
    "#         print(feat, 'inters', inters)\n",
    "#     else:\n",
    "#         print('no neigh for', feat)\n",
    "print(np.mean(lengths))"
   ]
  },
  {
   "cell_type": "code",
   "execution_count": 15,
   "metadata": {
    "collapsed": false
   },
   "outputs": [
    {
     "data": {
      "text/plain": [
       "(79800, 879546)"
      ]
     },
     "execution_count": 15,
     "metadata": {},
     "output_type": "execute_result"
    }
   ],
   "source": [
    "X.shape"
   ]
  },
  {
   "cell_type": "code",
   "execution_count": null,
   "metadata": {
    "collapsed": true
   },
   "outputs": [],
   "source": []
  }
 ],
 "metadata": {
  "kernelspec": {
   "display_name": "Python 3",
   "language": "python",
   "name": "python3"
  },
  "language_info": {
   "codemirror_mode": {
    "name": "ipython",
    "version": 3
   },
   "file_extension": ".py",
   "mimetype": "text/x-python",
   "name": "python",
   "nbconvert_exporter": "python",
   "pygments_lexer": "ipython3",
   "version": "3.3.5"
  }
 },
 "nbformat": 4,
 "nbformat_minor": 0
}
