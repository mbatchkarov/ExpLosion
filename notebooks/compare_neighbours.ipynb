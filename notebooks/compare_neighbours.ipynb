{
 "cells": [
  {
   "cell_type": "code",
   "execution_count": 1,
   "metadata": {
    "collapsed": false
   },
   "outputs": [
    {
     "name": "stdout",
     "output_type": "stream",
     "text": [
      "/Volumes/LocalDataHD/m/mm/mmb28/NetBeansProjects/ExpLosion\n"
     ]
    }
   ],
   "source": [
    "%cd ~/NetBeansProjects/ExpLosion/\n",
    "from notebooks.common_imports import *\n",
    "import logging\n",
    "import pandas as pd\n",
    "logging.basicConfig(level=logging.INFO,\n",
    "                        format=\"%(asctime)s\\t%(module)s.%(funcName)s \"\"\"\n",
    "                               \"(line %(lineno)d)\\t%(levelname)s : %(\"\"message)s\")\n",
    "from discoutils.thesaurus_loader import Vectors"
   ]
  },
  {
   "cell_type": "code",
   "execution_count": 2,
   "metadata": {
    "collapsed": false
   },
   "outputs": [],
   "source": [
    "path = '/home/m/mm/mmb28/Desktop/down/exp10-with-obs-phrases-SVD100.events.filtered.strings'\n",
    "v = Vectors.from_tsv(path)\n",
    "v.init_sims()"
   ]
  },
  {
   "cell_type": "code",
   "execution_count": 3,
   "metadata": {
    "collapsed": true
   },
   "outputs": [],
   "source": [
    "path = '/home/m/mm/mmb28/Desktop/down/word2vec-gigaw-100perc.unigr.strings.rep0'\n",
    "w2v = Vectors.from_tsv(path)\n",
    "w2v.init_sims()"
   ]
  },
  {
   "cell_type": "code",
   "execution_count": 4,
   "metadata": {
    "collapsed": false
   },
   "outputs": [
    {
     "data": {
      "text/html": [
       "<div style=\"max-height:1000px;max-width:1500px;overflow:auto;\">\n",
       "<table border=\"1\" class=\"dataframe\">\n",
       "  <thead>\n",
       "    <tr style=\"text-align: right;\">\n",
       "      <th></th>\n",
       "      <th>wins</th>\n",
       "      <th>w2v</th>\n",
       "    </tr>\n",
       "  </thead>\n",
       "  <tbody>\n",
       "    <tr>\n",
       "      <th>attack/V</th>\n",
       "      <td>raid/N, assault/N, firing/N, shell/V</td>\n",
       "      <td>target/V, use/V, abandon/V, harkatul/N</td>\n",
       "    </tr>\n",
       "    <tr>\n",
       "      <th>small/J</th>\n",
       "      <td>large/J, huge/J, place/V, damage/V</td>\n",
       "      <td>large/J, eclectic/J, huge/J, cellphone/N</td>\n",
       "    </tr>\n",
       "    <tr>\n",
       "      <th>car/N</th>\n",
       "      <td>vehicle/N, truck/N, bus/N, driver/N</td>\n",
       "      <td>scooter/N, truck/N, vehicle/N, showroom/N</td>\n",
       "    </tr>\n",
       "    <tr>\n",
       "      <th>computer/N</th>\n",
       "      <td>software/N, technology/N, internet/N, video/N</td>\n",
       "      <td>software/N, photocopier/N, electronic/J, high-...</td>\n",
       "    </tr>\n",
       "    <tr>\n",
       "      <th>official/N</th>\n",
       "      <td>source/N, statement/N, ministry/N, authority/N</td>\n",
       "      <td>expert/N, diplomat/N, offical/N, source/N</td>\n",
       "    </tr>\n",
       "    <tr>\n",
       "      <th>monday/N</th>\n",
       "      <td>tuesday/N, thursday/N, wednesday/N, friday/N</td>\n",
       "      <td>thursday/N, wednesday/N, tuesday/N, friday/N</td>\n",
       "    </tr>\n",
       "    <tr>\n",
       "      <th>arafat/N</th>\n",
       "      <td>yasser/N, netanyahu/N, plo/N, rabin/N</td>\n",
       "      <td>israel/N, sharon/N, palestinian/J, yasser/N</td>\n",
       "    </tr>\n",
       "    <tr>\n",
       "      <th>kill/V</th>\n",
       "      <td>dead/J, die/V, injure/V, wound/V</td>\n",
       "      <td>injure/V, dead/J, wound/V, policeman/N</td>\n",
       "    </tr>\n",
       "  </tbody>\n",
       "</table>\n",
       "</div>"
      ],
      "text/plain": [
       "                                                      wins  \\\n",
       "attack/V              raid/N, assault/N, firing/N, shell/V   \n",
       "small/J                 large/J, huge/J, place/V, damage/V   \n",
       "car/N                  vehicle/N, truck/N, bus/N, driver/N   \n",
       "computer/N   software/N, technology/N, internet/N, video/N   \n",
       "official/N  source/N, statement/N, ministry/N, authority/N   \n",
       "monday/N      tuesday/N, thursday/N, wednesday/N, friday/N   \n",
       "arafat/N             yasser/N, netanyahu/N, plo/N, rabin/N   \n",
       "kill/V                    dead/J, die/V, injure/V, wound/V   \n",
       "\n",
       "                                                          w2v  \n",
       "attack/V               target/V, use/V, abandon/V, harkatul/N  \n",
       "small/J              large/J, eclectic/J, huge/J, cellphone/N  \n",
       "car/N               scooter/N, truck/N, vehicle/N, showroom/N  \n",
       "computer/N  software/N, photocopier/N, electronic/J, high-...  \n",
       "official/N          expert/N, diplomat/N, offical/N, source/N  \n",
       "monday/N         thursday/N, wednesday/N, tuesday/N, friday/N  \n",
       "arafat/N          israel/N, sharon/N, palestinian/J, yasser/N  \n",
       "kill/V                 injure/V, dead/J, wound/V, policeman/N  "
      ]
     },
     "execution_count": 4,
     "metadata": {},
     "output_type": "execute_result"
    }
   ],
   "source": [
    "compare_neighbours([v, w2v], \n",
    "        ['wins', 'w2v'], \n",
    "        ['attack/V', 'small/J', 'car/N', 'computer/N', 'official/N', 'monday/N', 'arafat/N', 'kill/V'])"
   ]
  },
  {
   "cell_type": "code",
   "execution_count": 5,
   "metadata": {
    "collapsed": false
   },
   "outputs": [
    {
     "data": {
      "text/html": [
       "<div style=\"max-height:1000px;max-width:1500px;overflow:auto;\">\n",
       "<table border=\"1\" class=\"dataframe\">\n",
       "  <thead>\n",
       "    <tr style=\"text-align: right;\">\n",
       "      <th></th>\n",
       "      <th>wins</th>\n",
       "      <th>w2v</th>\n",
       "    </tr>\n",
       "  </thead>\n",
       "  <tbody>\n",
       "    <tr>\n",
       "      <th>aberration/N</th>\n",
       "      <td>short-sighted/J, perverse/J, illogical/J, unju...</td>\n",
       "      <td>over-reaction/N, childish/J, peculiar/J, overr...</td>\n",
       "    </tr>\n",
       "    <tr>\n",
       "      <th>planet/N</th>\n",
       "      <td>mars/N, mouse/N, layer/N, episode/N</td>\n",
       "      <td>earth/N, martian/N, moon/N, footprint/N</td>\n",
       "    </tr>\n",
       "    <tr>\n",
       "      <th>ultra-nationalist/N</th>\n",
       "      <td>car-maker/N, fall-out/N, hinterland/N, also-ran/N</td>\n",
       "      <td>leftwinger/N, pro-taiwan/J, anti-fascist/J, ma...</td>\n",
       "    </tr>\n",
       "    <tr>\n",
       "      <th>jesus/N</th>\n",
       "      <td>christ/N, diocese/N, ruiz/N, ayacucho/N</td>\n",
       "      <td>crucifixion/N, birthplace/N, lourdes/N, macare...</td>\n",
       "    </tr>\n",
       "    <tr>\n",
       "      <th>abuse/N</th>\n",
       "      <td>torture/V, sexual/J, criminal/J, offence/N</td>\n",
       "      <td>harassment/N, sexual/J, sex/N, dishonesty/N</td>\n",
       "    </tr>\n",
       "    <tr>\n",
       "      <th>blister/V</th>\n",
       "      <td>blistering/J, ruck/N, smother/V, glance/V</td>\n",
       "      <td>faultless/J, four-minute/J, somersault/N, righ...</td>\n",
       "    </tr>\n",
       "    <tr>\n",
       "      <th>ratio/N</th>\n",
       "      <td>shortfall/N, shrink/V, adjust/V, decrease/V</td>\n",
       "      <td>borrowing/N, income/N, seven-percent/J, decele...</td>\n",
       "    </tr>\n",
       "    <tr>\n",
       "      <th>intercept/V</th>\n",
       "      <td>craft/N, board/V, freighter/N, coastguard/N</td>\n",
       "      <td>spot/V, boat/N, onboard/V, ship/N</td>\n",
       "    </tr>\n",
       "    <tr>\n",
       "      <th>ratwatte/N</th>\n",
       "      <td>anuruddha/N, chavalit/N, pawar/N, likulia/N</td>\n",
       "      <td>daluwatte/N, kazbek/N, peiris/N, kasrils/N</td>\n",
       "    </tr>\n",
       "    <tr>\n",
       "      <th>fatf/N</th>\n",
       "      <td>escap/N, nsc/N, unosom/N, igadd/N</td>\n",
       "      <td>fsc/N, hipc/N, opc/N, tpa/N</td>\n",
       "    </tr>\n",
       "  </tbody>\n",
       "</table>\n",
       "</div>"
      ],
      "text/plain": [
       "                                                                  wins  \\\n",
       "aberration/N         short-sighted/J, perverse/J, illogical/J, unju...   \n",
       "planet/N                           mars/N, mouse/N, layer/N, episode/N   \n",
       "ultra-nationalist/N  car-maker/N, fall-out/N, hinterland/N, also-ran/N   \n",
       "jesus/N                        christ/N, diocese/N, ruiz/N, ayacucho/N   \n",
       "abuse/N                     torture/V, sexual/J, criminal/J, offence/N   \n",
       "blister/V                    blistering/J, ruck/N, smother/V, glance/V   \n",
       "ratio/N                    shortfall/N, shrink/V, adjust/V, decrease/V   \n",
       "intercept/V                craft/N, board/V, freighter/N, coastguard/N   \n",
       "ratwatte/N                 anuruddha/N, chavalit/N, pawar/N, likulia/N   \n",
       "fatf/N                               escap/N, nsc/N, unosom/N, igadd/N   \n",
       "\n",
       "                                                                   w2v  \n",
       "aberration/N         over-reaction/N, childish/J, peculiar/J, overr...  \n",
       "planet/N                       earth/N, martian/N, moon/N, footprint/N  \n",
       "ultra-nationalist/N  leftwinger/N, pro-taiwan/J, anti-fascist/J, ma...  \n",
       "jesus/N              crucifixion/N, birthplace/N, lourdes/N, macare...  \n",
       "abuse/N                    harassment/N, sexual/J, sex/N, dishonesty/N  \n",
       "blister/V            faultless/J, four-minute/J, somersault/N, righ...  \n",
       "ratio/N              borrowing/N, income/N, seven-percent/J, decele...  \n",
       "intercept/V                          spot/V, boat/N, onboard/V, ship/N  \n",
       "ratwatte/N                  daluwatte/N, kazbek/N, peiris/N, kasrils/N  \n",
       "fatf/N                                     fsc/N, hipc/N, opc/N, tpa/N  "
      ]
     },
     "execution_count": 5,
     "metadata": {},
     "output_type": "execute_result"
    }
   ],
   "source": [
    "compare_neighbours([v, w2v], ['wins', 'w2v'])"
   ]
  },
  {
   "cell_type": "code",
   "execution_count": 6,
   "metadata": {
    "collapsed": true
   },
   "outputs": [],
   "source": [
    "path = '/lustre/scratch/inf/mmb28/FeatureExtractionToolkit/word2vec_vectors/word2vec-wiki-15perc.unigr.strings.rep%d'\n",
    "vect = [Vectors.from_tsv(path%i)  for i in [0, 1, 2]]\n",
    "for v in vect:\n",
    "    v.init_sims()"
   ]
  },
  {
   "cell_type": "code",
   "execution_count": 7,
   "metadata": {
    "collapsed": true
   },
   "outputs": [],
   "source": [
    "df = compare_neighbours(vect, [0, 1, 2])"
   ]
  },
  {
   "cell_type": "code",
   "execution_count": 8,
   "metadata": {
    "collapsed": false
   },
   "outputs": [
    {
     "name": "stdout",
     "output_type": "stream",
     "text": [
      "\\begin{tabular}{llll}\n",
      "\\toprule\n",
      "{} &                                                  0 &                                                  1 &                                                  2 \\\\\n",
      "\\midrule\n",
      "strap/V          &              nail/V, handcuff/V, duck/V, bandage/V &          clutch/V, dangle/V, reattach/V, chained/J &            puncture/V, flick/V, clip/V, handcuff/V \\\\\n",
      "opener/N         &         mid-season/J, alcs/N, gabba/N, mystics/UNK &  unbeaten/N, winless/J, non-conference/J, rain-... &  4-4/UNK, seasiders/N, redbacks/UNK, full-forwa... \\\\\n",
      "starter/N        &  placekicker/N, bench/V, high-scoring/J, belfour/N &   sixers/UNK, huskers/UNK, left-hander/N, mavs/UNK &          keno/N, uteritz/N, powerball/N, redskin/N \\\\\n",
      "whiteside/N      &              bibb/N, izard/N, paulding/N, starke/N &       dorrance/N, carrol/N, prentiss/N, tilghman/N &             nichol/N, ryland/N, beamish/N, tighe/N \\\\\n",
      "votive/J         &  mortuary/J, alabaster/N, rock-cut/J, sculptured/J &  reliquary/N, funerary/J, lectern/N, sacrificial/J &     reliquary/N, mandalum/N, recumbent/J, krater/N \\\\\n",
      "eschatological/J &  redemptive/J, millennial/J, prophetic/J, apoca... &  trinitarian/J, eschatology/N, predestination/N... &  predestination/N, eschatology/N, theodicy/N, m... \\\\\n",
      "staple/J         &      canned/J, wine-making/N, starchy/J, masalum/N &             fugu/N, arabica/N, handcraft/N, coir/N &     venison/N, artisanal/J, microfiber/N, canned/J \\\\\n",
      "nightly/J        &      weeknight/N, call-in/N, lunchtime/N, cbs-tv/N &  late-night/J, phone-in/N, three-hour/J, two-ho... &  three-hour/J, lunchtime/N, late-night/J, call-... \\\\\n",
      "bsn/N            &                      qmjhl/N, uvm/N, tcu/N, sdsu/N &                        dsa/N, bca/N, usu/N, nabc/N &                        ccaa/N, vcu/N, dpe/N, ccl/N \\\\\n",
      "capsule/N        &            pupal/J, airlock/N, grate/N, meniscus/N &          ovule/N, receptacle/N, eggshell/N, husk/N &     receptacle/N, mouthpart/N, ascospore/N, pupa/N \\\\\n",
      "\\bottomrule\n",
      "\\end{tabular}\n",
      "\n"
     ]
    }
   ],
   "source": [
    "print(df.to_latex())"
   ]
  },
  {
   "cell_type": "code",
   "execution_count": 9,
   "metadata": {
    "collapsed": false
   },
   "outputs": [
    {
     "data": {
      "text/html": [
       "<div style=\"max-height:1000px;max-width:1500px;overflow:auto;\">\n",
       "<table border=\"1\" class=\"dataframe\">\n",
       "  <thead>\n",
       "    <tr style=\"text-align: right;\">\n",
       "      <th></th>\n",
       "      <th>0</th>\n",
       "      <th>1</th>\n",
       "      <th>2</th>\n",
       "    </tr>\n",
       "  </thead>\n",
       "  <tbody>\n",
       "    <tr>\n",
       "      <th>strap/V</th>\n",
       "      <td>nail/V, handcuff/V, duck/V, bandage/V</td>\n",
       "      <td>clutch/V, dangle/V, reattach/V, chained/J</td>\n",
       "      <td>puncture/V, flick/V, clip/V, handcuff/V</td>\n",
       "    </tr>\n",
       "    <tr>\n",
       "      <th>opener/N</th>\n",
       "      <td>mid-season/J, alcs/N, gabba/N, mystics/UNK</td>\n",
       "      <td>unbeaten/N, winless/J, non-conference/J, rain-...</td>\n",
       "      <td>4-4/UNK, seasiders/N, redbacks/UNK, full-forwa...</td>\n",
       "    </tr>\n",
       "    <tr>\n",
       "      <th>starter/N</th>\n",
       "      <td>placekicker/N, bench/V, high-scoring/J, belfour/N</td>\n",
       "      <td>sixers/UNK, huskers/UNK, left-hander/N, mavs/UNK</td>\n",
       "      <td>keno/N, uteritz/N, powerball/N, redskin/N</td>\n",
       "    </tr>\n",
       "    <tr>\n",
       "      <th>whiteside/N</th>\n",
       "      <td>bibb/N, izard/N, paulding/N, starke/N</td>\n",
       "      <td>dorrance/N, carrol/N, prentiss/N, tilghman/N</td>\n",
       "      <td>nichol/N, ryland/N, beamish/N, tighe/N</td>\n",
       "    </tr>\n",
       "    <tr>\n",
       "      <th>votive/J</th>\n",
       "      <td>mortuary/J, alabaster/N, rock-cut/J, sculptured/J</td>\n",
       "      <td>reliquary/N, funerary/J, lectern/N, sacrificial/J</td>\n",
       "      <td>reliquary/N, mandalum/N, recumbent/J, krater/N</td>\n",
       "    </tr>\n",
       "    <tr>\n",
       "      <th>eschatological/J</th>\n",
       "      <td>redemptive/J, millennial/J, prophetic/J, apoca...</td>\n",
       "      <td>trinitarian/J, eschatology/N, predestination/N...</td>\n",
       "      <td>predestination/N, eschatology/N, theodicy/N, m...</td>\n",
       "    </tr>\n",
       "    <tr>\n",
       "      <th>staple/J</th>\n",
       "      <td>canned/J, wine-making/N, starchy/J, masalum/N</td>\n",
       "      <td>fugu/N, arabica/N, handcraft/N, coir/N</td>\n",
       "      <td>venison/N, artisanal/J, microfiber/N, canned/J</td>\n",
       "    </tr>\n",
       "    <tr>\n",
       "      <th>nightly/J</th>\n",
       "      <td>weeknight/N, call-in/N, lunchtime/N, cbs-tv/N</td>\n",
       "      <td>late-night/J, phone-in/N, three-hour/J, two-ho...</td>\n",
       "      <td>three-hour/J, lunchtime/N, late-night/J, call-...</td>\n",
       "    </tr>\n",
       "    <tr>\n",
       "      <th>bsn/N</th>\n",
       "      <td>qmjhl/N, uvm/N, tcu/N, sdsu/N</td>\n",
       "      <td>dsa/N, bca/N, usu/N, nabc/N</td>\n",
       "      <td>ccaa/N, vcu/N, dpe/N, ccl/N</td>\n",
       "    </tr>\n",
       "    <tr>\n",
       "      <th>capsule/N</th>\n",
       "      <td>pupal/J, airlock/N, grate/N, meniscus/N</td>\n",
       "      <td>ovule/N, receptacle/N, eggshell/N, husk/N</td>\n",
       "      <td>receptacle/N, mouthpart/N, ascospore/N, pupa/N</td>\n",
       "    </tr>\n",
       "  </tbody>\n",
       "</table>\n",
       "</div>"
      ],
      "text/plain": [
       "                                                                  0  \\\n",
       "strap/V                       nail/V, handcuff/V, duck/V, bandage/V   \n",
       "opener/N                 mid-season/J, alcs/N, gabba/N, mystics/UNK   \n",
       "starter/N         placekicker/N, bench/V, high-scoring/J, belfour/N   \n",
       "whiteside/N                   bibb/N, izard/N, paulding/N, starke/N   \n",
       "votive/J          mortuary/J, alabaster/N, rock-cut/J, sculptured/J   \n",
       "eschatological/J  redemptive/J, millennial/J, prophetic/J, apoca...   \n",
       "staple/J              canned/J, wine-making/N, starchy/J, masalum/N   \n",
       "nightly/J             weeknight/N, call-in/N, lunchtime/N, cbs-tv/N   \n",
       "bsn/N                                 qmjhl/N, uvm/N, tcu/N, sdsu/N   \n",
       "capsule/N                   pupal/J, airlock/N, grate/N, meniscus/N   \n",
       "\n",
       "                                                                  1  \\\n",
       "strap/V                   clutch/V, dangle/V, reattach/V, chained/J   \n",
       "opener/N          unbeaten/N, winless/J, non-conference/J, rain-...   \n",
       "starter/N          sixers/UNK, huskers/UNK, left-hander/N, mavs/UNK   \n",
       "whiteside/N            dorrance/N, carrol/N, prentiss/N, tilghman/N   \n",
       "votive/J          reliquary/N, funerary/J, lectern/N, sacrificial/J   \n",
       "eschatological/J  trinitarian/J, eschatology/N, predestination/N...   \n",
       "staple/J                     fugu/N, arabica/N, handcraft/N, coir/N   \n",
       "nightly/J         late-night/J, phone-in/N, three-hour/J, two-ho...   \n",
       "bsn/N                                   dsa/N, bca/N, usu/N, nabc/N   \n",
       "capsule/N                 ovule/N, receptacle/N, eggshell/N, husk/N   \n",
       "\n",
       "                                                                  2  \n",
       "strap/V                     puncture/V, flick/V, clip/V, handcuff/V  \n",
       "opener/N          4-4/UNK, seasiders/N, redbacks/UNK, full-forwa...  \n",
       "starter/N                 keno/N, uteritz/N, powerball/N, redskin/N  \n",
       "whiteside/N                  nichol/N, ryland/N, beamish/N, tighe/N  \n",
       "votive/J             reliquary/N, mandalum/N, recumbent/J, krater/N  \n",
       "eschatological/J  predestination/N, eschatology/N, theodicy/N, m...  \n",
       "staple/J             venison/N, artisanal/J, microfiber/N, canned/J  \n",
       "nightly/J         three-hour/J, lunchtime/N, late-night/J, call-...  \n",
       "bsn/N                                   ccaa/N, vcu/N, dpe/N, ccl/N  \n",
       "capsule/N            receptacle/N, mouthpart/N, ascospore/N, pupa/N  "
      ]
     },
     "execution_count": 9,
     "metadata": {},
     "output_type": "execute_result"
    }
   ],
   "source": [
    "df"
   ]
  },
  {
   "cell_type": "code",
   "execution_count": 10,
   "metadata": {
    "collapsed": true
   },
   "outputs": [],
   "source": [
    "df = compare_neighbours(vect, [0, 1, 2], ['stalin/N', 'microsoft/N', 'fugitive/N', 'car/N', 'paris/N', 'smith/N'])"
   ]
  },
  {
   "cell_type": "code",
   "execution_count": 11,
   "metadata": {
    "collapsed": false
   },
   "outputs": [
    {
     "data": {
      "text/html": [
       "<div style=\"max-height:1000px;max-width:1500px;overflow:auto;\">\n",
       "<table border=\"1\" class=\"dataframe\">\n",
       "  <thead>\n",
       "    <tr style=\"text-align: right;\">\n",
       "      <th></th>\n",
       "      <th>0</th>\n",
       "      <th>1</th>\n",
       "      <th>2</th>\n",
       "    </tr>\n",
       "  </thead>\n",
       "  <tbody>\n",
       "    <tr>\n",
       "      <th>stalin/N</th>\n",
       "      <td>lenin/N, kaganovich/N, shevardnadze/N, trotsky/N</td>\n",
       "      <td>lenin/N, hitler/N, goebbels/N, eichmann/N</td>\n",
       "      <td>lenin/N, goebbels/N, hitler/N, bakunin/N</td>\n",
       "    </tr>\n",
       "    <tr>\n",
       "      <th>microsoft/N</th>\n",
       "      <td>linux/N, unix/N, ms-do/N, ibm/N</td>\n",
       "      <td>sharepoint/N, ibm/N, sdk/N, ios/N</td>\n",
       "      <td>smartphone/N, ms-do/N, ibm/N, linux/N</td>\n",
       "    </tr>\n",
       "    <tr>\n",
       "      <th>fugitive/N</th>\n",
       "      <td>fugitive/J, manumission/N, superhuman/N, count...</td>\n",
       "      <td>escapee/N, pretence/N, looter/N, fugitive/J</td>\n",
       "      <td>infiltrator/N, convict/N, escapee/N, non-comba...</td>\n",
       "    </tr>\n",
       "    <tr>\n",
       "      <th>car/N</th>\n",
       "      <td>truck/N, motorcycle/N, vehicle/N, automobile/N</td>\n",
       "      <td>truck/N, motorbike/N, automobile/N, vehicle/N</td>\n",
       "      <td>truck/N, motorbike/N, driver/N, automobile/N</td>\n",
       "    </tr>\n",
       "    <tr>\n",
       "      <th>paris/N</th>\n",
       "      <td>brussels/N, saint-cloud/N, marseille/N, amster...</td>\n",
       "      <td>brussels/N, aix-en-provence/N, strasbourg/N, d...</td>\n",
       "      <td>brussels/N, aix-en-provence/N, dijon/N, strasb...</td>\n",
       "    </tr>\n",
       "    <tr>\n",
       "      <th>smith/N</th>\n",
       "      <td>thompson/N, miller/N, chapman/N, taylor/N</td>\n",
       "      <td>taylor/N, williams/N, lewis/N, miller/N</td>\n",
       "      <td>taylor/N, miller/N, thompson/N, allen/N</td>\n",
       "    </tr>\n",
       "  </tbody>\n",
       "</table>\n",
       "</div>"
      ],
      "text/plain": [
       "                                                             0  \\\n",
       "stalin/N      lenin/N, kaganovich/N, shevardnadze/N, trotsky/N   \n",
       "microsoft/N                    linux/N, unix/N, ms-do/N, ibm/N   \n",
       "fugitive/N   fugitive/J, manumission/N, superhuman/N, count...   \n",
       "car/N           truck/N, motorcycle/N, vehicle/N, automobile/N   \n",
       "paris/N      brussels/N, saint-cloud/N, marseille/N, amster...   \n",
       "smith/N              thompson/N, miller/N, chapman/N, taylor/N   \n",
       "\n",
       "                                                             1  \\\n",
       "stalin/N             lenin/N, hitler/N, goebbels/N, eichmann/N   \n",
       "microsoft/N                  sharepoint/N, ibm/N, sdk/N, ios/N   \n",
       "fugitive/N         escapee/N, pretence/N, looter/N, fugitive/J   \n",
       "car/N            truck/N, motorbike/N, automobile/N, vehicle/N   \n",
       "paris/N      brussels/N, aix-en-provence/N, strasbourg/N, d...   \n",
       "smith/N                taylor/N, williams/N, lewis/N, miller/N   \n",
       "\n",
       "                                                             2  \n",
       "stalin/N              lenin/N, goebbels/N, hitler/N, bakunin/N  \n",
       "microsoft/N              smartphone/N, ms-do/N, ibm/N, linux/N  \n",
       "fugitive/N   infiltrator/N, convict/N, escapee/N, non-comba...  \n",
       "car/N             truck/N, motorbike/N, driver/N, automobile/N  \n",
       "paris/N      brussels/N, aix-en-provence/N, dijon/N, strasb...  \n",
       "smith/N                taylor/N, miller/N, thompson/N, allen/N  "
      ]
     },
     "execution_count": 11,
     "metadata": {},
     "output_type": "execute_result"
    }
   ],
   "source": [
    "df"
   ]
  },
  {
   "cell_type": "code",
   "execution_count": 12,
   "metadata": {
    "collapsed": false
   },
   "outputs": [
    {
     "name": "stdout",
     "output_type": "stream",
     "text": [
      "\\begin{tabular}{llll}\n",
      "\\toprule\n",
      "{} &                                                  0 &                                                  1 &                                                  2 \\\\\n",
      "\\midrule\n",
      "stalin/N    &   lenin/N, kaganovich/N, shevardnadze/N, trotsky/N &          lenin/N, hitler/N, goebbels/N, eichmann/N &           lenin/N, goebbels/N, hitler/N, bakunin/N \\\\\n",
      "microsoft/N &                    linux/N, unix/N, ms-do/N, ibm/N &                  sharepoint/N, ibm/N, sdk/N, ios/N &              smartphone/N, ms-do/N, ibm/N, linux/N \\\\\n",
      "fugitive/N  &  fugitive/J, manumission/N, superhuman/N, count... &        escapee/N, pretence/N, looter/N, fugitive/J &  infiltrator/N, convict/N, escapee/N, non-comba... \\\\\n",
      "car/N       &     truck/N, motorcycle/N, vehicle/N, automobile/N &      truck/N, motorbike/N, automobile/N, vehicle/N &       truck/N, motorbike/N, driver/N, automobile/N \\\\\n",
      "paris/N     &  brussels/N, saint-cloud/N, marseille/N, amster... &  brussels/N, aix-en-provence/N, strasbourg/N, d... &  brussels/N, aix-en-provence/N, dijon/N, strasb... \\\\\n",
      "smith/N     &          thompson/N, miller/N, chapman/N, taylor/N &            taylor/N, williams/N, lewis/N, miller/N &            taylor/N, miller/N, thompson/N, allen/N \\\\\n",
      "\\bottomrule\n",
      "\\end{tabular}\n",
      "\n"
     ]
    }
   ],
   "source": [
    "print(df.to_latex())"
   ]
  },
  {
   "cell_type": "code",
   "execution_count": 13,
   "metadata": {
    "collapsed": false
   },
   "outputs": [
    {
     "name": "stdout",
     "output_type": "stream",
     "text": [
      "\\begin{tabular}{lll}\n",
      "\\toprule\n",
      "         &   &                                                  0 \\\\\n",
      "\\midrule\n",
      "stalin/N & 0 &   lenin/N, kaganovich/N, shevardnadze/N, trotsky/N \\\\\n",
      "         & 1 &          lenin/N, hitler/N, goebbels/N, eichmann/N \\\\\n",
      "         & 2 &           lenin/N, goebbels/N, hitler/N, bakunin/N \\\\\n",
      "microsoft/N & 0 &                    linux/N, unix/N, ms-do/N, ibm/N \\\\\n",
      "         & 1 &                  sharepoint/N, ibm/N, sdk/N, ios/N \\\\\n",
      "         & 2 &              smartphone/N, ms-do/N, ibm/N, linux/N \\\\\n",
      "fugitive/N & 0 &  fugitive/J, manumission/N, superhuman/N, count... \\\\\n",
      "         & 1 &        escapee/N, pretence/N, looter/N, fugitive/J \\\\\n",
      "         & 2 &  infiltrator/N, convict/N, escapee/N, non-comba... \\\\\n",
      "car/N & 0 &     truck/N, motorcycle/N, vehicle/N, automobile/N \\\\\n",
      "         & 1 &      truck/N, motorbike/N, automobile/N, vehicle/N \\\\\n",
      "         & 2 &       truck/N, motorbike/N, driver/N, automobile/N \\\\\n",
      "paris/N & 0 &  brussels/N, saint-cloud/N, marseille/N, amster... \\\\\n",
      "         & 1 &  brussels/N, aix-en-provence/N, strasbourg/N, d... \\\\\n",
      "         & 2 &  brussels/N, aix-en-provence/N, dijon/N, strasb... \\\\\n",
      "smith/N & 0 &          thompson/N, miller/N, chapman/N, taylor/N \\\\\n",
      "         & 1 &            taylor/N, williams/N, lewis/N, miller/N \\\\\n",
      "         & 2 &            taylor/N, miller/N, thompson/N, allen/N \\\\\n",
      "\\bottomrule\n",
      "\\end{tabular}\n",
      "\n"
     ]
    }
   ],
   "source": [
    "print(pd.DataFrame(df.stack()).to_latex())"
   ]
  },
  {
   "cell_type": "code",
   "execution_count": 14,
   "metadata": {
    "collapsed": true
   },
   "outputs": [],
   "source": [
    "import sys\n",
    "sys.path.append('../thesisgenerator/thesisgenerator/')\n",
    "from thesisgenerator.plugins.multivectors import MultiVectors\n",
    "mv = MultiVectors(vect)\n",
    "mv.init_sims(n_neighbors=100)"
   ]
  },
  {
   "cell_type": "code",
   "execution_count": 15,
   "metadata": {
    "collapsed": false
   },
   "outputs": [
    {
     "data": {
      "text/plain": [
       "['spyder/N',\n",
       " 'lancia/N',\n",
       " 'citroen/N',\n",
       " 'ferrari/N',\n",
       " 'infiniti/N',\n",
       " 'integra/N',\n",
       " 'flavio/N',\n",
       " 'cadillac/N']"
      ]
     },
     "execution_count": 15,
     "metadata": {},
     "output_type": "execute_result"
    }
   ],
   "source": [
    "data = []\n",
    "maxn=8\n",
    "word = 'mercedes/N'\n",
    "reordered = [x[0] for x in mv.get_nearest_neighbours(word)[:maxn]]\n",
    "# mercedes (removes names, e.g. alesi, sebastien)\n",
    "# silver/N (removes \"event\", \"caldecott\") which belong to a certain sense (competition)\n",
    "data.append(reordered)\n",
    "reordered"
   ]
  },
  {
   "cell_type": "code",
   "execution_count": 16,
   "metadata": {
    "collapsed": false
   },
   "outputs": [
    {
     "name": "stdout",
     "output_type": "stream",
     "text": [
      "['lancia/N', 'bugatti/N', 'flavio/N', 'hino/N', 'ligier/N', 'ferrari/N', 'phaeton/N', 'ascari/N']\n",
      "---------------\n",
      "['ferrari/N', 'lola/N', 'oldsmobile/N', 'gallardo/N', 'risi/N', 'corse/N', 'scuderia/N', 'lancia/N']\n",
      "---------------\n",
      "['integra/N', 'lola/N', 'citroen/N', 'acura/N', 'ascari/N', 'prost/N', 'dallara/N', 'risi/N']\n",
      "---------------\n"
     ]
    }
   ],
   "source": [
    "for v in mv.vectors:\n",
    "    n = v.get_nearest_neighbours(word)\n",
    "    data.append([x[0] for x in n[:maxn]])\n",
    "    print([x[0] for x in n[:maxn]])\n",
    "    print('---------------')"
   ]
  },
  {
   "cell_type": "code",
   "execution_count": 17,
   "metadata": {
    "collapsed": false
   },
   "outputs": [
    {
     "data": {
      "text/html": [
       "<div style=\"max-height:1000px;max-width:1500px;overflow:auto;\">\n",
       "<table border=\"1\" class=\"dataframe\">\n",
       "  <thead>\n",
       "    <tr style=\"text-align: right;\">\n",
       "      <th></th>\n",
       "      <th>Neigh 1</th>\n",
       "      <th>Neigh 2</th>\n",
       "      <th>Neigh 3</th>\n",
       "      <th>Neigh 4</th>\n",
       "      <th>Neigh 5</th>\n",
       "      <th>Neigh 6</th>\n",
       "      <th>Neigh 7</th>\n",
       "      <th>Neigh 8</th>\n",
       "    </tr>\n",
       "  </thead>\n",
       "  <tbody>\n",
       "    <tr>\n",
       "      <th>rep0</th>\n",
       "      <td>integra/N</td>\n",
       "      <td>lola/N</td>\n",
       "      <td>citroen/N</td>\n",
       "      <td>acura/N</td>\n",
       "      <td>ascari/N</td>\n",
       "      <td>prost/N</td>\n",
       "      <td>dallara/N</td>\n",
       "      <td>risi/N</td>\n",
       "    </tr>\n",
       "    <tr>\n",
       "      <th>rep1</th>\n",
       "      <td>ferrari/N</td>\n",
       "      <td>lola/N</td>\n",
       "      <td>oldsmobile/N</td>\n",
       "      <td>gallardo/N</td>\n",
       "      <td>risi/N</td>\n",
       "      <td>corse/N</td>\n",
       "      <td>scuderia/N</td>\n",
       "      <td>lancia/N</td>\n",
       "    </tr>\n",
       "    <tr>\n",
       "      <th>rep2</th>\n",
       "      <td>lancia/N</td>\n",
       "      <td>bugatti/N</td>\n",
       "      <td>flavio/N</td>\n",
       "      <td>hino/N</td>\n",
       "      <td>ligier/N</td>\n",
       "      <td>ferrari/N</td>\n",
       "      <td>phaeton/N</td>\n",
       "      <td>ascari/N</td>\n",
       "    </tr>\n",
       "    <tr>\n",
       "      <th>reordered</th>\n",
       "      <td>spyder/N</td>\n",
       "      <td>lancia/N</td>\n",
       "      <td>citroen/N</td>\n",
       "      <td>ferrari/N</td>\n",
       "      <td>infiniti/N</td>\n",
       "      <td>integra/N</td>\n",
       "      <td>flavio/N</td>\n",
       "      <td>cadillac/N</td>\n",
       "    </tr>\n",
       "  </tbody>\n",
       "</table>\n",
       "</div>"
      ],
      "text/plain": [
       "             Neigh 1    Neigh 2       Neigh 3     Neigh 4     Neigh 5  \\\n",
       "rep0       integra/N     lola/N     citroen/N     acura/N    ascari/N   \n",
       "rep1       ferrari/N     lola/N  oldsmobile/N  gallardo/N      risi/N   \n",
       "rep2        lancia/N  bugatti/N      flavio/N      hino/N    ligier/N   \n",
       "reordered   spyder/N   lancia/N     citroen/N   ferrari/N  infiniti/N   \n",
       "\n",
       "             Neigh 6     Neigh 7     Neigh 8  \n",
       "rep0         prost/N   dallara/N      risi/N  \n",
       "rep1         corse/N  scuderia/N    lancia/N  \n",
       "rep2       ferrari/N   phaeton/N    ascari/N  \n",
       "reordered  integra/N    flavio/N  cadillac/N  "
      ]
     },
     "execution_count": 17,
     "metadata": {},
     "output_type": "execute_result"
    }
   ],
   "source": [
    "ddf= pd.DataFrame(data[::-1], index='rep0 rep1 rep2 reordered'.split(),\n",
    "            columns=['Neigh %d'%(i+1) for i in range(maxn)])\n",
    "ddf"
   ]
  },
  {
   "cell_type": "code",
   "execution_count": 18,
   "metadata": {
    "collapsed": false
   },
   "outputs": [
    {
     "name": "stdout",
     "output_type": "stream",
     "text": [
      "\\begin{tabular}{lllllllll}\n",
      "\\toprule\n",
      "{} &    Neigh 1 &    Neigh 2 &       Neigh 3 &     Neigh 4 &     Neigh 5 &    Neigh 6 &     Neigh 7 &     Neigh 8 \\\\\n",
      "\\midrule\n",
      "rep0      &  integra/N &     lola/N &     citroen/N &     acura/N &    ascari/N &    prost/N &   dallara/N &      risi/N \\\\\n",
      "rep1      &  ferrari/N &     lola/N &  oldsmobile/N &  gallardo/N &      risi/N &    corse/N &  scuderia/N &    lancia/N \\\\\n",
      "rep2      &   lancia/N &  bugatti/N &      flavio/N &      hino/N &    ligier/N &  ferrari/N &   phaeton/N &    ascari/N \\\\\n",
      "reordered &   spyder/N &   lancia/N &     citroen/N &   ferrari/N &  infiniti/N &  integra/N &    flavio/N &  cadillac/N \\\\\n",
      "\\bottomrule\n",
      "\\end{tabular}\n",
      "\n"
     ]
    }
   ],
   "source": [
    "print(ddf.to_latex())"
   ]
  },
  {
   "cell_type": "code",
   "execution_count": null,
   "metadata": {
    "collapsed": true
   },
   "outputs": [],
   "source": []
  }
 ],
 "metadata": {
  "kernelspec": {
   "display_name": "Python 3",
   "language": "python",
   "name": "python3"
  },
  "language_info": {
   "codemirror_mode": {
    "name": "ipython",
    "version": 3
   },
   "file_extension": ".py",
   "mimetype": "text/x-python",
   "name": "python",
   "nbconvert_exporter": "python",
   "pygments_lexer": "ipython3",
   "version": "3.4.3"
  }
 },
 "nbformat": 4,
 "nbformat_minor": 0
}
