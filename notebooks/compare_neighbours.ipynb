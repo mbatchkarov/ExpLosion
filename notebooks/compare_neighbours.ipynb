{
 "cells": [
  {
   "cell_type": "code",
   "execution_count": 8,
   "metadata": {
    "collapsed": false
   },
   "outputs": [
    {
     "name": "stdout",
     "output_type": "stream",
     "text": [
      "/Users/miroslavbatchkarov/NetBeansProjects/ExpLosion\n"
     ]
    }
   ],
   "source": [
    "%cd ~/NetBeansProjects/ExpLosion/\n",
    "from notebooks.common_imports import *\n",
    "from discoutils.cmd_utils import build_thesaurus_out_of_vectors\n",
    "import logging\n",
    "import pandas as pd\n",
    "logging.basicConfig(level=logging.INFO,\n",
    "                        format=\"%(asctime)s\\t%(module)s.%(funcName)s \"\"\"\n",
    "                               \"(line %(lineno)d)\\t%(levelname)s : %(\"\"message)s\")\n",
    "from discoutils.thesaurus_loader import Vectors"
   ]
  },
  {
   "cell_type": "code",
   "execution_count": 2,
   "metadata": {
    "collapsed": true
   },
   "outputs": [],
   "source": [
    "path = '/home/m/mm/mmb28/Desktop/down/exp10-13-with-obs-phrases-SVD100.events.filtered.strings'\n",
    "v = Vectors.from_tsv(path)\n",
    "v.init_sims()"
   ]
  },
  {
   "cell_type": "code",
   "execution_count": 3,
   "metadata": {
    "collapsed": true
   },
   "outputs": [],
   "source": [
    "path = '/home/m/mm/mmb28/Desktop/down/word2vec-gigaw-100perc.unigr.strings.rep0'\n",
    "w2v = Vectors.from_tsv(path)\n",
    "w2v.init_sims()"
   ]
  },
  {
   "cell_type": "code",
   "execution_count": 5,
   "metadata": {
    "collapsed": false
   },
   "outputs": [
    {
     "data": {
      "text/html": [
       "<div style=\"max-height:1000px;max-width:1500px;overflow:auto;\">\n",
       "<table border=\"1\" class=\"dataframe\">\n",
       "  <thead>\n",
       "    <tr style=\"text-align: right;\">\n",
       "      <th></th>\n",
       "      <th>wins</th>\n",
       "      <th>w2v</th>\n",
       "    </tr>\n",
       "  </thead>\n",
       "  <tbody>\n",
       "    <tr>\n",
       "      <th>attack/V</th>\n",
       "      <td>raid/N, assault/N, firing/N, shell/V</td>\n",
       "      <td>use/V, target/V, approach/V, muslim-led/J</td>\n",
       "    </tr>\n",
       "    <tr>\n",
       "      <th>small/J</th>\n",
       "      <td>large/J, huge/J, place/V, damage/V</td>\n",
       "      <td>large/J, huge/J, beetle/N, eclectic/J</td>\n",
       "    </tr>\n",
       "    <tr>\n",
       "      <th>car/N</th>\n",
       "      <td>vehicle/N, truck/N, bus/N, driver/N</td>\n",
       "      <td>truck/N, scooter/N, vehicle/N, trolley/N</td>\n",
       "    </tr>\n",
       "    <tr>\n",
       "      <th>computer/N</th>\n",
       "      <td>software/N, technology/N, internet/N, video/N</td>\n",
       "      <td>software/N, electronic/J, photocopier/N, hands...</td>\n",
       "    </tr>\n",
       "    <tr>\n",
       "      <th>official/N</th>\n",
       "      <td>source/N, statement/N, ministry/N, authority/N</td>\n",
       "      <td>expert/N, diplomat/N, offical/N, source/N</td>\n",
       "    </tr>\n",
       "    <tr>\n",
       "      <th>monday/N</th>\n",
       "      <td>tuesday/N, thursday/N, wednesday/N, friday/N</td>\n",
       "      <td>tuesday/N, thursday/N, wednesday/N, friday/N</td>\n",
       "    </tr>\n",
       "    <tr>\n",
       "      <th>arafat/N</th>\n",
       "      <td>yasser/N, netanyahu/N, plo/N, rabin/N</td>\n",
       "      <td>israel/N, palestinian/J, sharon/N, yasser/N</td>\n",
       "    </tr>\n",
       "    <tr>\n",
       "      <th>kill/V</th>\n",
       "      <td>dead/J, die/V, injure/V, wound/V</td>\n",
       "      <td>injure/V, dead/J, wound/V, die/V</td>\n",
       "    </tr>\n",
       "  </tbody>\n",
       "</table>\n",
       "</div>"
      ],
      "text/plain": [
       "                                                      wins  \\\n",
       "attack/V              raid/N, assault/N, firing/N, shell/V   \n",
       "small/J                 large/J, huge/J, place/V, damage/V   \n",
       "car/N                  vehicle/N, truck/N, bus/N, driver/N   \n",
       "computer/N   software/N, technology/N, internet/N, video/N   \n",
       "official/N  source/N, statement/N, ministry/N, authority/N   \n",
       "monday/N      tuesday/N, thursday/N, wednesday/N, friday/N   \n",
       "arafat/N             yasser/N, netanyahu/N, plo/N, rabin/N   \n",
       "kill/V                    dead/J, die/V, injure/V, wound/V   \n",
       "\n",
       "                                                          w2v  \n",
       "attack/V            use/V, target/V, approach/V, muslim-led/J  \n",
       "small/J                 large/J, huge/J, beetle/N, eclectic/J  \n",
       "car/N                truck/N, scooter/N, vehicle/N, trolley/N  \n",
       "computer/N  software/N, electronic/J, photocopier/N, hands...  \n",
       "official/N          expert/N, diplomat/N, offical/N, source/N  \n",
       "monday/N         tuesday/N, thursday/N, wednesday/N, friday/N  \n",
       "arafat/N          israel/N, palestinian/J, sharon/N, yasser/N  \n",
       "kill/V                       injure/V, dead/J, wound/V, die/V  "
      ]
     },
     "execution_count": 5,
     "metadata": {},
     "output_type": "execute_result"
    }
   ],
   "source": [
    "compare_neighbours([v, w2v], \n",
    "        ['wins', 'w2v'], \n",
    "        ['attack/V', 'small/J', 'car/N', 'computer/N', 'official/N', 'monday/N', 'arafat/N', 'kill/V'])"
   ]
  },
  {
   "cell_type": "code",
   "execution_count": 6,
   "metadata": {
    "collapsed": false
   },
   "outputs": [
    {
     "data": {
      "text/html": [
       "<div style=\"max-height:1000px;max-width:1500px;overflow:auto;\">\n",
       "<table border=\"1\" class=\"dataframe\">\n",
       "  <thead>\n",
       "    <tr style=\"text-align: right;\">\n",
       "      <th></th>\n",
       "      <th>wins</th>\n",
       "      <th>w2v</th>\n",
       "    </tr>\n",
       "  </thead>\n",
       "  <tbody>\n",
       "    <tr>\n",
       "      <th>atp/N</th>\n",
       "      <td>wta/N, tennis/N, denote/V, melbourne/N</td>\n",
       "      <td>wta/N, master/N, tennis/N, championships/N</td>\n",
       "    </tr>\n",
       "    <tr>\n",
       "      <th>transit/V</th>\n",
       "      <td>seaport/N, karni/N, israeli-lebanese/J, diaspo...</td>\n",
       "      <td>via/CONJ, traveler/N, onward/RB, overland/N</td>\n",
       "    </tr>\n",
       "    <tr>\n",
       "      <th>rainforest/N</th>\n",
       "      <td>centrepiece/N, biggest-ever/J, exposition/N, f...</td>\n",
       "      <td>temperate/J, pristine/J, outback/N, scenery/N</td>\n",
       "    </tr>\n",
       "    <tr>\n",
       "      <th>denise/N</th>\n",
       "      <td>millar/N, morley/N, charlie/N, judy/N</td>\n",
       "      <td>lauren/N, joanna/N, katie/N, purcell/N</td>\n",
       "    </tr>\n",
       "    <tr>\n",
       "      <th>typical/J</th>\n",
       "      <td>indifferent/J, shocking/J, disadvantage/N, eve...</td>\n",
       "      <td>harbinger/N, light-hearted/J, surreal/J, whiff/N</td>\n",
       "    </tr>\n",
       "    <tr>\n",
       "      <th>surin/N</th>\n",
       "      <td>bruny/N, moses/N, wotherspoon/N, kipketer/N</td>\n",
       "      <td>bruny/N, somluck/N, saen/N, middle-distance/J</td>\n",
       "    </tr>\n",
       "    <tr>\n",
       "      <th>disclosure/N</th>\n",
       "      <td>audit/N, secrecy/N, standard/J, regulator/N</td>\n",
       "      <td>appraisal/N, in-house/J, misrepresentation/N, ...</td>\n",
       "    </tr>\n",
       "    <tr>\n",
       "      <th>mci/N</th>\n",
       "      <td>wireless/N, docomo/N, mca/N, vodafone/N</td>\n",
       "      <td>nortel/N, anheuser-busch/N, telia/N, echostar/N</td>\n",
       "    </tr>\n",
       "    <tr>\n",
       "      <th>lashkar/N</th>\n",
       "      <td>jaish/N, behest/N, kashmiri/J, farooqi/N</td>\n",
       "      <td>jaish/N, harkatul/N, pakistani-based/J, catli/N</td>\n",
       "    </tr>\n",
       "    <tr>\n",
       "      <th>cleric/N</th>\n",
       "      <td>cleric/J, brotherhood/N, imam/N, al-azhar/N</td>\n",
       "      <td>clergyman/N, preacher/N, cleric/J, clergy/N</td>\n",
       "    </tr>\n",
       "  </tbody>\n",
       "</table>\n",
       "</div>"
      ],
      "text/plain": [
       "                                                           wins  \\\n",
       "atp/N                    wta/N, tennis/N, denote/V, melbourne/N   \n",
       "transit/V     seaport/N, karni/N, israeli-lebanese/J, diaspo...   \n",
       "rainforest/N  centrepiece/N, biggest-ever/J, exposition/N, f...   \n",
       "denise/N                  millar/N, morley/N, charlie/N, judy/N   \n",
       "typical/J     indifferent/J, shocking/J, disadvantage/N, eve...   \n",
       "surin/N             bruny/N, moses/N, wotherspoon/N, kipketer/N   \n",
       "disclosure/N        audit/N, secrecy/N, standard/J, regulator/N   \n",
       "mci/N                   wireless/N, docomo/N, mca/N, vodafone/N   \n",
       "lashkar/N              jaish/N, behest/N, kashmiri/J, farooqi/N   \n",
       "cleric/N            cleric/J, brotherhood/N, imam/N, al-azhar/N   \n",
       "\n",
       "                                                            w2v  \n",
       "atp/N                wta/N, master/N, tennis/N, championships/N  \n",
       "transit/V           via/CONJ, traveler/N, onward/RB, overland/N  \n",
       "rainforest/N      temperate/J, pristine/J, outback/N, scenery/N  \n",
       "denise/N                 lauren/N, joanna/N, katie/N, purcell/N  \n",
       "typical/J      harbinger/N, light-hearted/J, surreal/J, whiff/N  \n",
       "surin/N           bruny/N, somluck/N, saen/N, middle-distance/J  \n",
       "disclosure/N  appraisal/N, in-house/J, misrepresentation/N, ...  \n",
       "mci/N           nortel/N, anheuser-busch/N, telia/N, echostar/N  \n",
       "lashkar/N       jaish/N, harkatul/N, pakistani-based/J, catli/N  \n",
       "cleric/N            clergyman/N, preacher/N, cleric/J, clergy/N  "
      ]
     },
     "execution_count": 6,
     "metadata": {},
     "output_type": "execute_result"
    }
   ],
   "source": [
    "compare_neighbours([v, w2v], ['wins', 'w2v'])"
   ]
  },
  {
   "cell_type": "code",
   "execution_count": 5,
   "metadata": {
    "collapsed": false
   },
   "outputs": [],
   "source": [
    "path = '/mnt/lustre/scratch/inf/mmb28/FeatureExtractionToolkit/word2vec_vectors/word2vec-wiki-15perc.unigr.strings.rep%d'\n",
    "vect = [Vectors.from_tsv(path%i)  for i in [0, 1, 2]]\n",
    "for v in vect:\n",
    "    v.init_sims()"
   ]
  },
  {
   "cell_type": "code",
   "execution_count": 14,
   "metadata": {
    "collapsed": false
   },
   "outputs": [],
   "source": [
    "df = compare_neighbours(vect, [0, 1, 2])"
   ]
  },
  {
   "cell_type": "code",
   "execution_count": 12,
   "metadata": {
    "collapsed": false
   },
   "outputs": [
    {
     "name": "stdout",
     "output_type": "stream",
     "text": [
      "\\begin{tabular}{llll}\n",
      "\\toprule\n",
      "{} &                                                  0 &                                               1 &                                                  2 \\\\\n",
      "\\midrule\n",
      "kos/N          &             syros/N, zakynthos/N, wolin/N, paros/N &           dagens/N, argosy/N, politico/N, urb/N &        hamann/N, barga/N, rzeczpospolita/N, moos/N \\\\\n",
      "stalin/N       &         lenin/N, trotsky/N, bukharin/N, brezhnev/N &       lenin/N, hitler/N, goebbels/N, kerensky/N &         lenin/N, goebbels/N, neurath/N, kerensky/N \\\\\n",
      "reductionist/J &  semiotic/J, teleology/N, scientism/N, rational... &                                            None &                                               None \\\\\n",
      "kyushu/N       &          hokkaido/N, okayama/N, sendaus/N, iwate/N &    shikoku/N, hakodate/N, haiphong/N, keelung/N &         hokkaido/N, shikoku/N, honshu/N, chiyoda/N \\\\\n",
      "caregiver/N    &    developmentally/RB, carer/N, infirm/N, infirm/J &   carer/N, dyslexia/N, alcoholic/N, nurturing/N &  carer/N, oncologist/N, developmentally/RB, hiv... \\\\\n",
      "xr/N           &                           cvc/N, ase/N, dq/N, cx/N &                          xk/N, xa/N, xj/N, xw/N &                             cx/N, xk/N, yj/N, xb/N \\\\\n",
      "inoculate/V    &  crossbreed/V, parasitize/V, immunize/V, antise... &  fossilize/V, conidium/N, fertilise/V, faeces/N &     regurgitate/V, shackle/V, sedate/V, malarial/J \\\\\n",
      "serra/N        &              pico/N, noronha/N, barros/N, isidro/N &           oeste/N, bueno/N, jardim/N, freitas/N &           barra/N, castelo/N, domingos/N, jardim/N \\\\\n",
      "microsoft/N    &                 ibm/N, ms-do/N, linux/N, netware/N &                 ibm/N, symbian/N, sdk/N, unix/N &                    linux/N, ms-do/N, ibm/N, unix/N \\\\\n",
      "sancti/N       &   benedictus/N, francorum/N, sanctus/N, chronica/N &              selva/N, badia/N, santi/N, terme/N &                medio/N, guarda/N, studi/N, sacra/N \\\\\n",
      "\\bottomrule\n",
      "\\end{tabular}\n",
      "\n"
     ]
    }
   ],
   "source": [
    "print(df.to_latex())"
   ]
  },
  {
   "cell_type": "code",
   "execution_count": 15,
   "metadata": {
    "collapsed": false
   },
   "outputs": [
    {
     "data": {
      "text/html": [
       "<div>\n",
       "<table border=\"1\" class=\"dataframe\">\n",
       "  <thead>\n",
       "    <tr style=\"text-align: right;\">\n",
       "      <th></th>\n",
       "      <th>0</th>\n",
       "      <th>1</th>\n",
       "      <th>2</th>\n",
       "    </tr>\n",
       "  </thead>\n",
       "  <tbody>\n",
       "    <tr>\n",
       "      <th>fertilization/N</th>\n",
       "      <td>fertilisation/N, oocyte/N, spermatozoon/N, mat...</td>\n",
       "      <td>fertilisation/N, ovulation/N, lactation/N, clo...</td>\n",
       "      <td>oocyte/N, implantation/N, fertilisation/N, mei...</td>\n",
       "    </tr>\n",
       "    <tr>\n",
       "      <th>greenblatt/N</th>\n",
       "      <td>billington/N, creeley/N, jerrold/N, nathanson/N</td>\n",
       "      <td>greenwald/N, horrible/N, callicott/N, alanna/N</td>\n",
       "      <td>schulman/N, streeter/N, newsman/N, smigel/N</td>\n",
       "    </tr>\n",
       "    <tr>\n",
       "      <th>voice-over/J</th>\n",
       "      <td>non-musical/J, standup/N, unscripted/J, off-be...</td>\n",
       "      <td>videographer/N, voiceover/N, on-camera/J, colo...</td>\n",
       "      <td>voiceover/N, standup/N, videographer/N, colori...</td>\n",
       "    </tr>\n",
       "    <tr>\n",
       "      <th>matzo/N</th>\n",
       "      <td>matzah/N, unleavened/J, casserole/N, steamed/J</td>\n",
       "      <td>unleavened/J, knead/V, breadcrumb/N, cappuccino/N</td>\n",
       "      <td>None</td>\n",
       "    </tr>\n",
       "    <tr>\n",
       "      <th>galt/N</th>\n",
       "      <td>hynes/N, maclaren/N, hewes/N, jerrold/N</td>\n",
       "      <td>nutting/N, kuttner/N, bayley/N, dillingham/N</td>\n",
       "      <td>hamilton/N, fernie/N, hovey/N, cottingham/N</td>\n",
       "    </tr>\n",
       "    <tr>\n",
       "      <th>grate/V</th>\n",
       "      <td>crispy/J, curd/N, suet/N, deep-fried/J</td>\n",
       "      <td>garnish/V, shredded/J, sliced/J, crispy/J</td>\n",
       "      <td>shredded/J, shred/V, flake/V, melted/J</td>\n",
       "    </tr>\n",
       "    <tr>\n",
       "      <th>→/N</th>\n",
       "      <td>→/UNK, f/UNK, ≤/UNK, ∈/N</td>\n",
       "      <td>None</td>\n",
       "      <td>None</td>\n",
       "    </tr>\n",
       "    <tr>\n",
       "      <th>fugitive/N</th>\n",
       "      <td>fugitive/J, ex-slave/N, manumission/N, wrongfu...</td>\n",
       "      <td>escapee/N, fugitive/J, convict/N, ill-treatment/N</td>\n",
       "      <td>convict/N, non-combatant/N, infiltrator/N, jai...</td>\n",
       "    </tr>\n",
       "    <tr>\n",
       "      <th>dunkirk/N</th>\n",
       "      <td>anzio/N, bastogne/N, fontenoy/N, toulon/N</td>\n",
       "      <td>louisbourg/N, quiberon/N, minorca/N, lae/N</td>\n",
       "      <td>anzio/N, buna/N, wilhelmshaven/N, zeebrugge/N</td>\n",
       "    </tr>\n",
       "    <tr>\n",
       "      <th>respirator/N</th>\n",
       "      <td>tampon/N, silencer/N, treadmill/N, flashlight/N</td>\n",
       "      <td>unfiltered/J, potentiometer/N, wet/V, o-ring/N</td>\n",
       "      <td>azt/N, iud/N, biofeedback/N, anatomic/J</td>\n",
       "    </tr>\n",
       "  </tbody>\n",
       "</table>\n",
       "</div>"
      ],
      "text/plain": [
       "                                                                 0  \\\n",
       "fertilization/N  fertilisation/N, oocyte/N, spermatozoon/N, mat...   \n",
       "greenblatt/N       billington/N, creeley/N, jerrold/N, nathanson/N   \n",
       "voice-over/J     non-musical/J, standup/N, unscripted/J, off-be...   \n",
       "matzo/N             matzah/N, unleavened/J, casserole/N, steamed/J   \n",
       "galt/N                     hynes/N, maclaren/N, hewes/N, jerrold/N   \n",
       "grate/V                     crispy/J, curd/N, suet/N, deep-fried/J   \n",
       "→/N                                       →/UNK, f/UNK, ≤/UNK, ∈/N   \n",
       "fugitive/N       fugitive/J, ex-slave/N, manumission/N, wrongfu...   \n",
       "dunkirk/N                anzio/N, bastogne/N, fontenoy/N, toulon/N   \n",
       "respirator/N       tampon/N, silencer/N, treadmill/N, flashlight/N   \n",
       "\n",
       "                                                                 1  \\\n",
       "fertilization/N  fertilisation/N, ovulation/N, lactation/N, clo...   \n",
       "greenblatt/N        greenwald/N, horrible/N, callicott/N, alanna/N   \n",
       "voice-over/J     videographer/N, voiceover/N, on-camera/J, colo...   \n",
       "matzo/N          unleavened/J, knead/V, breadcrumb/N, cappuccino/N   \n",
       "galt/N                nutting/N, kuttner/N, bayley/N, dillingham/N   \n",
       "grate/V                  garnish/V, shredded/J, sliced/J, crispy/J   \n",
       "→/N                                                           None   \n",
       "fugitive/N       escapee/N, fugitive/J, convict/N, ill-treatment/N   \n",
       "dunkirk/N               louisbourg/N, quiberon/N, minorca/N, lae/N   \n",
       "respirator/N        unfiltered/J, potentiometer/N, wet/V, o-ring/N   \n",
       "\n",
       "                                                                 2  \n",
       "fertilization/N  oocyte/N, implantation/N, fertilisation/N, mei...  \n",
       "greenblatt/N           schulman/N, streeter/N, newsman/N, smigel/N  \n",
       "voice-over/J     voiceover/N, standup/N, videographer/N, colori...  \n",
       "matzo/N                                                       None  \n",
       "galt/N                 hamilton/N, fernie/N, hovey/N, cottingham/N  \n",
       "grate/V                     shredded/J, shred/V, flake/V, melted/J  \n",
       "→/N                                                           None  \n",
       "fugitive/N       convict/N, non-combatant/N, infiltrator/N, jai...  \n",
       "dunkirk/N            anzio/N, buna/N, wilhelmshaven/N, zeebrugge/N  \n",
       "respirator/N               azt/N, iud/N, biofeedback/N, anatomic/J  "
      ]
     },
     "execution_count": 15,
     "metadata": {},
     "output_type": "execute_result"
    }
   ],
   "source": [
    "df"
   ]
  },
  {
   "cell_type": "code",
   "execution_count": 34,
   "metadata": {
    "collapsed": true
   },
   "outputs": [],
   "source": [
    "df = compare_neighbours(vect, [0, 1, 2], ['stalin/N', 'microsoft/N', 'fugitive/N', 'car/N', 'paris/N', 'smith/N'])"
   ]
  },
  {
   "cell_type": "code",
   "execution_count": 35,
   "metadata": {
    "collapsed": false
   },
   "outputs": [
    {
     "data": {
      "text/html": [
       "<div>\n",
       "<table border=\"1\" class=\"dataframe\">\n",
       "  <thead>\n",
       "    <tr style=\"text-align: right;\">\n",
       "      <th></th>\n",
       "      <th>0</th>\n",
       "      <th>1</th>\n",
       "      <th>2</th>\n",
       "    </tr>\n",
       "  </thead>\n",
       "  <tbody>\n",
       "    <tr>\n",
       "      <th>stalin/N</th>\n",
       "      <td>lenin/N, trotsky/N, bukharin/N, brezhnev/N</td>\n",
       "      <td>lenin/N, hitler/N, goebbels/N, kerensky/N</td>\n",
       "      <td>lenin/N, goebbels/N, neurath/N, kerensky/N</td>\n",
       "    </tr>\n",
       "    <tr>\n",
       "      <th>microsoft/N</th>\n",
       "      <td>ibm/N, ms-do/N, linux/N, netware/N</td>\n",
       "      <td>ibm/N, symbian/N, sdk/N, unix/N</td>\n",
       "      <td>linux/N, ms-do/N, ibm/N, unix/N</td>\n",
       "    </tr>\n",
       "    <tr>\n",
       "      <th>fugitive/N</th>\n",
       "      <td>fugitive/J, ex-slave/N, manumission/N, wrongfu...</td>\n",
       "      <td>escapee/N, fugitive/J, convict/N, ill-treatment/N</td>\n",
       "      <td>convict/N, non-combatant/N, infiltrator/N, jai...</td>\n",
       "    </tr>\n",
       "    <tr>\n",
       "      <th>car/N</th>\n",
       "      <td>truck/N, motorbike/N, automobile/N, motorcycle/N</td>\n",
       "      <td>truck/N, motorbike/N, rear-engined/J, motorcyc...</td>\n",
       "      <td>truck/N, motorbike/N, bike/N, lorry/N</td>\n",
       "    </tr>\n",
       "    <tr>\n",
       "      <th>paris/N</th>\n",
       "      <td>marseille/N, brussels/N, saint-cloud/N, strasb...</td>\n",
       "      <td>brussels/N, aix-en-provence/N, angers/N, bourg...</td>\n",
       "      <td>brussels/N, strasbourg/N, dijon/N, nice/N</td>\n",
       "    </tr>\n",
       "    <tr>\n",
       "      <th>smith/N</th>\n",
       "      <td>mckay/N, robinson/N, fuller/N, moore/N</td>\n",
       "      <td>taylor/N, jones/N, moore/N, bennett/N</td>\n",
       "      <td>taylor/N, jones/N, foster/N, miller/N</td>\n",
       "    </tr>\n",
       "  </tbody>\n",
       "</table>\n",
       "</div>"
      ],
      "text/plain": [
       "                                                             0  \\\n",
       "stalin/N            lenin/N, trotsky/N, bukharin/N, brezhnev/N   \n",
       "microsoft/N                 ibm/N, ms-do/N, linux/N, netware/N   \n",
       "fugitive/N   fugitive/J, ex-slave/N, manumission/N, wrongfu...   \n",
       "car/N         truck/N, motorbike/N, automobile/N, motorcycle/N   \n",
       "paris/N      marseille/N, brussels/N, saint-cloud/N, strasb...   \n",
       "smith/N                 mckay/N, robinson/N, fuller/N, moore/N   \n",
       "\n",
       "                                                             1  \\\n",
       "stalin/N             lenin/N, hitler/N, goebbels/N, kerensky/N   \n",
       "microsoft/N                    ibm/N, symbian/N, sdk/N, unix/N   \n",
       "fugitive/N   escapee/N, fugitive/J, convict/N, ill-treatment/N   \n",
       "car/N        truck/N, motorbike/N, rear-engined/J, motorcyc...   \n",
       "paris/N      brussels/N, aix-en-provence/N, angers/N, bourg...   \n",
       "smith/N                  taylor/N, jones/N, moore/N, bennett/N   \n",
       "\n",
       "                                                             2  \n",
       "stalin/N            lenin/N, goebbels/N, neurath/N, kerensky/N  \n",
       "microsoft/N                    linux/N, ms-do/N, ibm/N, unix/N  \n",
       "fugitive/N   convict/N, non-combatant/N, infiltrator/N, jai...  \n",
       "car/N                    truck/N, motorbike/N, bike/N, lorry/N  \n",
       "paris/N              brussels/N, strasbourg/N, dijon/N, nice/N  \n",
       "smith/N                  taylor/N, jones/N, foster/N, miller/N  "
      ]
     },
     "execution_count": 35,
     "metadata": {},
     "output_type": "execute_result"
    }
   ],
   "source": [
    "df"
   ]
  },
  {
   "cell_type": "code",
   "execution_count": 18,
   "metadata": {
    "collapsed": false
   },
   "outputs": [
    {
     "name": "stdout",
     "output_type": "stream",
     "text": [
      "\\begin{tabular}{llll}\n",
      "\\toprule\n",
      "{} &                                                  0 &                                                  1 &                                                  2 \\\\\n",
      "\\midrule\n",
      "stalin/N    &         lenin/N, trotsky/N, bukharin/N, brezhnev/N &          lenin/N, hitler/N, goebbels/N, kerensky/N &         lenin/N, goebbels/N, neurath/N, kerensky/N \\\\\n",
      "microsoft/N &                 ibm/N, ms-do/N, linux/N, netware/N &                    ibm/N, symbian/N, sdk/N, unix/N &                    linux/N, ms-do/N, ibm/N, unix/N \\\\\n",
      "fugitive/N  &  fugitive/J, ex-slave/N, manumission/N, wrongfu... &  escapee/N, fugitive/J, convict/N, ill-treatment/N &  convict/N, non-combatant/N, infiltrator/N, jai... \\\\\n",
      "car/N       &   truck/N, motorbike/N, automobile/N, motorcycle/N &  truck/N, motorbike/N, rear-engined/J, motorcyc... &              truck/N, motorbike/N, bike/N, lorry/N \\\\\n",
      "\\bottomrule\n",
      "\\end{tabular}\n",
      "\n"
     ]
    }
   ],
   "source": [
    "print(df.to_latex())"
   ]
  },
  {
   "cell_type": "code",
   "execution_count": 36,
   "metadata": {
    "collapsed": false,
    "scrolled": true
   },
   "outputs": [
    {
     "name": "stdout",
     "output_type": "stream",
     "text": [
      "\\begin{tabular}{lll}\n",
      "\\toprule\n",
      "         &   &                                                  0 \\\\\n",
      "\\midrule\n",
      "stalin/N & 0 &         lenin/N, trotsky/N, bukharin/N, brezhnev/N \\\\\n",
      "         & 1 &          lenin/N, hitler/N, goebbels/N, kerensky/N \\\\\n",
      "         & 2 &         lenin/N, goebbels/N, neurath/N, kerensky/N \\\\\n",
      "microsoft/N & 0 &                 ibm/N, ms-do/N, linux/N, netware/N \\\\\n",
      "         & 1 &                    ibm/N, symbian/N, sdk/N, unix/N \\\\\n",
      "         & 2 &                    linux/N, ms-do/N, ibm/N, unix/N \\\\\n",
      "fugitive/N & 0 &  fugitive/J, ex-slave/N, manumission/N, wrongfu... \\\\\n",
      "         & 1 &  escapee/N, fugitive/J, convict/N, ill-treatment/N \\\\\n",
      "         & 2 &  convict/N, non-combatant/N, infiltrator/N, jai... \\\\\n",
      "car/N & 0 &   truck/N, motorbike/N, automobile/N, motorcycle/N \\\\\n",
      "         & 1 &  truck/N, motorbike/N, rear-engined/J, motorcyc... \\\\\n",
      "         & 2 &              truck/N, motorbike/N, bike/N, lorry/N \\\\\n",
      "paris/N & 0 &  marseille/N, brussels/N, saint-cloud/N, strasb... \\\\\n",
      "         & 1 &  brussels/N, aix-en-provence/N, angers/N, bourg... \\\\\n",
      "         & 2 &          brussels/N, strasbourg/N, dijon/N, nice/N \\\\\n",
      "smith/N & 0 &             mckay/N, robinson/N, fuller/N, moore/N \\\\\n",
      "         & 1 &              taylor/N, jones/N, moore/N, bennett/N \\\\\n",
      "         & 2 &              taylor/N, jones/N, foster/N, miller/N \\\\\n",
      "\\bottomrule\n",
      "\\end{tabular}\n",
      "\n"
     ]
    }
   ],
   "source": [
    "print(pd.DataFrame(df.stack()).to_latex())"
   ]
  },
  {
   "cell_type": "code",
   "execution_count": 50,
   "metadata": {
    "collapsed": false
   },
   "outputs": [],
   "source": [
    "import sys\n",
    "sys.path.append('../thesisgenerator/thesisgenerator/')\n",
    "from thesisgenerator.plugins.multivectors import MultiVectors\n",
    "mv = MultiVectors(vect)\n",
    "mv.init_sims(n_neighbors=100)"
   ]
  },
  {
   "cell_type": "code",
   "execution_count": 131,
   "metadata": {
    "collapsed": false
   },
   "outputs": [
    {
     "data": {
      "text/plain": [
       "['ferrari/N',\n",
       " 'lancia/N',\n",
       " 'citroen/N',\n",
       " 'carrera/N',\n",
       " 'enzo/N',\n",
       " 'maserati/N',\n",
       " 'sainz/N',\n",
       " 'honda/N']"
      ]
     },
     "execution_count": 131,
     "metadata": {},
     "output_type": "execute_result"
    }
   ],
   "source": [
    "data = []\n",
    "maxn=8\n",
    "word = 'mercedes/N'\n",
    "reordered = [x[0] for x in mv.get_nearest_neighbours(word)[:maxn]]\n",
    "# mercedes (removes names, e.g. alesi, sebastien)\n",
    "# silver/N (removes \"event\", \"caldecott\") which belong to a certain sense (competition)\n",
    "data.append(reordered)\n",
    "reordered"
   ]
  },
  {
   "cell_type": "code",
   "execution_count": 132,
   "metadata": {
    "collapsed": false
   },
   "outputs": [
    {
     "name": "stdout",
     "output_type": "stream",
     "text": [
      "['lancia/N', 'carrera/N', 'ferrari/N', 'alesi/N', 'flavio/N', 'nuvolari/N', 'sébastien/N', 'renault/N']\n",
      "---------------\n",
      "['ferrari/N', 'lola/N', 'ducati/N', 'tipo/N', 'oldsmobile/N', 'panoz/N', 'duhamel/N', 'risi/N']\n",
      "---------------\n",
      "['ascari/N', 'citroen/N', 'sauber/N', 'gallardo/N', 'caprice/N', 'lola/N', 'risi/N', 'hispano/N']\n",
      "---------------\n"
     ]
    }
   ],
   "source": [
    "for v in mv.vectors:\n",
    "    n = v.get_nearest_neighbours(word)\n",
    "    data.append([x[0] for x in n[:maxn]])\n",
    "    print([x[0] for x in n[:maxn]])\n",
    "    print('---------------')"
   ]
  },
  {
   "cell_type": "code",
   "execution_count": 134,
   "metadata": {
    "collapsed": false
   },
   "outputs": [
    {
     "data": {
      "text/html": [
       "<div>\n",
       "<table border=\"1\" class=\"dataframe\">\n",
       "  <thead>\n",
       "    <tr style=\"text-align: right;\">\n",
       "      <th></th>\n",
       "      <th>Neigh 1</th>\n",
       "      <th>Neigh 2</th>\n",
       "      <th>Neigh 3</th>\n",
       "      <th>Neigh 4</th>\n",
       "      <th>Neigh 5</th>\n",
       "      <th>Neigh 6</th>\n",
       "      <th>Neigh 7</th>\n",
       "      <th>Neigh 8</th>\n",
       "    </tr>\n",
       "  </thead>\n",
       "  <tbody>\n",
       "    <tr>\n",
       "      <th>rep0</th>\n",
       "      <td>ascari/N</td>\n",
       "      <td>citroen/N</td>\n",
       "      <td>sauber/N</td>\n",
       "      <td>gallardo/N</td>\n",
       "      <td>caprice/N</td>\n",
       "      <td>lola/N</td>\n",
       "      <td>risi/N</td>\n",
       "      <td>hispano/N</td>\n",
       "    </tr>\n",
       "    <tr>\n",
       "      <th>rep1</th>\n",
       "      <td>ferrari/N</td>\n",
       "      <td>lola/N</td>\n",
       "      <td>ducati/N</td>\n",
       "      <td>tipo/N</td>\n",
       "      <td>oldsmobile/N</td>\n",
       "      <td>panoz/N</td>\n",
       "      <td>duhamel/N</td>\n",
       "      <td>risi/N</td>\n",
       "    </tr>\n",
       "    <tr>\n",
       "      <th>rep2</th>\n",
       "      <td>lancia/N</td>\n",
       "      <td>carrera/N</td>\n",
       "      <td>ferrari/N</td>\n",
       "      <td>alesi/N</td>\n",
       "      <td>flavio/N</td>\n",
       "      <td>nuvolari/N</td>\n",
       "      <td>sébastien/N</td>\n",
       "      <td>renault/N</td>\n",
       "    </tr>\n",
       "    <tr>\n",
       "      <th>reordered</th>\n",
       "      <td>ferrari/N</td>\n",
       "      <td>lancia/N</td>\n",
       "      <td>citroen/N</td>\n",
       "      <td>carrera/N</td>\n",
       "      <td>enzo/N</td>\n",
       "      <td>maserati/N</td>\n",
       "      <td>sainz/N</td>\n",
       "      <td>honda/N</td>\n",
       "    </tr>\n",
       "  </tbody>\n",
       "</table>\n",
       "</div>"
      ],
      "text/plain": [
       "             Neigh 1    Neigh 2    Neigh 3     Neigh 4       Neigh 5  \\\n",
       "rep0        ascari/N  citroen/N   sauber/N  gallardo/N     caprice/N   \n",
       "rep1       ferrari/N     lola/N   ducati/N      tipo/N  oldsmobile/N   \n",
       "rep2        lancia/N  carrera/N  ferrari/N     alesi/N      flavio/N   \n",
       "reordered  ferrari/N   lancia/N  citroen/N   carrera/N        enzo/N   \n",
       "\n",
       "              Neigh 6      Neigh 7    Neigh 8  \n",
       "rep0           lola/N       risi/N  hispano/N  \n",
       "rep1          panoz/N    duhamel/N     risi/N  \n",
       "rep2       nuvolari/N  sébastien/N  renault/N  \n",
       "reordered  maserati/N      sainz/N    honda/N  "
      ]
     },
     "execution_count": 134,
     "metadata": {},
     "output_type": "execute_result"
    }
   ],
   "source": [
    "ddf= pd.DataFrame(data[::-1], index='rep0 rep1 rep2 reordered'.split(),\n",
    "            columns=['Neigh %d'%(i+1) for i in range(maxn)])\n",
    "ddf"
   ]
  },
  {
   "cell_type": "code",
   "execution_count": 130,
   "metadata": {
    "collapsed": false
   },
   "outputs": [
    {
     "name": "stdout",
     "output_type": "stream",
     "text": [
      "\\begin{tabular}{lllllll}\n",
      "\\toprule\n",
      "{} &    Neigh 1 &    Neigh 2 &    Neigh 3 &     Neigh 4 &       Neigh 5 &     Neigh 6 \\\\\n",
      "\\midrule\n",
      "rep0      &   ascari/N &  citroen/N &   sauber/N &  gallardo/N &     caprice/N &      lola/N \\\\\n",
      "rep1      &  ferrari/N &     lola/N &   ducati/N &      tipo/N &  oldsmobile/N &     panoz/N \\\\\n",
      "rep2      &   lancia/N &  carrera/N &  ferrari/N &     alesi/N &      flavio/N &  nuvolari/N \\\\\n",
      "reordered &  ferrari/N &   lancia/N &  citroen/N &   carrera/N &        enzo/N &  maserati/N \\\\\n",
      "\\bottomrule\n",
      "\\end{tabular}\n",
      "\n"
     ]
    }
   ],
   "source": [
    "print(ddf.to_latex())"
   ]
  },
  {
   "cell_type": "code",
   "execution_count": null,
   "metadata": {
    "collapsed": true
   },
   "outputs": [],
   "source": []
  }
 ],
 "metadata": {
  "kernelspec": {
   "display_name": "Python 3",
   "language": "python",
   "name": "python3"
  },
  "language_info": {
   "codemirror_mode": {
    "name": "ipython",
    "version": 3
   },
   "file_extension": ".py",
   "mimetype": "text/x-python",
   "name": "python",
   "nbconvert_exporter": "python",
   "pygments_lexer": "ipython3",
   "version": "3.3.5"
  }
 },
 "nbformat": 4,
 "nbformat_minor": 0
}
