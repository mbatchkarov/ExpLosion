{
 "cells": [
  {
   "cell_type": "code",
   "execution_count": 1,
   "metadata": {
    "collapsed": true
   },
   "outputs": [],
   "source": [
    "from discoutils.cmd_utils import build_thesaurus_out_of_vectors\n",
    "import logging\n",
    "import pandas as pd\n",
    "logging.basicConfig(level=logging.INFO,\n",
    "                        format=\"%(asctime)s\\t%(module)s.%(funcName)s \"\"\"\n",
    "                               \"(line %(lineno)d)\\t%(levelname)s : %(\"\"message)s\")"
   ]
  },
  {
   "cell_type": "code",
   "execution_count": 2,
   "metadata": {
    "collapsed": true
   },
   "outputs": [],
   "source": [
    "from discoutils.thesaurus_loader import Vectors\n",
    "path = '/home/m/mm/mmb28/Desktop/down/exp10-13-with-obs-phrases-SVD100.events.filtered.strings'\n",
    "v = Vectors.from_tsv(path)\n",
    "v.init_sims()"
   ]
  },
  {
   "cell_type": "code",
   "execution_count": 3,
   "metadata": {
    "collapsed": true
   },
   "outputs": [],
   "source": [
    "path = '/home/m/mm/mmb28/Desktop/down/word2vec-gigaw-100perc.unigr.strings.rep0'\n",
    "w2v = Vectors.from_tsv(path)\n",
    "w2v.init_sims()"
   ]
  },
  {
   "cell_type": "code",
   "execution_count": 5,
   "metadata": {
    "collapsed": false
   },
   "outputs": [
    {
     "data": {
      "text/html": [
       "<div style=\"max-height:1000px;max-width:1500px;overflow:auto;\">\n",
       "<table border=\"1\" class=\"dataframe\">\n",
       "  <thead>\n",
       "    <tr style=\"text-align: right;\">\n",
       "      <th></th>\n",
       "      <th>wins</th>\n",
       "      <th>w2v</th>\n",
       "    </tr>\n",
       "  </thead>\n",
       "  <tbody>\n",
       "    <tr>\n",
       "      <th>attack/V</th>\n",
       "      <td>raid/N, assault/N, firing/N, shell/V</td>\n",
       "      <td>use/V, target/V, approach/V, muslim-led/J</td>\n",
       "    </tr>\n",
       "    <tr>\n",
       "      <th>small/J</th>\n",
       "      <td>large/J, huge/J, place/V, damage/V</td>\n",
       "      <td>large/J, huge/J, beetle/N, eclectic/J</td>\n",
       "    </tr>\n",
       "    <tr>\n",
       "      <th>car/N</th>\n",
       "      <td>vehicle/N, truck/N, bus/N, driver/N</td>\n",
       "      <td>truck/N, scooter/N, vehicle/N, trolley/N</td>\n",
       "    </tr>\n",
       "    <tr>\n",
       "      <th>computer/N</th>\n",
       "      <td>software/N, technology/N, internet/N, video/N</td>\n",
       "      <td>software/N, electronic/J, photocopier/N, hands...</td>\n",
       "    </tr>\n",
       "    <tr>\n",
       "      <th>official/N</th>\n",
       "      <td>source/N, statement/N, ministry/N, authority/N</td>\n",
       "      <td>expert/N, diplomat/N, offical/N, source/N</td>\n",
       "    </tr>\n",
       "    <tr>\n",
       "      <th>monday/N</th>\n",
       "      <td>tuesday/N, thursday/N, wednesday/N, friday/N</td>\n",
       "      <td>tuesday/N, thursday/N, wednesday/N, friday/N</td>\n",
       "    </tr>\n",
       "    <tr>\n",
       "      <th>arafat/N</th>\n",
       "      <td>yasser/N, netanyahu/N, plo/N, rabin/N</td>\n",
       "      <td>israel/N, palestinian/J, sharon/N, yasser/N</td>\n",
       "    </tr>\n",
       "    <tr>\n",
       "      <th>kill/V</th>\n",
       "      <td>dead/J, die/V, injure/V, wound/V</td>\n",
       "      <td>injure/V, dead/J, wound/V, die/V</td>\n",
       "    </tr>\n",
       "  </tbody>\n",
       "</table>\n",
       "</div>"
      ],
      "text/plain": [
       "                                                      wins  \\\n",
       "attack/V              raid/N, assault/N, firing/N, shell/V   \n",
       "small/J                 large/J, huge/J, place/V, damage/V   \n",
       "car/N                  vehicle/N, truck/N, bus/N, driver/N   \n",
       "computer/N   software/N, technology/N, internet/N, video/N   \n",
       "official/N  source/N, statement/N, ministry/N, authority/N   \n",
       "monday/N      tuesday/N, thursday/N, wednesday/N, friday/N   \n",
       "arafat/N             yasser/N, netanyahu/N, plo/N, rabin/N   \n",
       "kill/V                    dead/J, die/V, injure/V, wound/V   \n",
       "\n",
       "                                                          w2v  \n",
       "attack/V            use/V, target/V, approach/V, muslim-led/J  \n",
       "small/J                 large/J, huge/J, beetle/N, eclectic/J  \n",
       "car/N                truck/N, scooter/N, vehicle/N, trolley/N  \n",
       "computer/N  software/N, electronic/J, photocopier/N, hands...  \n",
       "official/N          expert/N, diplomat/N, offical/N, source/N  \n",
       "monday/N         tuesday/N, thursday/N, wednesday/N, friday/N  \n",
       "arafat/N          israel/N, palestinian/J, sharon/N, yasser/N  \n",
       "kill/V                       injure/V, dead/J, wound/V, die/V  "
      ]
     },
     "execution_count": 5,
     "metadata": {},
     "output_type": "execute_result"
    }
   ],
   "source": [
    "compare_neighbours([v, w2v], \n",
    "        ['wins', 'w2v'], \n",
    "        ['attack/V', 'small/J', 'car/N', 'computer/N', 'official/N', 'monday/N', 'arafat/N', 'kill/V'])"
   ]
  },
  {
   "cell_type": "code",
   "execution_count": 6,
   "metadata": {
    "collapsed": false
   },
   "outputs": [
    {
     "data": {
      "text/html": [
       "<div style=\"max-height:1000px;max-width:1500px;overflow:auto;\">\n",
       "<table border=\"1\" class=\"dataframe\">\n",
       "  <thead>\n",
       "    <tr style=\"text-align: right;\">\n",
       "      <th></th>\n",
       "      <th>wins</th>\n",
       "      <th>w2v</th>\n",
       "    </tr>\n",
       "  </thead>\n",
       "  <tbody>\n",
       "    <tr>\n",
       "      <th>atp/N</th>\n",
       "      <td>wta/N, tennis/N, denote/V, melbourne/N</td>\n",
       "      <td>wta/N, master/N, tennis/N, championships/N</td>\n",
       "    </tr>\n",
       "    <tr>\n",
       "      <th>transit/V</th>\n",
       "      <td>seaport/N, karni/N, israeli-lebanese/J, diaspo...</td>\n",
       "      <td>via/CONJ, traveler/N, onward/RB, overland/N</td>\n",
       "    </tr>\n",
       "    <tr>\n",
       "      <th>rainforest/N</th>\n",
       "      <td>centrepiece/N, biggest-ever/J, exposition/N, f...</td>\n",
       "      <td>temperate/J, pristine/J, outback/N, scenery/N</td>\n",
       "    </tr>\n",
       "    <tr>\n",
       "      <th>denise/N</th>\n",
       "      <td>millar/N, morley/N, charlie/N, judy/N</td>\n",
       "      <td>lauren/N, joanna/N, katie/N, purcell/N</td>\n",
       "    </tr>\n",
       "    <tr>\n",
       "      <th>typical/J</th>\n",
       "      <td>indifferent/J, shocking/J, disadvantage/N, eve...</td>\n",
       "      <td>harbinger/N, light-hearted/J, surreal/J, whiff/N</td>\n",
       "    </tr>\n",
       "    <tr>\n",
       "      <th>surin/N</th>\n",
       "      <td>bruny/N, moses/N, wotherspoon/N, kipketer/N</td>\n",
       "      <td>bruny/N, somluck/N, saen/N, middle-distance/J</td>\n",
       "    </tr>\n",
       "    <tr>\n",
       "      <th>disclosure/N</th>\n",
       "      <td>audit/N, secrecy/N, standard/J, regulator/N</td>\n",
       "      <td>appraisal/N, in-house/J, misrepresentation/N, ...</td>\n",
       "    </tr>\n",
       "    <tr>\n",
       "      <th>mci/N</th>\n",
       "      <td>wireless/N, docomo/N, mca/N, vodafone/N</td>\n",
       "      <td>nortel/N, anheuser-busch/N, telia/N, echostar/N</td>\n",
       "    </tr>\n",
       "    <tr>\n",
       "      <th>lashkar/N</th>\n",
       "      <td>jaish/N, behest/N, kashmiri/J, farooqi/N</td>\n",
       "      <td>jaish/N, harkatul/N, pakistani-based/J, catli/N</td>\n",
       "    </tr>\n",
       "    <tr>\n",
       "      <th>cleric/N</th>\n",
       "      <td>cleric/J, brotherhood/N, imam/N, al-azhar/N</td>\n",
       "      <td>clergyman/N, preacher/N, cleric/J, clergy/N</td>\n",
       "    </tr>\n",
       "  </tbody>\n",
       "</table>\n",
       "</div>"
      ],
      "text/plain": [
       "                                                           wins  \\\n",
       "atp/N                    wta/N, tennis/N, denote/V, melbourne/N   \n",
       "transit/V     seaport/N, karni/N, israeli-lebanese/J, diaspo...   \n",
       "rainforest/N  centrepiece/N, biggest-ever/J, exposition/N, f...   \n",
       "denise/N                  millar/N, morley/N, charlie/N, judy/N   \n",
       "typical/J     indifferent/J, shocking/J, disadvantage/N, eve...   \n",
       "surin/N             bruny/N, moses/N, wotherspoon/N, kipketer/N   \n",
       "disclosure/N        audit/N, secrecy/N, standard/J, regulator/N   \n",
       "mci/N                   wireless/N, docomo/N, mca/N, vodafone/N   \n",
       "lashkar/N              jaish/N, behest/N, kashmiri/J, farooqi/N   \n",
       "cleric/N            cleric/J, brotherhood/N, imam/N, al-azhar/N   \n",
       "\n",
       "                                                            w2v  \n",
       "atp/N                wta/N, master/N, tennis/N, championships/N  \n",
       "transit/V           via/CONJ, traveler/N, onward/RB, overland/N  \n",
       "rainforest/N      temperate/J, pristine/J, outback/N, scenery/N  \n",
       "denise/N                 lauren/N, joanna/N, katie/N, purcell/N  \n",
       "typical/J      harbinger/N, light-hearted/J, surreal/J, whiff/N  \n",
       "surin/N           bruny/N, somluck/N, saen/N, middle-distance/J  \n",
       "disclosure/N  appraisal/N, in-house/J, misrepresentation/N, ...  \n",
       "mci/N           nortel/N, anheuser-busch/N, telia/N, echostar/N  \n",
       "lashkar/N       jaish/N, harkatul/N, pakistani-based/J, catli/N  \n",
       "cleric/N            clergyman/N, preacher/N, cleric/J, clergy/N  "
      ]
     },
     "execution_count": 6,
     "metadata": {},
     "output_type": "execute_result"
    }
   ],
   "source": [
    "compare_neighbours([v, w2v], ['wins', 'w2v'])"
   ]
  }
 ],
 "metadata": {
  "kernelspec": {
   "display_name": "Python 3",
   "language": "python",
   "name": "python3"
  },
  "language_info": {
   "codemirror_mode": {
    "name": "ipython",
    "version": 3
   },
   "file_extension": ".py",
   "mimetype": "text/x-python",
   "name": "python",
   "nbconvert_exporter": "python",
   "pygments_lexer": "ipython3",
   "version": "3.3.5"
  }
 },
 "nbformat": 4,
 "nbformat_minor": 0
}
