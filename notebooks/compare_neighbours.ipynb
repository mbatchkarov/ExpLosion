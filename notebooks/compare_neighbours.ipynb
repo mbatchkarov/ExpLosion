{
 "cells": [
  {
   "cell_type": "code",
   "execution_count": 1,
   "metadata": {
    "collapsed": false
   },
   "outputs": [
    {
     "name": "stdout",
     "output_type": "stream",
     "text": [
      "/Volumes/LocalDataHD/m/mm/mmb28/NetBeansProjects/ExpLosion\n"
     ]
    }
   ],
   "source": [
    "%cd ~/NetBeansProjects/ExpLosion/\n",
    "from notebooks.common_imports import *\n",
    "import logging\n",
    "logging.basicConfig(level=logging.INFO,\n",
    "                        format=\"%(asctime)s\\t%(module)s.%(funcName)s \"\"\"\n",
    "                               \"(line %(lineno)d)\\t%(levelname)s : %(\"\"message)s\")\n",
    "from discoutils.thesaurus_loader import Vectors"
   ]
  },
  {
   "cell_type": "code",
   "execution_count": 2,
   "metadata": {
    "collapsed": true
   },
   "outputs": [],
   "source": [
    "path = '/home/m/mm/mmb28/Desktop/down/exp10-13-with-obs-phrases-SVD100.events.filtered.strings'\n",
    "v = Vectors.from_tsv(path)\n",
    "v.init_sims()"
   ]
  },
  {
   "cell_type": "code",
   "execution_count": 3,
   "metadata": {
    "collapsed": true
   },
   "outputs": [],
   "source": [
    "path = '/home/m/mm/mmb28/Desktop/down/word2vec-gigaw-100perc.unigr.strings.rep0'\n",
    "w2v = Vectors.from_tsv(path)\n",
    "w2v.init_sims()"
   ]
  },
  {
   "cell_type": "code",
   "execution_count": 5,
   "metadata": {
    "collapsed": false
   },
   "outputs": [
    {
     "data": {
      "text/html": [
       "<div style=\"max-height:1000px;max-width:1500px;overflow:auto;\">\n",
       "<table border=\"1\" class=\"dataframe\">\n",
       "  <thead>\n",
       "    <tr style=\"text-align: right;\">\n",
       "      <th></th>\n",
       "      <th>wins</th>\n",
       "      <th>w2v</th>\n",
       "    </tr>\n",
       "  </thead>\n",
       "  <tbody>\n",
       "    <tr>\n",
       "      <th>attack/V</th>\n",
       "      <td>raid/N, assault/N, firing/N, shell/V</td>\n",
       "      <td>use/V, target/V, approach/V, muslim-led/J</td>\n",
       "    </tr>\n",
       "    <tr>\n",
       "      <th>small/J</th>\n",
       "      <td>large/J, huge/J, place/V, damage/V</td>\n",
       "      <td>large/J, huge/J, beetle/N, eclectic/J</td>\n",
       "    </tr>\n",
       "    <tr>\n",
       "      <th>car/N</th>\n",
       "      <td>vehicle/N, truck/N, bus/N, driver/N</td>\n",
       "      <td>truck/N, scooter/N, vehicle/N, trolley/N</td>\n",
       "    </tr>\n",
       "    <tr>\n",
       "      <th>computer/N</th>\n",
       "      <td>software/N, technology/N, internet/N, video/N</td>\n",
       "      <td>software/N, electronic/J, photocopier/N, hands...</td>\n",
       "    </tr>\n",
       "    <tr>\n",
       "      <th>official/N</th>\n",
       "      <td>source/N, statement/N, ministry/N, authority/N</td>\n",
       "      <td>expert/N, diplomat/N, offical/N, source/N</td>\n",
       "    </tr>\n",
       "    <tr>\n",
       "      <th>monday/N</th>\n",
       "      <td>tuesday/N, thursday/N, wednesday/N, friday/N</td>\n",
       "      <td>tuesday/N, thursday/N, wednesday/N, friday/N</td>\n",
       "    </tr>\n",
       "    <tr>\n",
       "      <th>arafat/N</th>\n",
       "      <td>yasser/N, netanyahu/N, plo/N, rabin/N</td>\n",
       "      <td>israel/N, palestinian/J, sharon/N, yasser/N</td>\n",
       "    </tr>\n",
       "    <tr>\n",
       "      <th>kill/V</th>\n",
       "      <td>dead/J, die/V, injure/V, wound/V</td>\n",
       "      <td>injure/V, dead/J, wound/V, die/V</td>\n",
       "    </tr>\n",
       "  </tbody>\n",
       "</table>\n",
       "</div>"
      ],
      "text/plain": [
       "                                                      wins  \\\n",
       "attack/V              raid/N, assault/N, firing/N, shell/V   \n",
       "small/J                 large/J, huge/J, place/V, damage/V   \n",
       "car/N                  vehicle/N, truck/N, bus/N, driver/N   \n",
       "computer/N   software/N, technology/N, internet/N, video/N   \n",
       "official/N  source/N, statement/N, ministry/N, authority/N   \n",
       "monday/N      tuesday/N, thursday/N, wednesday/N, friday/N   \n",
       "arafat/N             yasser/N, netanyahu/N, plo/N, rabin/N   \n",
       "kill/V                    dead/J, die/V, injure/V, wound/V   \n",
       "\n",
       "                                                          w2v  \n",
       "attack/V            use/V, target/V, approach/V, muslim-led/J  \n",
       "small/J                 large/J, huge/J, beetle/N, eclectic/J  \n",
       "car/N                truck/N, scooter/N, vehicle/N, trolley/N  \n",
       "computer/N  software/N, electronic/J, photocopier/N, hands...  \n",
       "official/N          expert/N, diplomat/N, offical/N, source/N  \n",
       "monday/N         tuesday/N, thursday/N, wednesday/N, friday/N  \n",
       "arafat/N          israel/N, palestinian/J, sharon/N, yasser/N  \n",
       "kill/V                       injure/V, dead/J, wound/V, die/V  "
      ]
     },
     "execution_count": 5,
     "metadata": {},
     "output_type": "execute_result"
    }
   ],
   "source": [
    "compare_neighbours([v, w2v], \n",
    "        ['wins', 'w2v'], \n",
    "        ['attack/V', 'small/J', 'car/N', 'computer/N', 'official/N', 'monday/N', 'arafat/N', 'kill/V'])"
   ]
  },
  {
   "cell_type": "code",
   "execution_count": 6,
   "metadata": {
    "collapsed": false
   },
   "outputs": [
    {
     "data": {
      "text/html": [
       "<div style=\"max-height:1000px;max-width:1500px;overflow:auto;\">\n",
       "<table border=\"1\" class=\"dataframe\">\n",
       "  <thead>\n",
       "    <tr style=\"text-align: right;\">\n",
       "      <th></th>\n",
       "      <th>wins</th>\n",
       "      <th>w2v</th>\n",
       "    </tr>\n",
       "  </thead>\n",
       "  <tbody>\n",
       "    <tr>\n",
       "      <th>atp/N</th>\n",
       "      <td>wta/N, tennis/N, denote/V, melbourne/N</td>\n",
       "      <td>wta/N, master/N, tennis/N, championships/N</td>\n",
       "    </tr>\n",
       "    <tr>\n",
       "      <th>transit/V</th>\n",
       "      <td>seaport/N, karni/N, israeli-lebanese/J, diaspo...</td>\n",
       "      <td>via/CONJ, traveler/N, onward/RB, overland/N</td>\n",
       "    </tr>\n",
       "    <tr>\n",
       "      <th>rainforest/N</th>\n",
       "      <td>centrepiece/N, biggest-ever/J, exposition/N, f...</td>\n",
       "      <td>temperate/J, pristine/J, outback/N, scenery/N</td>\n",
       "    </tr>\n",
       "    <tr>\n",
       "      <th>denise/N</th>\n",
       "      <td>millar/N, morley/N, charlie/N, judy/N</td>\n",
       "      <td>lauren/N, joanna/N, katie/N, purcell/N</td>\n",
       "    </tr>\n",
       "    <tr>\n",
       "      <th>typical/J</th>\n",
       "      <td>indifferent/J, shocking/J, disadvantage/N, eve...</td>\n",
       "      <td>harbinger/N, light-hearted/J, surreal/J, whiff/N</td>\n",
       "    </tr>\n",
       "    <tr>\n",
       "      <th>surin/N</th>\n",
       "      <td>bruny/N, moses/N, wotherspoon/N, kipketer/N</td>\n",
       "      <td>bruny/N, somluck/N, saen/N, middle-distance/J</td>\n",
       "    </tr>\n",
       "    <tr>\n",
       "      <th>disclosure/N</th>\n",
       "      <td>audit/N, secrecy/N, standard/J, regulator/N</td>\n",
       "      <td>appraisal/N, in-house/J, misrepresentation/N, ...</td>\n",
       "    </tr>\n",
       "    <tr>\n",
       "      <th>mci/N</th>\n",
       "      <td>wireless/N, docomo/N, mca/N, vodafone/N</td>\n",
       "      <td>nortel/N, anheuser-busch/N, telia/N, echostar/N</td>\n",
       "    </tr>\n",
       "    <tr>\n",
       "      <th>lashkar/N</th>\n",
       "      <td>jaish/N, behest/N, kashmiri/J, farooqi/N</td>\n",
       "      <td>jaish/N, harkatul/N, pakistani-based/J, catli/N</td>\n",
       "    </tr>\n",
       "    <tr>\n",
       "      <th>cleric/N</th>\n",
       "      <td>cleric/J, brotherhood/N, imam/N, al-azhar/N</td>\n",
       "      <td>clergyman/N, preacher/N, cleric/J, clergy/N</td>\n",
       "    </tr>\n",
       "  </tbody>\n",
       "</table>\n",
       "</div>"
      ],
      "text/plain": [
       "                                                           wins  \\\n",
       "atp/N                    wta/N, tennis/N, denote/V, melbourne/N   \n",
       "transit/V     seaport/N, karni/N, israeli-lebanese/J, diaspo...   \n",
       "rainforest/N  centrepiece/N, biggest-ever/J, exposition/N, f...   \n",
       "denise/N                  millar/N, morley/N, charlie/N, judy/N   \n",
       "typical/J     indifferent/J, shocking/J, disadvantage/N, eve...   \n",
       "surin/N             bruny/N, moses/N, wotherspoon/N, kipketer/N   \n",
       "disclosure/N        audit/N, secrecy/N, standard/J, regulator/N   \n",
       "mci/N                   wireless/N, docomo/N, mca/N, vodafone/N   \n",
       "lashkar/N              jaish/N, behest/N, kashmiri/J, farooqi/N   \n",
       "cleric/N            cleric/J, brotherhood/N, imam/N, al-azhar/N   \n",
       "\n",
       "                                                            w2v  \n",
       "atp/N                wta/N, master/N, tennis/N, championships/N  \n",
       "transit/V           via/CONJ, traveler/N, onward/RB, overland/N  \n",
       "rainforest/N      temperate/J, pristine/J, outback/N, scenery/N  \n",
       "denise/N                 lauren/N, joanna/N, katie/N, purcell/N  \n",
       "typical/J      harbinger/N, light-hearted/J, surreal/J, whiff/N  \n",
       "surin/N           bruny/N, somluck/N, saen/N, middle-distance/J  \n",
       "disclosure/N  appraisal/N, in-house/J, misrepresentation/N, ...  \n",
       "mci/N           nortel/N, anheuser-busch/N, telia/N, echostar/N  \n",
       "lashkar/N       jaish/N, harkatul/N, pakistani-based/J, catli/N  \n",
       "cleric/N            clergyman/N, preacher/N, cleric/J, clergy/N  "
      ]
     },
     "execution_count": 6,
     "metadata": {},
     "output_type": "execute_result"
    }
   ],
   "source": [
    "compare_neighbours([v, w2v], ['wins', 'w2v'])"
   ]
  },
  {
   "cell_type": "code",
   "execution_count": 2,
   "metadata": {
    "collapsed": true
   },
   "outputs": [],
   "source": [
    "v = Vectors.from_tsv('../FeatureExtractionToolkit/socher_vectors/turian_unigrams.h5')"
   ]
  },
  {
   "cell_type": "code",
   "execution_count": 3,
   "metadata": {
    "collapsed": true
   },
   "outputs": [],
   "source": [
    "w = Vectors.from_tsv('../FeatureExtractionToolkit/word2vec_vectors/word2vec-wiki-15perc.unigr.strings.rep0')"
   ]
  },
  {
   "cell_type": "code",
   "execution_count": 4,
   "metadata": {
    "collapsed": true
   },
   "outputs": [],
   "source": [
    "v.init_sims(n_neighbors=10)"
   ]
  },
  {
   "cell_type": "code",
   "execution_count": 5,
   "metadata": {
    "collapsed": true
   },
   "outputs": [],
   "source": [
    "w.init_sims(n_neighbors=10)"
   ]
  },
  {
   "cell_type": "code",
   "execution_count": 6,
   "metadata": {
    "collapsed": false
   },
   "outputs": [
    {
     "data": {
      "text/html": [
       "<div style=\"max-height:1000px;max-width:1500px;overflow:auto;\">\n",
       "<table border=\"1\" class=\"dataframe\">\n",
       "  <thead>\n",
       "    <tr style=\"text-align: right;\">\n",
       "      <th></th>\n",
       "      <th>turian</th>\n",
       "      <th>wiki</th>\n",
       "    </tr>\n",
       "  </thead>\n",
       "  <tbody>\n",
       "    <tr>\n",
       "      <th>attack/V</th>\n",
       "      <td>attack/N, attack/J, war/N, war/J</td>\n",
       "      <td>capture/V, approach/V, raid/V, guard/V</td>\n",
       "    </tr>\n",
       "    <tr>\n",
       "      <th>small/J</th>\n",
       "      <td>small/V, small/N, large/V, large/N</td>\n",
       "      <td>large/J, tiny/J, medium-size/J, huge/J</td>\n",
       "    </tr>\n",
       "    <tr>\n",
       "      <th>car/N</th>\n",
       "      <td>car/V, car/J, cargo/J, cargo/V</td>\n",
       "      <td>truck/N, motorbike/N, automobile/N, motorcycle/N</td>\n",
       "    </tr>\n",
       "    <tr>\n",
       "      <th>computer/N</th>\n",
       "      <td>computer/J, computer/V, software/V, software/J</td>\n",
       "      <td>windows-based/J, software/N, computer-based/J,...</td>\n",
       "    </tr>\n",
       "    <tr>\n",
       "      <th>official/N</th>\n",
       "      <td>official/V, official/J, executive/N, executive/V</td>\n",
       "      <td>gardaí/N, ávh/N, securitate/N, wjc/N</td>\n",
       "    </tr>\n",
       "    <tr>\n",
       "      <th>monday/N</th>\n",
       "      <td>monday/V, monday/J, wednesday/J, wednesday/V</td>\n",
       "      <td>friday/N, saturday/N, thursday/N, wednesday/N</td>\n",
       "    </tr>\n",
       "    <tr>\n",
       "      <th>arafat/N</th>\n",
       "      <td>arafat/V, arafat/J, lukashenko/N, lukashenko/V</td>\n",
       "      <td>fatah/N, hamas/N, yasser/N, plo/N</td>\n",
       "    </tr>\n",
       "    <tr>\n",
       "      <th>kill/V</th>\n",
       "      <td>kill/J, kill/N, crush/V, crush/J</td>\n",
       "      <td>capture/V, kidnap/V, shoot/V, maim/V</td>\n",
       "    </tr>\n",
       "  </tbody>\n",
       "</table>\n",
       "</div>"
      ],
      "text/plain": [
       "                                                      turian  \\\n",
       "attack/V                    attack/N, attack/J, war/N, war/J   \n",
       "small/J                   small/V, small/N, large/V, large/N   \n",
       "car/N                         car/V, car/J, cargo/J, cargo/V   \n",
       "computer/N    computer/J, computer/V, software/V, software/J   \n",
       "official/N  official/V, official/J, executive/N, executive/V   \n",
       "monday/N        monday/V, monday/J, wednesday/J, wednesday/V   \n",
       "arafat/N      arafat/V, arafat/J, lukashenko/N, lukashenko/V   \n",
       "kill/V                      kill/J, kill/N, crush/V, crush/J   \n",
       "\n",
       "                                                         wiki  \n",
       "attack/V               capture/V, approach/V, raid/V, guard/V  \n",
       "small/J                large/J, tiny/J, medium-size/J, huge/J  \n",
       "car/N        truck/N, motorbike/N, automobile/N, motorcycle/N  \n",
       "computer/N  windows-based/J, software/N, computer-based/J,...  \n",
       "official/N               gardaí/N, ávh/N, securitate/N, wjc/N  \n",
       "monday/N        friday/N, saturday/N, thursday/N, wednesday/N  \n",
       "arafat/N                    fatah/N, hamas/N, yasser/N, plo/N  \n",
       "kill/V                   capture/V, kidnap/V, shoot/V, maim/V  "
      ]
     },
     "execution_count": 6,
     "metadata": {},
     "output_type": "execute_result"
    }
   ],
   "source": [
    "compare_neighbours([v, w], ['turian', 'wiki'], \n",
    "                ['attack/V', 'small/J', 'car/N', 'computer/N', 'official/N', \n",
    "                 'monday/N', 'arafat/N', 'kill/V'])"
   ]
  },
  {
   "cell_type": "code",
   "execution_count": 7,
   "metadata": {
    "collapsed": false
   },
   "outputs": [
    {
     "data": {
      "text/html": [
       "<div style=\"max-height:1000px;max-width:1500px;overflow:auto;\">\n",
       "<table border=\"1\" class=\"dataframe\">\n",
       "  <thead>\n",
       "    <tr style=\"text-align: right;\">\n",
       "      <th></th>\n",
       "      <th>turian</th>\n",
       "      <th>wiki</th>\n",
       "    </tr>\n",
       "  </thead>\n",
       "  <tbody>\n",
       "    <tr>\n",
       "      <th>reshaping/V</th>\n",
       "      <td>reshaping/J, reshaping/N, reviving/V, reviving...</td>\n",
       "      <td>None</td>\n",
       "    </tr>\n",
       "    <tr>\n",
       "      <th>makelele/J</th>\n",
       "      <td>makelele/N, makelele/V, toshiaki/J, toshiaki/N...</td>\n",
       "      <td>None</td>\n",
       "    </tr>\n",
       "    <tr>\n",
       "      <th>hagi/N</th>\n",
       "      <td>hagi/J, hagi/V, sfeir/J, sfeir/N, sfeir/V, bil...</td>\n",
       "      <td>galatasaray/N, schalke/N, iginla/N, qmjhl/N, w...</td>\n",
       "    </tr>\n",
       "    <tr>\n",
       "      <th>agrarian/N</th>\n",
       "      <td>agrarian/V, agrarian/J, aging/N, aging/V, agin...</td>\n",
       "      <td>uspd/N, marxist-leninist/N, sfio/N, center-rig...</td>\n",
       "    </tr>\n",
       "    <tr>\n",
       "      <th>packaging/V</th>\n",
       "      <td>packaging/J, packaging/N, networking/N, networ...</td>\n",
       "      <td>None</td>\n",
       "    </tr>\n",
       "    <tr>\n",
       "      <th>science/V</th>\n",
       "      <td>science/N, science/J, chemistry/N, chemistry/V...</td>\n",
       "      <td>None</td>\n",
       "    </tr>\n",
       "    <tr>\n",
       "      <th>abstension/N</th>\n",
       "      <td>abstension/V, abstension/J, urbana/J, urbana/N...</td>\n",
       "      <td>None</td>\n",
       "    </tr>\n",
       "    <tr>\n",
       "      <th>meyer/J</th>\n",
       "      <td>meyer/V, meyer/N, forbes/J, forbes/N, forbes/V...</td>\n",
       "      <td>None</td>\n",
       "    </tr>\n",
       "    <tr>\n",
       "      <th>tunnel/V</th>\n",
       "      <td>tunnel/J, tunnel/N, stadium/N, stadium/V, stad...</td>\n",
       "      <td>perforate/V, sandbag/N, arc/V, ingress/N, cais...</td>\n",
       "    </tr>\n",
       "    <tr>\n",
       "      <th>holly/V</th>\n",
       "      <td>holly/N, holly/J, jerome/J, jerome/N, jerome/V...</td>\n",
       "      <td>None</td>\n",
       "    </tr>\n",
       "  </tbody>\n",
       "</table>\n",
       "</div>"
      ],
      "text/plain": [
       "                                                         turian  \\\n",
       "reshaping/V   reshaping/J, reshaping/N, reviving/V, reviving...   \n",
       "makelele/J    makelele/N, makelele/V, toshiaki/J, toshiaki/N...   \n",
       "hagi/N        hagi/J, hagi/V, sfeir/J, sfeir/N, sfeir/V, bil...   \n",
       "agrarian/N    agrarian/V, agrarian/J, aging/N, aging/V, agin...   \n",
       "packaging/V   packaging/J, packaging/N, networking/N, networ...   \n",
       "science/V     science/N, science/J, chemistry/N, chemistry/V...   \n",
       "abstension/N  abstension/V, abstension/J, urbana/J, urbana/N...   \n",
       "meyer/J       meyer/V, meyer/N, forbes/J, forbes/N, forbes/V...   \n",
       "tunnel/V      tunnel/J, tunnel/N, stadium/N, stadium/V, stad...   \n",
       "holly/V       holly/N, holly/J, jerome/J, jerome/N, jerome/V...   \n",
       "\n",
       "                                                           wiki  \n",
       "reshaping/V                                                None  \n",
       "makelele/J                                                 None  \n",
       "hagi/N        galatasaray/N, schalke/N, iginla/N, qmjhl/N, w...  \n",
       "agrarian/N    uspd/N, marxist-leninist/N, sfio/N, center-rig...  \n",
       "packaging/V                                                None  \n",
       "science/V                                                  None  \n",
       "abstension/N                                               None  \n",
       "meyer/J                                                    None  \n",
       "tunnel/V      perforate/V, sandbag/N, arc/V, ingress/N, cais...  \n",
       "holly/V                                                    None  "
      ]
     },
     "execution_count": 7,
     "metadata": {},
     "output_type": "execute_result"
    }
   ],
   "source": [
    "compare_neighbours([v, w], ['turian', 'wiki'], n_neighbours=6)"
   ]
  },
  {
   "cell_type": "code",
   "execution_count": null,
   "metadata": {
    "collapsed": true
   },
   "outputs": [],
   "source": []
  }
 ],
 "metadata": {
  "kernelspec": {
   "display_name": "Python 3",
   "language": "python",
   "name": "python3"
  },
  "language_info": {
   "codemirror_mode": {
    "name": "ipython",
    "version": 3
   },
   "file_extension": ".py",
   "mimetype": "text/x-python",
   "name": "python",
   "nbconvert_exporter": "python",
   "pygments_lexer": "ipython3",
   "version": "3.4.3"
  }
 },
 "nbformat": 4,
 "nbformat_minor": 0
}
