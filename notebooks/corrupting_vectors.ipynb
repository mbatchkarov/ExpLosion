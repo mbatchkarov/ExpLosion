{
 "metadata": {
  "name": "",
  "signature": "sha256:722c37922d1e27a4adb3b372cee8db47fb3fbc37a92710d5ac904f5314bc4ac9"
 },
 "nbformat": 3,
 "nbformat_minor": 0,
 "worksheets": [
  {
   "cells": [
    {
     "cell_type": "code",
     "collapsed": false,
     "input": [
      "from discoutils.thesaurus_loader import Vectors\n",
      "from random import sample\n",
      "import numpy as np\n",
      "import logging\n",
      "import seaborn as sns\n",
      "logging.basicConfig(level=logging.INFO,\n",
      "                     format=\"%(asctime)s\\t%(module)s.%(funcName)s (line %(lineno)d)\\t%(levelname)s : %(message)s\")"
     ],
     "language": "python",
     "metadata": {},
     "outputs": [],
     "prompt_number": 1
    },
    {
     "cell_type": "code",
     "collapsed": false,
     "input": [
      "v = Vectors.from_tsv('/mnt/lustre/scratch/inf/mmb28/FeatureExtractionToolkit/word2vec_vectors/composed/AN_NN_word2vec_20percent-rep0_Add.events.filtered.strings')\n",
      "keys = sample(sorted(v.keys()), 10)\n",
      "data = v._obj"
     ],
     "language": "python",
     "metadata": {},
     "outputs": [
      {
       "output_type": "stream",
       "stream": "stderr",
       "text": [
        "2015-02-04 17:09:13,026\t<ipython-input-2-dcbdb31d36e2>.<module> (line 1)\tINFO : Loading thesaurus /mnt/lustre/scratch/inf/mmb28/FeatureExtractionToolkit/word2vec_vectors/composed/AN_NN_word2vec_20percent-rep0_Add.events.filtered.strings from disk\n"
       ]
      }
     ],
     "prompt_number": 2
    },
    {
     "cell_type": "code",
     "collapsed": false,
     "input": [
      "for n in np.arange(0, 1.51, .25):\n",
      "    v = Vectors(data, noise=n)\n",
      "    v.init_sims(n_neighbors=2)\n",
      "    for k in keys[:3]:\n",
      "#         print(v.get_vector(k).data[:3])\n",
      "        print(v.get_nearest_neighbours(k))\n",
      "    print('___________________________________%.1f'%n)"
     ],
     "language": "python",
     "metadata": {},
     "outputs": [
      {
       "output_type": "stream",
       "stream": "stdout",
       "text": [
        "[('non/J_shaft/N', 2.0234959724183512), ('non/J_bolt/N', 2.0264466266919294)]\n",
        "[('stitch/N', 1.9824516971244923), ('strawberry/N_failure/N', 2.069234463334594)]"
       ]
      },
      {
       "output_type": "stream",
       "stream": "stdout",
       "text": [
        "\n",
        "[('cut/N_bearer/N', 2.5574729391352395), ('remark/N', 2.599693097450376)]"
       ]
      },
      {
       "output_type": "stream",
       "stream": "stdout",
       "text": [
        "\n",
        "___________________________________0.0\n",
        "[('non/J_bolt/N', 2.526625840354646), ('non/J_tire/N', 2.7522454632601585)]"
       ]
      },
      {
       "output_type": "stream",
       "stream": "stdout",
       "text": [
        "\n",
        "[('failure/N_mode/N', 2.7413648813540843), ('world-wide/J_sensation/N', 2.7600594881532294)]"
       ]
      },
      {
       "output_type": "stream",
       "stream": "stdout",
       "text": [
        "\n",
        "[('decent/J_remark/N', 2.9258340539499774), ('scratch/N_cut/N', 3.0256096887545492)]"
       ]
      },
      {
       "output_type": "stream",
       "stream": "stdout",
       "text": [
        "\n",
        "___________________________________0.2\n",
        "[('non/J_mat/N', 4.0189424173403827), ('non/J_paint/N', 4.0768063165845119)]"
       ]
      },
      {
       "output_type": "stream",
       "stream": "stdout",
       "text": [
        "\n",
        "[('phillips/N_monster/N', 3.9476807854780867), ('ball/N_failure/N', 4.0684886868842804)]"
       ]
      },
      {
       "output_type": "stream",
       "stream": "stdout",
       "text": [
        "\n",
        "[('vet/N_remark/N', 4.3483622015651413), ('accusation/N', 4.3487899655195674)]"
       ]
      },
      {
       "output_type": "stream",
       "stream": "stdout",
       "text": [
        "\n",
        "___________________________________0.5\n",
        "[('non/J_pro/N', 5.5190101361917954), ('buck/N_amazon/N', 5.5438420089220752)]"
       ]
      },
      {
       "output_type": "stream",
       "stream": "stdout",
       "text": [
        "\n",
        "[('frantic/J_circle/N', 5.5901076263327312), ('bright/J_use/N', 5.6097603238374019)]"
       ]
      },
      {
       "output_type": "stream",
       "stream": "stdout",
       "text": [
        "\n",
        "[('birthplace/N', 5.6553719178659483), ('frequent/J_comment/N', 5.8131149948974237)]"
       ]
      },
      {
       "output_type": "stream",
       "stream": "stdout",
       "text": [
        "\n",
        "___________________________________0.8\n",
        "[('human/J_pig/N', 7.3214298066126897), ('individual/N', 7.4067798014779722)]"
       ]
      },
      {
       "output_type": "stream",
       "stream": "stdout",
       "text": [
        "\n",
        "[('defective/J_control/N', 6.6352072818512342), ('fine/J_collar/N', 6.6550241074701093)]"
       ]
      },
      {
       "output_type": "stream",
       "stream": "stdout",
       "text": [
        "\n",
        "[('great/J_shop/N', 7.1592514257065121), ('loud/J_clock/N', 7.1772119808243815)]"
       ]
      },
      {
       "output_type": "stream",
       "stream": "stdout",
       "text": [
        "\n",
        "___________________________________1.0\n",
        "[('cold/J_film/N', 8.0566367571958999), ('bus/N_right/N', 8.0760321054713451)]"
       ]
      },
      {
       "output_type": "stream",
       "stream": "stdout",
       "text": [
        "\n",
        "[('home/N_miracle/N', 8.2171341621309999), ('right/N_wrist/N', 8.3323682129782668)]"
       ]
      },
      {
       "output_type": "stream",
       "stream": "stdout",
       "text": [
        "\n",
        "[('higher/J_suspect/N', 7.8333699327480311), ('anticipated/J_time/N', 7.8517168500474623)]"
       ]
      },
      {
       "output_type": "stream",
       "stream": "stdout",
       "text": [
        "\n",
        "___________________________________1.2\n",
        "[('plate/N_justice/N', 9.6032022446643062), ('standard/N_blade/N', 9.8461272191716578)]"
       ]
      },
      {
       "output_type": "stream",
       "stream": "stdout",
       "text": [
        "\n",
        "[('mainly/RB', 9.6896596460818714), ('professional/J_package/N', 9.6958366050242724)]"
       ]
      },
      {
       "output_type": "stream",
       "stream": "stdout",
       "text": [
        "\n",
        "[('santa/N_contest/N', 9.6256191190564522), ('acceptable/J_clearance/N', 9.6601665567552129)]"
       ]
      },
      {
       "output_type": "stream",
       "stream": "stdout",
       "text": [
        "\n",
        "___________________________________1.5\n"
       ]
      }
     ],
     "prompt_number": 3
    },
    {
     "cell_type": "code",
     "collapsed": false,
     "input": [
      "from matplotlib import pylab as plt\n",
      "%matplotlib inline\n",
      "plt.hist(v.matrix.data, bins=100)\n",
      "plt.gca().set_yticklabels([])\n",
      "plt.xlim(-2, 2)\n",
      "plt.savefig('plot-w2v-distribution-of-weights.pdf', format='pdf', dpi=300)"
     ],
     "language": "python",
     "metadata": {},
     "outputs": [
      {
       "metadata": {},
       "output_type": "display_data",
       "png": "[encoded data removed]",
       "text": [
        "<matplotlib.figure.Figure at 0x10a2c6b90>"
       ]
      }
     ],
     "prompt_number": 11
    },
    {
     "cell_type": "code",
     "collapsed": false,
     "input": [
      "v.matrix.data.mean()"
     ],
     "language": "python",
     "metadata": {},
     "outputs": [
      {
       "metadata": {},
       "output_type": "pyout",
       "prompt_number": 9,
       "text": [
        "-0.018923800067449655"
       ]
      }
     ],
     "prompt_number": 9
    },
    {
     "cell_type": "code",
     "collapsed": false,
     "input": [
      "np.arange(0, 1.51, .25)"
     ],
     "language": "python",
     "metadata": {},
     "outputs": [
      {
       "metadata": {},
       "output_type": "pyout",
       "prompt_number": 4,
       "text": [
        "array([ 0.  ,  0.25,  0.5 ,  0.75,  1.  ,  1.25,  1.5 ])"
       ]
      }
     ],
     "prompt_number": 4
    },
    {
     "cell_type": "code",
     "collapsed": false,
     "input": [],
     "language": "python",
     "metadata": {},
     "outputs": [],
     "prompt_number": 6
    }
   ],
   "metadata": {}
  }
 ]
}