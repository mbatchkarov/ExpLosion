{
 "metadata": {
  "name": "",
  "signature": "sha256:5d8faeaf6d8bfc9b90000bf4491231d598259f5a4ae202a027314ad2e1d8a7ad"
 },
 "nbformat": 3,
 "nbformat_minor": 0,
 "worksheets": [
  {
   "cells": [
    {
     "cell_type": "code",
     "collapsed": false,
     "input": [
      "%cd ~/NetBeansProjects/ExpLosion/\n",
      "import django_standalone\n",
      "from gui.user_code import get_demsar_diagram, get_demsar_params\n",
      "from gui.models import Experiment\n",
      "from matplotlib import pylab as plt\n",
      "import seaborn as sns\n",
      "import pandas as pd\n",
      "%matplotlib inline\n",
      "plt.rcParams['figure.figsize'] = 12, 9  # that's default image size for this \n",
      "plt.rcParams['savefig.dpi'] = 2 * plt.rcParams['savefig.dpi']"
     ],
     "language": "python",
     "metadata": {},
     "outputs": [
      {
       "output_type": "stream",
       "stream": "stdout",
       "text": [
        "/Users/miroslavbatchkarov/NetBeansProjects/ExpLosion\n"
       ]
      }
     ],
     "prompt_number": 1
    },
    {
     "cell_type": "markdown",
     "metadata": {},
     "source": [
      "# Effect of SVD on count vectors\n",
      "Let's get all count vectors and pair them by SVD, e.g. `depsAdd-noSVD` vs `depsAdd-SVD`"
     ]
    },
    {
     "cell_type": "code",
     "collapsed": false,
     "input": [
      "diffs, labels = [], []\n",
      "for feature_type in ['windows', 'dependencies']:\n",
      "    ids = []\n",
      "    for dims in [0, 100]:\n",
      "        d = {'labelled': 'amazon_grouped-tagged',\n",
      "             'vectors__algorithm': 'count_%s' % feature_type,\n",
      "             'vectors__dimensionality': dims}\n",
      "        exp_ids = Experiment.objects.filter(**d).exclude(vectors__composer='Baroni').\\\n",
      "                    order_by('vectors__composer').values_list('id', flat=True)\n",
      "        # ignore baroni because it's with svd only\n",
      "        ids.append(list(exp_ids))\n",
      "\n",
      "    for a, b in zip(*ids):\n",
      "        significance_df, names, mean_scores = get_demsar_params([a, b],\n",
      "                                                                name_format=['vectors__algorithm', \n",
      "                                                                             'vectors__dimensionality',\n",
      "                                                                             'vectors__composer'])\n",
      "        diffs.append(mean_scores[0] - mean_scores[1])\n",
      "        label = '{} minus {}'.format(*names)\n",
      "        if significance_df.significant[0] == 'True':\n",
      "            label += '***'\n",
      "        labels.append(label)\n",
      "\n",
      "df = pd.DataFrame(dict(name=labels, diffs=diffs))\n",
      "order = df.diffs.argsort()\n",
      "g = sns.factorplot('name', 'diffs', data=df, kind='bar', x_order=df.name[order]);\n",
      "g.set_xticklabels(rotation=90);\n",
      "g.axes.flat[0].set_title('NOSVD - SVD (***=significant)');"
     ],
     "language": "python",
     "metadata": {},
     "outputs": [
      {
       "output_type": "stream",
       "stream": "stdout",
       "text": [
        "running performance query\n",
        "Running significance for experiments [11, 12]\n",
        "running performance query\n",
        "Running significance for experiments [16, 15]\n",
        "running performance query\n",
        "Running significance for experiments [13, 14]\n",
        "running performance query\n",
        "Missing results entry for exp 21 and classifier MultinomialNB\n",
        "Running significance for experiments [20]"
       ]
      },
      {
       "output_type": "stream",
       "stream": "stdout",
       "text": [
        "\n"
       ]
      },
      {
       "ename": "ValueError",
       "evalue": "Cannot run significance test on less than 2 methods: {'CW-0-obs'}",
       "output_type": "pyerr",
       "traceback": [
        "\u001b[0;31m---------------------------------------------------------------------------\u001b[0m\n\u001b[0;31mValueError\u001b[0m                                Traceback (most recent call last)",
        "\u001b[0;32m<ipython-input-2-c108ab01ba33>\u001b[0m in \u001b[0;36m<module>\u001b[0;34m()\u001b[0m\n\u001b[1;32m     14\u001b[0m                                                                 name_format=['vectors__algorithm', \n\u001b[1;32m     15\u001b[0m                                                                              \u001b[0;34m'vectors__dimensionality'\u001b[0m\u001b[0;34m,\u001b[0m\u001b[0;34m\u001b[0m\u001b[0m\n\u001b[0;32m---> 16\u001b[0;31m                                                                              'vectors__composer'])\n\u001b[0m\u001b[1;32m     17\u001b[0m         \u001b[0mdiffs\u001b[0m\u001b[0;34m.\u001b[0m\u001b[0mappend\u001b[0m\u001b[0;34m(\u001b[0m\u001b[0mmean_scores\u001b[0m\u001b[0;34m[\u001b[0m\u001b[0;36m0\u001b[0m\u001b[0;34m]\u001b[0m \u001b[0;34m-\u001b[0m \u001b[0mmean_scores\u001b[0m\u001b[0;34m[\u001b[0m\u001b[0;36m1\u001b[0m\u001b[0;34m]\u001b[0m\u001b[0;34m)\u001b[0m\u001b[0;34m\u001b[0m\u001b[0m\n\u001b[1;32m     18\u001b[0m         \u001b[0mlabel\u001b[0m \u001b[0;34m=\u001b[0m \u001b[0;34m'{} minus {}'\u001b[0m\u001b[0;34m.\u001b[0m\u001b[0mformat\u001b[0m\u001b[0;34m(\u001b[0m\u001b[0;34m*\u001b[0m\u001b[0mnames\u001b[0m\u001b[0;34m)\u001b[0m\u001b[0;34m\u001b[0m\u001b[0m\n",
        "\u001b[0;32m/Users/miroslavbatchkarov/NetBeansProjects/ExpLosion/gui/user_code.py\u001b[0m in \u001b[0;36mget_demsar_params\u001b[0;34m(exp_ids, name_format)\u001b[0m\n\u001b[1;32m    274\u001b[0m         \u001b[0mfull_names\u001b[0m\u001b[0;34m.\u001b[0m\u001b[0mextend\u001b[0m\u001b[0;34m(\u001b[0m\u001b[0;34m[\u001b[0m\u001b[0mthis_name\u001b[0m\u001b[0;34m]\u001b[0m \u001b[0;34m*\u001b[0m \u001b[0mcv_folds\u001b[0m\u001b[0;34m)\u001b[0m\u001b[0;34m\u001b[0m\u001b[0m\n\u001b[1;32m    275\u001b[0m \u001b[0;34m\u001b[0m\u001b[0m\n\u001b[0;32m--> 276\u001b[0;31m     \u001b[0msign_table\u001b[0m\u001b[0;34m,\u001b[0m \u001b[0m_\u001b[0m \u001b[0;34m=\u001b[0m \u001b[0mget_significance_table\u001b[0m\u001b[0;34m(\u001b[0m\u001b[0mexp_ids\u001b[0m\u001b[0;34m,\u001b[0m \u001b[0mdata\u001b[0m\u001b[0;34m=\u001b[0m\u001b[0mdata\u001b[0m\u001b[0;34m,\u001b[0m \u001b[0mnames\u001b[0m\u001b[0;34m=\u001b[0m\u001b[0mfull_names\u001b[0m\u001b[0;34m)\u001b[0m\u001b[0;34m\u001b[0m\u001b[0m\n\u001b[0m\u001b[1;32m    277\u001b[0m     \u001b[0msign_table\u001b[0m \u001b[0;34m=\u001b[0m \u001b[0mmake_df\u001b[0m\u001b[0;34m(\u001b[0m\u001b[0msign_table\u001b[0m\u001b[0;34m)\u001b[0m\u001b[0;34m\u001b[0m\u001b[0m\n\u001b[1;32m    278\u001b[0m \u001b[0;34m\u001b[0m\u001b[0m\n",
        "\u001b[0;32m/Users/miroslavbatchkarov/NetBeansProjects/ExpLosion/gui/user_code.py\u001b[0m in \u001b[0;36mget_significance_table\u001b[0;34m(exp_ids, classifier, data, names)\u001b[0m\n\u001b[1;32m    362\u001b[0m \u001b[0;34m\u001b[0m\u001b[0m\n\u001b[1;32m    363\u001b[0m     \u001b[0;32mif\u001b[0m \u001b[0mlen\u001b[0m\u001b[0;34m(\u001b[0m\u001b[0mset\u001b[0m\u001b[0;34m(\u001b[0m\u001b[0mnames\u001b[0m\u001b[0;34m)\u001b[0m\u001b[0;34m)\u001b[0m \u001b[0;34m<\u001b[0m \u001b[0;36m2\u001b[0m\u001b[0;34m:\u001b[0m\u001b[0;34m\u001b[0m\u001b[0m\n\u001b[0;32m--> 364\u001b[0;31m         \u001b[0;32mraise\u001b[0m \u001b[0mValueError\u001b[0m\u001b[0;34m(\u001b[0m\u001b[0;34m'Cannot run significance test on less than 2 methods: %r'\u001b[0m \u001b[0;34m%\u001b[0m \u001b[0mset\u001b[0m\u001b[0;34m(\u001b[0m\u001b[0mnames\u001b[0m\u001b[0;34m)\u001b[0m\u001b[0;34m)\u001b[0m\u001b[0;34m\u001b[0m\u001b[0m\n\u001b[0m\u001b[1;32m    365\u001b[0m     \u001b[0mmod\u001b[0m \u001b[0;34m=\u001b[0m \u001b[0mMultiComparison\u001b[0m\u001b[0;34m(\u001b[0m\u001b[0mnp\u001b[0m\u001b[0;34m.\u001b[0m\u001b[0marray\u001b[0m\u001b[0;34m(\u001b[0m\u001b[0mdata\u001b[0m\u001b[0;34m)\u001b[0m\u001b[0;34m,\u001b[0m \u001b[0mnames\u001b[0m\u001b[0;34m,\u001b[0m \u001b[0mgroup_order\u001b[0m\u001b[0;34m=\u001b[0m\u001b[0msorted\u001b[0m\u001b[0;34m(\u001b[0m\u001b[0mset\u001b[0m\u001b[0;34m(\u001b[0m\u001b[0mnames\u001b[0m\u001b[0;34m)\u001b[0m\u001b[0;34m)\u001b[0m\u001b[0;34m)\u001b[0m\u001b[0;34m\u001b[0m\u001b[0m\n\u001b[1;32m    366\u001b[0m     \u001b[0ma\u001b[0m \u001b[0;34m=\u001b[0m \u001b[0mmod\u001b[0m\u001b[0;34m.\u001b[0m\u001b[0mtukeyhsd\u001b[0m\u001b[0;34m(\u001b[0m\u001b[0malpha\u001b[0m\u001b[0;34m=\u001b[0m\u001b[0;36m0.01\u001b[0m\u001b[0;34m)\u001b[0m\u001b[0;34m\u001b[0m\u001b[0m\n",
        "\u001b[0;31mValueError\u001b[0m: Cannot run significance test on less than 2 methods: {'CW-0-obs'}"
       ]
      }
     ],
     "prompt_number": 2
    },
    {
     "cell_type": "markdown",
     "metadata": {},
     "source": [
      "# RESULT: When using SVD, dependency features are consistenly and significantly better than windows"
     ]
    },
    {
     "cell_type": "markdown",
     "metadata": {},
     "source": [
      "# Does the classification evaluation framework work?\n",
      "\n",
      "What is the effect of adding uniform random noise to vectors? Can our experiments tell between a set of vectors and a corrupted version of the same vectors? To find out, add uniform random noise from $-n$ to $n$ (x axis) to all non-zero entries in a set of `word2vec` embeddings."
     ]
    },
    {
     "cell_type": "code",
     "collapsed": false,
     "input": [
      "d = {'vectors__unlabelled_percentage': 100,\n",
      "         'labelled': 'amazon_grouped-tagged',\n",
      "         'vectors__dimensionality': 100.0,\n",
      "         'decode_handler': 'SignifiedOnlyFeatureHandler',\n",
      "         'vectors__composer': 'Add',\n",
      "         'vectors__rep': 0, \n",
      "         'k': 3,\n",
      "         'vectors__unlabelled': 'gigaw',\n",
      "         'vectors__algorithm': 'word2vec',\n",
      "         'document_features': 'AN_NN'}\n",
      "e = Experiment.objects.filter(**d).values_list('id', flat=True)"
     ],
     "language": "python",
     "metadata": {},
     "outputs": [],
     "prompt_number": 2
    },
    {
     "cell_type": "code",
     "collapsed": false,
     "input": [
      "from thesisgenerator.utils.output_utils import get_scores, get_cv_fold_count\n",
      "import numpy as np\n",
      "cv_folds = get_cv_fold_count(e)\n",
      "scores, folds, _ = get_scores(e)\n",
      "names = np.repeat(Experiment.objects.filter(id__in=e).values_list('noise', flat=True),\n",
      "                  cv_folds)\n",
      "df = pd.DataFrame(dict(names=names, scores=scores, folds=folds))"
     ],
     "language": "python",
     "metadata": {},
     "outputs": [],
     "prompt_number": 3
    },
    {
     "cell_type": "code",
     "collapsed": false,
     "input": [
      "sns.factorplot('names', 'scores', data=df, kind='bar');"
     ],
     "language": "python",
     "metadata": {},
     "outputs": [
      {
       "metadata": {},
       "output_type": "display_data",
       "png": "[encoded data removed]",
       "text": [
        "<matplotlib.figure.Figure at 0x1049e8dd0>"
       ]
      }
     ],
     "prompt_number": 4
    }
   ],
   "metadata": {}
  }
 ]
}