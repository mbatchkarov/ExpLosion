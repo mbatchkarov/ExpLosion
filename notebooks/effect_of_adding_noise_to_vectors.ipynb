{
 "cells": [
  {
   "cell_type": "code",
   "execution_count": 1,
   "metadata": {
    "collapsed": false
   },
   "outputs": [
    {
     "name": "stdout",
     "output_type": "stream",
     "text": [
      "/Volumes/LocalDataHD/m/mm/mmb28/NetBeansProjects/ExpLosion\n"
     ]
    }
   ],
   "source": [
    "%cd ~/NetBeansProjects/ExpLosion/\n",
    "from notebooks.common_imports import *"
   ]
  },
  {
   "cell_type": "markdown",
   "metadata": {},
   "source": [
    "# Does the classification evaluation framework work?\n",
    "What is the effect of adding uniform random noise to vectors? Can our experiments tell between a set of vectors and a corrupted version of the same vectors? To find out, add uniform random noise from $-n$ to $n$ (x axis) to all non-zero entries in a set of `word2vec` embeddings.\n",
    "     "
   ]
  },
  {
   "cell_type": "code",
   "execution_count": 6,
   "metadata": {
    "collapsed": false
   },
   "outputs": [
    {
     "name": "stdout",
     "output_type": "stream",
     "text": [
      "ids [114, 174, 90, 91, 92, 93, 94, 95, 96, 97, 98, 99] names ['0.0', '0.0', '0.2', '0.4', '0.6', '0.8', '1.0', '1.2', '1.4', '1.6', '1.8', '2.0']\n",
      "running performance query for experiments [114, 174]\n",
      "Missing results entry for exp 114 and classifier MultinomialNB\n",
      "Missing results entry for exp 174 and classifier MultinomialNB\n"
     ]
    },
    {
     "ename": "AttributeError",
     "evalue": "'NoneType' object has no attribute 'significant'",
     "output_type": "error",
     "traceback": [
      "\u001b[0;31m---------------------------------------------------------------------------\u001b[0m",
      "\u001b[0;31mAttributeError\u001b[0m                            Traceback (most recent call last)",
      "\u001b[0;32m<ipython-input-6-435099da670e>\u001b[0m in \u001b[0;36m<module>\u001b[0;34m()\u001b[0m\n\u001b[1;32m     29\u001b[0m \u001b[0;32mfor\u001b[0m \u001b[0mi\u001b[0m\u001b[0;34m,\u001b[0m \u001b[0;34m(\u001b[0m\u001b[0me1\u001b[0m\u001b[0;34m,\u001b[0m \u001b[0me2\u001b[0m\u001b[0;34m)\u001b[0m \u001b[0;32min\u001b[0m \u001b[0menumerate\u001b[0m\u001b[0;34m(\u001b[0m\u001b[0mpairwise\u001b[0m\u001b[0;34m(\u001b[0m\u001b[0me\u001b[0m\u001b[0;34m)\u001b[0m\u001b[0;34m)\u001b[0m\u001b[0;34m:\u001b[0m\u001b[0;34m\u001b[0m\u001b[0m\n\u001b[1;32m     30\u001b[0m     \u001b[0mt\u001b[0m\u001b[0;34m,\u001b[0m \u001b[0m_\u001b[0m\u001b[0;34m,\u001b[0m \u001b[0m_\u001b[0m \u001b[0;34m=\u001b[0m \u001b[0mget_demsar_params\u001b[0m\u001b[0;34m(\u001b[0m\u001b[0;34m[\u001b[0m\u001b[0me1\u001b[0m\u001b[0;34m,\u001b[0m \u001b[0me2\u001b[0m\u001b[0;34m]\u001b[0m\u001b[0;34m,\u001b[0m \u001b[0mname_format\u001b[0m\u001b[0;34m=\u001b[0m\u001b[0;34m[\u001b[0m\u001b[0;34m'id'\u001b[0m\u001b[0;34m]\u001b[0m\u001b[0;34m)\u001b[0m\u001b[0;34m\u001b[0m\u001b[0m\n\u001b[0;32m---> 31\u001b[0;31m     \u001b[0;32mif\u001b[0m \u001b[0mt\u001b[0m\u001b[0;34m.\u001b[0m\u001b[0msignificant\u001b[0m\u001b[0;34m[\u001b[0m\u001b[0;36m0\u001b[0m\u001b[0;34m]\u001b[0m \u001b[0;34m==\u001b[0m \u001b[0;34m'True'\u001b[0m\u001b[0;34m:\u001b[0m\u001b[0;34m\u001b[0m\u001b[0m\n\u001b[0m\u001b[1;32m     32\u001b[0m         \u001b[0;31m# significant difference exists\u001b[0m\u001b[0;34m\u001b[0m\u001b[0;34m\u001b[0m\u001b[0m\n\u001b[1;32m     33\u001b[0m         \u001b[0mraw_names\u001b[0m\u001b[0;34m[\u001b[0m\u001b[0mi\u001b[0m\u001b[0;34m]\u001b[0m \u001b[0;34m+=\u001b[0m \u001b[0;34m'*'\u001b[0m\u001b[0;34m\u001b[0m\u001b[0m\n",
      "\u001b[0;31mAttributeError\u001b[0m: 'NoneType' object has no attribute 'significant'"
     ]
    }
   ],
   "source": [
    "d = {'vectors__unlabelled_percentage': 100,\n",
    "         'labelled': 'amazon_grouped-tagged',\n",
    "         'vectors__dimensionality': 100.0,\n",
    "         'decode_handler': 'SignifiedOnlyFeatureHandler',\n",
    "         'vectors__composer': 'Add',\n",
    "         'vectors__rep': 0, \n",
    "         'k': 3,\n",
    "         'vectors__unlabelled': 'wiki',\n",
    "         'vectors__algorithm': 'word2vec',\n",
    "         'document_features_tr': 'J+N+AN+NN',\n",
    "         'document_features_ev': 'AN+NN'}\n",
    "e = Experiment.objects.filter(**d).order_by('noise').values_list('id', flat=True)\n",
    "from thesisgenerator.utils.output_utils import get_scores, get_cv_fold_count\n",
    "import numpy as np\n",
    "cv_folds = get_cv_fold_count(e)\n",
    "scores, folds, _ = get_scores(e)\n",
    "raw_names = ['%1.1f'%x for x in Experiment.objects.filter(id__in=e).order_by('noise').values_list('noise', flat=True)]\n",
    "\n",
    "# calculate significance\n",
    "from itertools import tee\n",
    "from gui.user_code import get_demsar_params\n",
    "def pairwise(iterable):\n",
    "    \"s -> (s0,s1), (s1,s2), (s2, s3), ...\"\n",
    "    a, b = tee(iterable)\n",
    "    next(b, None)\n",
    "    return zip(a, b)\n",
    "\n",
    "print('ids', e, 'names', raw_names)\n",
    "for i, (e1, e2) in enumerate(pairwise(e)):\n",
    "    t, _, _ = get_demsar_params([e1, e2], name_format=['id'])\n",
    "    if t.significant[0] == 'True':\n",
    "        # significant difference exists\n",
    "        raw_names[i] += '*'\n",
    "#     else:\n",
    "#         raw_names[i] += '   . '\n",
    "\n",
    "names = np.repeat(raw_names, cv_folds)\n",
    "df = pd.DataFrame(dict(Noise=names, F1=scores, folds=folds))\n",
    "ax = sns.factorplot('Noise', 'F1', data=df, kind='bar', aspect=1.5);\n",
    "ax.set_xticklabels(rotation=45);\n",
    "\n",
    "# random baseline for comparison\n",
    "rand = Experiment.objects.get(vectors__algorithm='random_vect', labelled='amazon_grouped-tagged').id\n",
    "score, score_std = Results.objects.get(id=rand, \n",
    "                                          classifier='MultinomialNB').get_performance_info('macrof1')\n",
    "plt.hlines(score, -100, 100)\n",
    "plt.savefig('plot-noise-gigaword-add.pdf', format='pdf', dpi=300, bbox_inches='tight', pad_inches=0.1)"
   ]
  },
  {
   "cell_type": "code",
   "execution_count": null,
   "metadata": {
    "collapsed": false
   },
   "outputs": [],
   "source": []
  }
 ],
 "metadata": {
  "kernelspec": {
   "display_name": "Python 3",
   "language": "python",
   "name": "python3"
  },
  "language_info": {
   "codemirror_mode": {
    "name": "ipython",
    "version": 3
   },
   "file_extension": ".py",
   "mimetype": "text/x-python",
   "name": "python",
   "nbconvert_exporter": "python",
   "pygments_lexer": "ipython3",
   "version": "3.4.3"
  }
 },
 "nbformat": 4,
 "nbformat_minor": 0
}
