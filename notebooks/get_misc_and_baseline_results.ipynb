{
 "cells": [
  {
   "cell_type": "markdown",
   "metadata": {},
   "source": [
    "# Purpose of this notebook\n",
    "Query the results database for baseline results that are best displayed in a table (as opposed to a graph)"
   ]
  },
  {
   "cell_type": "code",
   "execution_count": 2,
   "metadata": {
    "collapsed": false
   },
   "outputs": [
    {
     "name": "stdout",
     "output_type": "stream",
     "text": [
      "/Users/miroslavbatchkarov/NetBeansProjects/ExpLosion\n"
     ]
    }
   ],
   "source": [
    "%cd ~/NetBeansProjects/ExpLosion/\n",
    "from notebooks.common_imports import *\n",
    "import numpy as np"
   ]
  },
  {
   "cell_type": "code",
   "execution_count": 23,
   "metadata": {
    "collapsed": false
   },
   "outputs": [
    {
     "name": "stdout",
     "output_type": "stream",
     "text": [
      "5 J+N+AN+NN AN+NN amazon_grouped-tagged 0.845399832355 0.853062092978 0.837671996905 0.00769504803662\n",
      "6 J+N+AN+NN AN+NN reuters21578/r8-tagged-grouped 0.927997311828 0.944559811828 0.91095094086 0.0168044354839\n",
      "7 J+N+AN+NN J+N+AN+NN amazon_grouped-tagged 0.897175814536 0.903261904762 0.891037593985 0.00611215538847\n",
      "247 J+N+V+SVO SVO amazon_grouped-tagged 0.731692939245 0.752873563218 0.706689244663 0.0230921592775\n"
     ]
    }
   ],
   "source": [
    "# bag-of-NPs results\n",
    "for e in Experiment.objects.filter(expansions__decode_handler='BaseFeatureHandler'):\n",
    "    mean, low, high, _ = get_ci(e.id)\n",
    "    print(e.id, e.document_features_tr, e.document_features_ev, e.labelled, mean, high, low, (high-low)/2)"
   ]
  },
  {
   "cell_type": "code",
   "execution_count": 22,
   "metadata": {
    "collapsed": false
   },
   "outputs": [
    {
     "name": "stdout",
     "output_type": "stream",
     "text": [
      "1 amazon_grouped-tagged random_neigh 0.21804459735 0.226905262487 0.209670616718 0.00861732288481\n",
      "2 amazon_grouped-tagged random_vect 0.218249108053 0.227223814985 0.209600535168 0.00881163990826\n",
      "3 reuters21578/r8-tagged-grouped random_neigh 0.502913612565 0.533383507853 0.476763743455 0.028309882199\n",
      "4 reuters21578/r8-tagged-grouped random_vect 0.502280104712 0.537964659686 0.465307591623 0.0363285340314\n"
     ]
    }
   ],
   "source": [
    "# random vectors/neighbours\n",
    "means = []\n",
    "for r in Experiment.objects.filter(expansions__vectors__algorithm__startswith='random_'):\n",
    "    mean, low, high, _ = get_ci(r.id)\n",
    "    print(r.id, r.labelled, r.expansions.vectors.algorithm, mean, high, low, (high-low)/2)"
   ]
  },
  {
   "cell_type": "code",
   "execution_count": null,
   "metadata": {
    "collapsed": true
   },
   "outputs": [],
   "source": []
  }
 ],
 "metadata": {
  "kernelspec": {
   "display_name": "Python 3",
   "language": "python",
   "name": "python3"
  },
  "language_info": {
   "codemirror_mode": {
    "name": "ipython",
    "version": 3
   },
   "file_extension": ".py",
   "mimetype": "text/x-python",
   "name": "python",
   "nbconvert_exporter": "python",
   "pygments_lexer": "ipython3",
   "version": "3.3.5"
  }
 },
 "nbformat": 4,
 "nbformat_minor": 0
}
