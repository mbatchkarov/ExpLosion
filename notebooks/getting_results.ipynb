{
 "metadata": {
  "name": "",
  "signature": "sha256:5712a9b7da44ccac31fc10da5e502176303640222f10be53df3a7639fea38cdc"
 },
 "nbformat": 3,
 "nbformat_minor": 0,
 "worksheets": [
  {
   "cells": [
    {
     "cell_type": "markdown",
     "metadata": {},
     "source": [
      "# Purpose of this notebook\n",
      "Query the results database for baseline results that are best displayed in a table (as opposed to a graph)"
     ]
    },
    {
     "cell_type": "code",
     "collapsed": false,
     "input": [
      "%cd ~/NetBeansProjects/ExpLosion/\n",
      "import django_standalone\n",
      "from gui.models import *\n",
      "import numpy as np"
     ],
     "language": "python",
     "metadata": {},
     "outputs": [
      {
       "output_type": "stream",
       "stream": "stdout",
       "text": [
        "/Volumes/LocalDataHD/m/mm/mmb28/NetBeansProjects/ExpLosion\n"
       ]
      }
     ],
     "prompt_number": 1
    },
    {
     "cell_type": "code",
     "collapsed": false,
     "input": [
      "# bag-of-NPs results\n",
      "for r in Results.objects.filter(id__decode_handler='BaseFeatureHandler', classifier='MultinomialNB'):\n",
      "     print(r.id.labelled, r.get_performance_info('macrof1'))"
     ],
     "language": "python",
     "metadata": {},
     "outputs": [
      {
       "output_type": "stream",
       "stream": "stdout",
       "text": [
        "amazon_grouped-tagged (0.812889, 0.022732)\n",
        "aclImdb-tagged (0.717455, 0.013099)\n"
       ]
      }
     ],
     "prompt_number": 2
    },
    {
     "cell_type": "code",
     "collapsed": false,
     "input": [
      "# random vectors/neighbours\n",
      "means = []\n",
      "for r in Results.objects.filter(id__vectors__algorithm__startswith='random_', classifier='MultinomialNB'):\n",
      "    print(r.id.labelled, r.id.vectors.algorithm, r.get_performance_info('macrof1'))\n",
      "    if 'tech' in r.id.labelled:\n",
      "        means.append(r.get_performance_info('macrof1'))\n",
      "print('----------')\n",
      "print(np.mean([x[0] for x in means]))\n",
      "print(np.mean([x[1] for x in means]))"
     ],
     "language": "python",
     "metadata": {},
     "outputs": [
      {
       "output_type": "stream",
       "stream": "stderr",
       "text": [
        "/Volumes/LocalDataHD/m/mm/mmb28/anaconda/envs/py33/lib/python3.3/site-packages/numpy/core/_methods.py:59: RuntimeWarning: Mean of empty slice.\n",
        "  warnings.warn(\"Mean of empty slice.\", RuntimeWarning)\n",
        "\n"
       ]
      },
      {
       "output_type": "stream",
       "stream": "stderr",
       "text": [
        "WARNING:py.warnings:/Volumes/LocalDataHD/m/mm/mmb28/anaconda/envs/py33/lib/python3.3/site-packages/numpy/core/_methods.py:59: RuntimeWarning: Mean of empty slice.\n",
        "  warnings.warn(\"Mean of empty slice.\", RuntimeWarning)\n",
        "\n"
       ]
      },
      {
       "output_type": "stream",
       "stream": "stdout",
       "text": [
        "amazon_grouped-tagged random_neigh (0.182273, 0.00429)\n",
        "aclImdb-tagged random_neigh (0.479685, 0.006787)\n",
        "aclImdb-tagged random_vect (0.48924, 0.010639)\n",
        "amazon_grouped-tagged random_vect (0.179087, 0.006862)\n",
        "----------\n",
        "nan\n",
        "nan\n"
       ]
      }
     ],
     "prompt_number": 3
    },
    {
     "cell_type": "code",
     "collapsed": false,
     "input": [
      "# ids of all random vectors experiments- some were never started\n",
      "for foo in Experiment.objects.filter(vectors__algorithm='random_vect'):\n",
      "    print(foo)"
     ],
     "language": "python",
     "metadata": {},
     "outputs": [
      {
       "output_type": "stream",
       "stream": "stdout",
       "text": [
        "72: amazon_grouped-tagged,Vectors: random_vect,random_vect,None,None\n",
        "83: aclImdb-tagged,Vectors: random_vect,random_vect,None,None\n",
        "798: reuters21578/r8-tagged-grouped,Vectors: random_vect,random_vect,None,None\n"
       ]
      }
     ],
     "prompt_number": 4
    },
    {
     "cell_type": "code",
     "collapsed": false,
     "input": [
      "# How many TechTC experiments actually finished?\n",
      "total = len(Experiment.objects.filter(labelled__startswith='tech'))\n",
      "failed = sum(1 for _ in Experiment.objects.filter(labelled__startswith='tech', date_ran=None))\n",
      "failed, total, failed/total"
     ],
     "language": "python",
     "metadata": {},
     "outputs": [
      {
       "metadata": {},
       "output_type": "pyout",
       "prompt_number": 6,
       "text": [
        "(150, 150, 1.0)"
       ]
      }
     ],
     "prompt_number": 6
    },
    {
     "cell_type": "code",
     "collapsed": false,
     "input": [],
     "language": "python",
     "metadata": {},
     "outputs": []
    }
   ],
   "metadata": {}
  }
 ]
}