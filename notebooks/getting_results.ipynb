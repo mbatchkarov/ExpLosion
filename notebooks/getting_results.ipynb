{
 "metadata": {
  "name": "",
  "signature": "sha256:5568502ac492aaff116afac156970ffe3810f72fb05ab7e27c07f0138982d333"
 },
 "nbformat": 3,
 "nbformat_minor": 0,
 "worksheets": [
  {
   "cells": [
    {
     "cell_type": "code",
     "collapsed": false,
     "input": [
      "%cd ~/NetBeansProjects/ExpLosion/\n",
      "import django_standalone\n",
      "from gui.models import *\n",
      "import numpy as np"
     ],
     "language": "python",
     "metadata": {},
     "outputs": [
      {
       "output_type": "stream",
       "stream": "stdout",
       "text": [
        "/Volumes/LocalDataHD/mmb28/NetBeansProjects/ExpLosion\n"
       ]
      },
      {
       "output_type": "stream",
       "stream": "stderr",
       "text": [
        "Vendor:  Continuum Analytics, Inc.\n",
        "Package: mkl\n",
        "Message: trial mode expires in 24 days\n",
        "Vendor:  Continuum Analytics, Inc.\n",
        "Package: mkl\n",
        "Message: trial mode expires in 24 days\n"
       ]
      }
     ],
     "prompt_number": 1
    },
    {
     "cell_type": "code",
     "collapsed": false,
     "input": [
      "# bag-of-NPs results\n",
      "for r in Results.objects.filter(id__decode_handler='BaseFeatureHandler', classifier='MultinomialNB'):\n",
      "     print(r.id.labelled, r.get_performance_info('macrof1'))"
     ],
     "language": "python",
     "metadata": {},
     "outputs": [
      {
       "output_type": "stream",
       "stream": "stdout",
       "text": [
        "amazon_grouped-tagged (0.81967, 0.022074)\n",
        "techtc100-clean/Exp_69753_85489-tagged (0.63848, 0.394707)\n",
        "reuters21578/r8-tagged-grouped (0.94862, 0.021607)\n",
        "movie-reviews-tagged (0.62201, 0.070535)\n"
       ]
      }
     ],
     "prompt_number": 2
    },
    {
     "cell_type": "code",
     "collapsed": false,
     "input": [
      "# random vectors/neighbours\n",
      "means = []\n",
      "for r in Results.objects.filter(id__vectors__algorithm__startswith='random_', classifier='MultinomialNB'):\n",
      "    print(r.id.labelled, r.id.vectors.algorithm, r.get_performance_info('macrof1'))\n",
      "    if 'tech' in r.id.labelled:\n",
      "        means.append(r.get_performance_info('macrof1'))\n",
      "print('----------')\n",
      "print(np.mean([x[0] for x in means]))\n",
      "print(np.mean([x[1] for x in means]))"
     ],
     "language": "python",
     "metadata": {},
     "outputs": [
      {
       "output_type": "stream",
       "stream": "stdout",
       "text": [
        "amazon_grouped-tagged random_neigh (0.18288, 0.007517)\n",
        "techtc100-clean/Exp_22294_25575-tagged random_neigh (0.36219, 0.159554)\n",
        "techtc100-clean/Exp_324745_85489-tagged random_neigh (0.44176, 0.179399)\n",
        "techtc100-clean/Exp_47456_497201-tagged random_neigh (0.46167, 0.179685)\n",
        "techtc100-clean/Exp_69753_85489-tagged random_neigh (0.40522, 0.160701)\n",
        "reuters21578/r8-tagged-grouped random_neigh (0.41362, 0.022493)\n",
        "movie-reviews-tagged random_neigh (0.49315, 0.056767)\n",
        "reuters21578/r8-tagged-grouped random_vect (0.37482, 0.021888)\n",
        "techtc100-clean/Exp_186330_94142-tagged random_neigh (0.44362, 0.173911)\n",
        "----------\n",
        "0.422892\n",
        "0.17065\n"
       ]
      }
     ],
     "prompt_number": 3
    },
    {
     "cell_type": "code",
     "collapsed": false,
     "input": [
      "# ids of all random vectors experiments- some were never started\n",
      "for foo in Experiment.objects.filter(vectors__algorithm='random_vect'):\n",
      "    print(foo)"
     ],
     "language": "python",
     "metadata": {},
     "outputs": [
      {
       "output_type": "stream",
       "stream": "stdout",
       "text": [
        "76: amazon_grouped-tagged,Vectors: random_vect,random_vect,None\n",
        "820: reuters21578/r8-tagged-grouped,Vectors: random_vect,random_vect,None\n"
       ]
      }
     ],
     "prompt_number": 4
    },
    {
     "cell_type": "code",
     "collapsed": false,
     "input": [
      "# dealing with duplicated experiments\n",
      "a, b = Experiment.objects.filter(id__in=[27, 54])\n",
      "print(a == b)\n",
      "print(set(Experiment.objects.filter(id__in=[27, 54])))\n",
      "for res in Results.objects.filter(id__in=[27, 54], classifier='MultinomialNB'):\n",
      "    print(res.id.id, res.get_performance_info('macrof1'))\n",
      "    "
     ],
     "language": "python",
     "metadata": {},
     "outputs": [
      {
       "output_type": "stream",
       "stream": "stdout",
       "text": [
        "True\n",
        "{<Experiment: 27: amazon_grouped-tagged,Vectors: word2vec,Add,100>}\n",
        "27 (0.38783, 0.020459)\n",
        "54 (0.38758, 0.020502)\n"
       ]
      }
     ],
     "prompt_number": 5
    },
    {
     "cell_type": "code",
     "collapsed": false,
     "input": [
      "# How many TechTC experiments actually finished?\n",
      "total = len(Experiment.objects.filter(labelled__startswith='tech'))\n",
      "failed = sum(1 for _ in Experiment.objects.filter(labelled__startswith='tech', date_ran=None))\n",
      "failed, total, failed/total"
     ],
     "language": "python",
     "metadata": {},
     "outputs": [
      {
       "metadata": {},
       "output_type": "pyout",
       "prompt_number": 6,
       "text": [
        "(6, 150, 0.04)"
       ]
      }
     ],
     "prompt_number": 6
    }
   ],
   "metadata": {}
  }
 ]
}