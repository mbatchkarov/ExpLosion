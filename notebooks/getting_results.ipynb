{
 "metadata": {
  "name": "",
  "signature": "sha256:501475cc1d406e13e0c8f24b4f7a432469e62a013b15fb7d3953b2b04cc3cf37"
 },
 "nbformat": 3,
 "nbformat_minor": 0,
 "worksheets": [
  {
   "cells": [
    {
     "cell_type": "code",
     "collapsed": false,
     "input": [
      "%cd ~/NetBeansProjects/ExpLosion/\n",
      "import django_standalone\n",
      "from gui.models import *\n",
      "import numpy as np"
     ],
     "language": "python",
     "metadata": {},
     "outputs": [
      {
       "output_type": "stream",
       "stream": "stdout",
       "text": [
        "/Volumes/LocalDataHD/mmb28/NetBeansProjects/ExpLosion\n"
       ]
      },
      {
       "output_type": "stream",
       "stream": "stderr",
       "text": [
        "Vendor:  Continuum Analytics, Inc.\n",
        "Package: mkl\n",
        "Message: trial mode expires in 25 days\n",
        "Vendor:  Continuum Analytics, Inc.\n",
        "Package: mkl\n",
        "Message: trial mode expires in 25 days\n"
       ]
      }
     ],
     "prompt_number": 1
    },
    {
     "cell_type": "code",
     "collapsed": false,
     "input": [
      "# bag-of-NPs results\n",
      "for r in Results.objects.filter(id__decode_handler='BaseFeatureHandler', classifier='MultinomialNB'):\n",
      "     print(r.id.labelled, r.get_performance_info('macrof1'))"
     ],
     "language": "python",
     "metadata": {},
     "outputs": [
      {
       "output_type": "stream",
       "stream": "stdout",
       "text": [
        "amazon_grouped-tagged (0.82, 0.02)\n",
        "techtc100-clean/Exp_69753_85489-tagged (0.64, 0.39)\n",
        "reuters21578/r8-tagged-grouped (0.95, 0.02)\n",
        "movie-reviews-tagged (0.62, 0.07)\n"
       ]
      }
     ],
     "prompt_number": 2
    },
    {
     "cell_type": "code",
     "collapsed": false,
     "input": [
      "# random vectors/neighbours\n",
      "means = []\n",
      "for r in Results.objects.filter(id__vectors__algorithm__startswith='random_', classifier='MultinomialNB'):\n",
      "    print(r.id.labelled, r.id.vectors.algorithm, r.get_performance_info('macrof1'))\n",
      "    if 'tech' in r.id.labelled:\n",
      "        means.append(r.get_performance_info('macrof1'))\n",
      "print('----------')\n",
      "print(np.mean([x[0] for x in means]))\n",
      "print(np.mean([x[1] for x in means]))"
     ],
     "language": "python",
     "metadata": {},
     "outputs": [
      {
       "output_type": "stream",
       "stream": "stdout",
       "text": [
        "amazon_grouped-tagged random_neigh (0.18, 0.01)\n",
        "techtc100-clean/Exp_22294_25575-tagged random_neigh (0.36, 0.16)\n",
        "techtc100-clean/Exp_324745_85489-tagged random_neigh (0.44, 0.18)\n",
        "techtc100-clean/Exp_47456_497201-tagged random_neigh (0.46, 0.18)\n",
        "techtc100-clean/Exp_69753_85489-tagged random_neigh (0.41, 0.16)\n",
        "reuters21578/r8-tagged-grouped random_neigh (0.41, 0.02)\n",
        "movie-reviews-tagged random_neigh (0.49, 0.06)\n",
        "reuters21578/r8-tagged-grouped random_vect (0.37, 0.02)\n",
        "techtc100-clean/Exp_186330_94142-tagged random_neigh (0.44, 0.17)\n",
        "----------\n",
        "0.422\n",
        "0.17\n"
       ]
      }
     ],
     "prompt_number": 3
    },
    {
     "cell_type": "code",
     "collapsed": false,
     "input": [
      "# ids of all random vectors experiments- some were never started\n",
      "for foo in Experiment.objects.filter(vectors__algorithm='random_vect'):\n",
      "    print(foo)"
     ],
     "language": "python",
     "metadata": {},
     "outputs": [
      {
       "output_type": "stream",
       "stream": "stdout",
       "text": [
        "76: amazon_grouped-tagged,Vectors: random_vect,random_vect,None\n",
        "820: reuters21578/r8-tagged-grouped,Vectors: random_vect,random_vect,None\n"
       ]
      }
     ],
     "prompt_number": 4
    },
    {
     "cell_type": "code",
     "collapsed": false,
     "input": [
      "# dealing with duplicated experiments\n",
      "a, b = Experiment.objects.filter(id__in=[27, 54])\n",
      "print(a == b)\n",
      "print(set(Experiment.objects.filter(id__in=[27, 54])))\n",
      "for res in Results.objects.filter(id__in=[27, 54], classifier='MultinomialNB'):\n",
      "    print(res.id.id, res.get_performance_info('macrof1'))\n",
      "    "
     ],
     "language": "python",
     "metadata": {},
     "outputs": [
      {
       "output_type": "stream",
       "stream": "stdout",
       "text": [
        "True\n",
        "{<Experiment: 27: amazon_grouped-tagged,Vectors: word2vec,Add,100>}\n",
        "27 (0.39, 0.02)\n",
        "54 (0.39, 0.02)\n"
       ]
      }
     ],
     "prompt_number": 16
    },
    {
     "cell_type": "code",
     "collapsed": false,
     "input": [
      "# How many TechTC experiments actually finished?\n",
      "total = len(Experiment.objects.filter(labelled__startswith='tech'))\n",
      "failed = sum(1 for _ in Experiment.objects.filter(labelled__startswith='tech', date_ran=None))\n",
      "failed, total, failed/total"
     ],
     "language": "python",
     "metadata": {},
     "outputs": [
      {
       "metadata": {},
       "output_type": "pyout",
       "prompt_number": 22,
       "text": [
        "(6, 150, 0.04)"
       ]
      }
     ],
     "prompt_number": 22
    },
    {
     "cell_type": "code",
     "collapsed": false,
     "input": [],
     "language": "python",
     "metadata": {},
     "outputs": []
    }
   ],
   "metadata": {}
  }
 ]
}