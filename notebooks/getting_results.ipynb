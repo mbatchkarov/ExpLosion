{
 "cells": [
  {
   "cell_type": "markdown",
   "metadata": {},
   "source": [
    "# Purpose of this notebook\n",
    "Query the results database for baseline results that are best displayed in a table (as opposed to a graph)"
   ]
  },
  {
   "cell_type": "code",
   "execution_count": 1,
   "metadata": {
    "collapsed": false
   },
   "outputs": [
    {
     "name": "stdout",
     "output_type": "stream",
     "text": [
      "/Volumes/LocalDataHD/m/mm/mmb28/NetBeansProjects/ExpLosion\n"
     ]
    }
   ],
   "source": [
    "%cd ~/NetBeansProjects/ExpLosion/\n",
    "import django_standalone\n",
    "from gui.models import *\n",
    "import numpy as np"
   ]
  },
  {
   "cell_type": "code",
   "execution_count": 2,
   "metadata": {
    "collapsed": false
   },
   "outputs": [
    {
     "name": "stdout",
     "output_type": "stream",
     "text": [
      "amazon_grouped-tagged (0.812889, 0.022732)\n",
      "aclImdb-tagged (0.717455, 0.013099)\n"
     ]
    }
   ],
   "source": [
    "# bag-of-NPs results\n",
    "for r in Results.objects.filter(id__decode_handler='BaseFeatureHandler', classifier=CLASSIFIER):\n",
    "     print(r.id.labelled, r.get_performance_info('macrof1'))"
   ]
  },
  {
   "cell_type": "code",
   "execution_count": 3,
   "metadata": {
    "collapsed": false
   },
   "outputs": [
    {
     "name": "stderr",
     "output_type": "stream",
     "text": [
      "/Volumes/LocalDataHD/m/mm/mmb28/anaconda/envs/py33/lib/python3.3/site-packages/numpy/core/_methods.py:59: RuntimeWarning: Mean of empty slice.\n",
      "  warnings.warn(\"Mean of empty slice.\", RuntimeWarning)\n",
      "\n",
      "WARNING:py.warnings:/Volumes/LocalDataHD/m/mm/mmb28/anaconda/envs/py33/lib/python3.3/site-packages/numpy/core/_methods.py:59: RuntimeWarning: Mean of empty slice.\n",
      "  warnings.warn(\"Mean of empty slice.\", RuntimeWarning)\n",
      "\n"
     ]
    },
    {
     "name": "stdout",
     "output_type": "stream",
     "text": [
      "amazon_grouped-tagged random_neigh (0.182273, 0.00429)\n",
      "aclImdb-tagged random_neigh (0.479685, 0.006787)\n",
      "aclImdb-tagged random_vect (0.48924, 0.010639)\n",
      "amazon_grouped-tagged random_vect (0.179087, 0.006862)\n",
      "----------\n",
      "nan\n",
      "nan\n"
     ]
    }
   ],
   "source": [
    "# random vectors/neighbours\n",
    "means = []\n",
    "for r in Results.objects.filter(id__vectors__algorithm__startswith='random_', classifier=CLASSIFIER):\n",
    "    print(r.id.labelled, r.id.vectors.algorithm, r.get_performance_info())\n",
    "    if 'tech' in r.id.labelled:\n",
    "        means.append(r.get_performance_info('macrof1'))\n",
    "print('----------')\n",
    "print(np.mean([x[0] for x in means]))\n",
    "print(np.mean([x[1] for x in means]))"
   ]
  },
  {
   "cell_type": "code",
   "execution_count": 4,
   "metadata": {
    "collapsed": false
   },
   "outputs": [
    {
     "name": "stdout",
     "output_type": "stream",
     "text": [
      "72: amazon_grouped-tagged,Vectors: random_vect,random_vect,None,None\n",
      "83: aclImdb-tagged,Vectors: random_vect,random_vect,None,None\n",
      "798: reuters21578/r8-tagged-grouped,Vectors: random_vect,random_vect,None,None\n"
     ]
    }
   ],
   "source": [
    "# ids of all random vectors experiments- some were never started\n",
    "for foo in Experiment.objects.filter(vectors__algorithm='random_vect'):\n",
    "    print(foo)"
   ]
  },
  {
   "cell_type": "code",
   "execution_count": 6,
   "metadata": {
    "collapsed": false
   },
   "outputs": [
    {
     "data": {
      "text/plain": [
       "(150, 150, 1.0)"
      ]
     },
     "execution_count": 6,
     "metadata": {},
     "output_type": "execute_result"
    }
   ],
   "source": [
    "# How many TechTC experiments actually finished?\n",
    "total = len(Experiment.objects.filter(labelled__startswith='tech'))\n",
    "failed = sum(1 for _ in Experiment.objects.filter(labelled__startswith='tech', date_ran=None))\n",
    "failed, total, failed/total"
   ]
  },
  {
   "cell_type": "code",
   "execution_count": null,
   "metadata": {
    "collapsed": false
   },
   "outputs": [],
   "source": []
  }
 ],
 "metadata": {
  "kernelspec": {
   "display_name": "Python 3",
   "language": "python",
   "name": "python3"
  },
  "language_info": {
   "codemirror_mode": {
    "name": "ipython",
    "version": 3
   },
   "file_extension": ".py",
   "mimetype": "text/x-python",
   "name": "python",
   "nbconvert_exporter": "python",
   "pygments_lexer": "ipython3",
   "version": "3.4.3"
  }
 },
 "nbformat": 4,
 "nbformat_minor": 0
}
