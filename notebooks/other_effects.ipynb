{
 "cells": [
  {
   "cell_type": "markdown",
   "metadata": {},
   "source": [
    "# What is this file?\n",
    "\n",
    "A collection of random or obsolete that I don't want to delete. Mostly to do with analysis experiments which I am no longer interested in.\n",
    "\n",
    "# Effect of SVD on count vectors\n",
    "\n",
    "Not using vectors w/o SVD anymore, take too much memory."
   ]
  },
  {
   "cell_type": "code",
   "execution_count": null,
   "metadata": {
    "collapsed": true
   },
   "outputs": [],
   "source": [
    "%cd ~/NetBeansProjects/ExpLosion/\n",
    "from notebooks.common_imports import *\n",
    "\n",
    "from gui.user_code import get_demsar_diagram, get_demsar_params\n",
    "from gui.output_utils import *"
   ]
  },
  {
   "cell_type": "code",
   "execution_count": null,
   "metadata": {
    "collapsed": true
   },
   "outputs": [],
   "source": [
    "d = {'labelled': 'amazon_grouped-tagged',\n",
    "     'vectors__use_ppmi': False,\n",
    "     'vectors__algorithm__in': ['count_windows', 'count_dependencies'],\n",
    "     'vectors__dimensionality': 0}\n",
    "# ignore baroni because it's with svd only\n",
    "nosvd = [x.id for x in Experiment.objects.filter(**d).exclude(vectors__composer='Baroni').order_by('vectors__composer')]\n",
    "d['vectors__dimensionality'] = 100\n",
    "svd = [x.id for x in Experiment.objects.filter(**d).exclude(vectors__composer='Baroni').order_by('vectors__composer')]\n",
    "\n",
    "\n",
    "def _window_deps_composers_naming(mylist):\n",
    "    \"\"\"\n",
    "    Returns names like D-Add or W-Mult for **count vectors only**\n",
    "    \"\"\"\n",
    "    labels = []\n",
    "    for id in mylist:\n",
    "        feats, composer = Experiment.objects.filter(id=id).values_list('vectors__algorithm', 'vectors__composer')[0]\n",
    "        label = '{}-{}'.format(feats[6].upper(), composer)\n",
    "        labels.append(label)\n",
    "    return labels\n",
    "\n",
    "print(nosvd, svd)\n",
    "diff_plot(nosvd, svd,  _window_deps_composers_naming(svd))\n",
    "# g.axes.flat[0].set_title('NOSVD - SVD (***=significant)');\n",
    "plt.savefig('plot-effect-of-svd-deltas.pdf', format='pdf', dpi=300, bbox_inches='tight', pad_inches=0.1)"
   ]
  },
  {
   "cell_type": "markdown",
   "metadata": {},
   "source": [
    "# RESULT: \n",
    "SVD makes no difference most of the time. Not using SVD is sometimes beneficial for dependency features"
   ]
  },
  {
   "cell_type": "markdown",
   "metadata": {},
   "source": [
    "# Effect of PPMI on count vectors- NOT doing PPMI currently"
   ]
  },
  {
   "cell_type": "code",
   "execution_count": null,
   "metadata": {
    "collapsed": true
   },
   "outputs": [],
   "source": [
    "d = {'noise': 0.0, \n",
    "     'decode_handler': 'SignifiedOnlyFeatureHandler', \n",
    "     'k': 3, \n",
    "     'vectors__unlabelled_percentage': 100.0,\n",
    "     'vectors__dimensionality': 0,\n",
    "     'labelled': 'amazon_grouped-tagged', \n",
    "     'vectors__algorithm__in': ['count_windows', 'count_dependencies'], \n",
    "     'labelled': 'amazon_grouped-tagged',\n",
    "     'vectors__composer__in': ['Add', 'Mult', 'Right', 'Left'],\n",
    "     'vectors__use_ppmi': True}\n",
    "\n",
    "with_ppmi = [x.id for x in Experiment.objects.filter(**d).order_by('vectors__algorithm', 'vectors__composer')]\n",
    "d['vectors__use_ppmi'] =  False\n",
    "wo_ppmi = [x.id for x in Experiment.objects.filter(**d).order_by('vectors__algorithm', 'vectors__composer')]\n",
    "print(with_ppmi, wo_ppmi)\n",
    "diff_plot(with_ppmi, wo_ppmi,  _window_deps_composers_naming(with_ppmi))\n",
    "plt.savefig('plot-effect-of-ppmi-deltas.pdf', format='pdf', dpi=300, bbox_inches='tight', pad_inches=0.1)"
   ]
  },
  {
   "cell_type": "markdown",
   "metadata": {},
   "source": [
    "# Result\n",
    "Positive value means PPMI is better, * indicates significant at 0.01 level.\n",
    "\n",
    "Add/Mult composers definitely benefit more from PPMI, and Left/Right do not. This is interesting."
   ]
  },
  {
   "cell_type": "markdown",
   "metadata": {
    "collapsed": true
   },
   "source": [
    "# Effect of neighbour selection strategy- linear vs skipping"
   ]
  },
  {
   "cell_type": "code",
   "execution_count": null,
   "metadata": {
    "collapsed": true
   },
   "outputs": [],
   "source": [
    "d = {'vectors__dimensionality__in': ['100'], \n",
    "     'neighbour_strategy__in': ['linear', 'skipping'], \n",
    "     'labelled__in': ['reuters21578/r8-tagged-grouped'],\n",
    "     'vectors__algorithm__in': ['word2vec'],\n",
    "     'vectors__unlabelled_percentage__in': ['100.0'], \n",
    "     'vectors__unlabelled__in': ['gigaw'], \n",
    "     'document_features__in': ['AN_NN'], \n",
    "     'vectors__rep__in': ['0'],\n",
    "     'decode_handler__in': ['SignifiedOnlyFeatureHandler'], \n",
    "     'k__in': ['3'], 'use_similarity__in': ['0']}\n",
    "exp_ids = Experiment.objects.values_list('id', flat=True).filter(**d)\n",
    "scores, folds = get_cv_scores_many_experiment(exp_ids)\n",
    "assert ids # we succeeded in getting results\n",
    "\n",
    "strats = np.repeat([Experiment.objects.get(id=foo).neighbour_strategy for foo in ids],\n",
    "                   get_cv_fold_count(ids))\n",
    "df = pd.DataFrame({'F1': scores,\n",
    "                   'strategy': strats,\n",
    "                   'cvfold': folds,\n",
    "                   'Composer': get_vectors_field(ids, 'composer')})\n",
    "grid = sns.factorplot(hue='strategy', y='F1', data=df, x='Composer',\n",
    "                      kind='box', sharey=True);\n",
    "plt.savefig('plot-w2v_linear-vs-skipping-neigh.pdf' ,format='pdf', dpi=300)"
   ]
  }
 ],
 "metadata": {
  "kernelspec": {
   "display_name": "Python 3",
   "language": "python",
   "name": "python3"
  },
  "language_info": {
   "codemirror_mode": {
    "name": "ipython",
    "version": 3
   },
   "file_extension": ".py",
   "mimetype": "text/x-python",
   "name": "python",
   "nbconvert_exporter": "python",
   "pygments_lexer": "ipython3",
   "version": "3.4.3"
  }
 },
 "nbformat": 4,
 "nbformat_minor": 0
}
