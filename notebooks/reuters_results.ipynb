{
 "cells": [
  {
   "cell_type": "code",
   "execution_count": 1,
   "metadata": {
    "collapsed": false
   },
   "outputs": [
    {
     "name": "stdout",
     "output_type": "stream",
     "text": [
      "/Users/miroslavbatchkarov/NetBeansProjects/ExpLosion\n"
     ]
    }
   ],
   "source": [
    "%cd ~/NetBeansProjects/ExpLosion/\n",
    "from notebooks.common_imports import *\n",
    "from gui.models import get_ci\n",
    "\n",
    "sns.timeseries.algo.bootstrap = my_bootstrap\n",
    "sns.categorical.bootstrap = my_bootstrap"
   ]
  },
  {
   "cell_type": "code",
   "execution_count": 2,
   "metadata": {
    "collapsed": true
   },
   "outputs": [],
   "source": [
    "d = {'labelled': 'reuters21578/r8-tagged-grouped',\n",
    "    'expansions__noise': 0,\n",
    "     'expansions__vectors__composer': 'Add',\n",
    "     'expansions__vectors__rep': 0, \n",
    "    'expansions__vectors__avg':0,\n",
    "     'expansions__vectors__unlabelled_percentage': 100}"
   ]
  },
  {
   "cell_type": "code",
   "execution_count": 3,
   "metadata": {
    "collapsed": false,
    "scrolled": false
   },
   "outputs": [
    {
     "name": "stdout",
     "output_type": "stream",
     "text": [
      "experiments are [135, 392, 403, 414, 415, 416, 417, 418, 419, 420] 10\n",
      "algo has 5000 values\n",
      "folds has 5000 values\n",
      "id has 5000 values\n",
      "k has 5000 values\n",
      "unlab has 5000 values\n",
      "Accuracy has 5000 values\n"
     ]
    }
   ],
   "source": [
    "ids = Experiment.objects.filter(**d).values_list('id', flat=True)\n",
    "print('experiments are', ids, len(ids))\n",
    "df = dataframe_from_exp_ids(ids, {'id':'id',\n",
    "                                    'unlab':'expansions__vectors__unlabelled',\n",
    "                                 'algo':'expansions__vectors__algorithm',\n",
    "                                 'k':'expansions__k'}, abbreviate=False)"
   ]
  },
  {
   "cell_type": "code",
   "execution_count": 4,
   "metadata": {
    "collapsed": false
   },
   "outputs": [
    {
     "name": "stdout",
     "output_type": "stream",
     "text": [
      "keeping {'algo', 'k', 'unlab'}\n"
     ]
    },
    {
     "data": {
      "text/html": [
       "<div>\n",
       "<table border=\"1\" class=\"dataframe\">\n",
       "  <thead>\n",
       "    <tr style=\"text-align: right;\">\n",
       "      <th></th>\n",
       "      <th></th>\n",
       "      <th></th>\n",
       "      <th>mean</th>\n",
       "      <th>ci_width</th>\n",
       "    </tr>\n",
       "    <tr>\n",
       "      <th>algo</th>\n",
       "      <th>k</th>\n",
       "      <th>unlab</th>\n",
       "      <th></th>\n",
       "      <th></th>\n",
       "    </tr>\n",
       "  </thead>\n",
       "  <tbody>\n",
       "    <tr>\n",
       "      <th rowspan=\"2\" valign=\"top\">count_dependencies</th>\n",
       "      <th rowspan=\"2\" valign=\"top\">3</th>\n",
       "      <th>gigaw</th>\n",
       "      <td>64.153577</td>\n",
       "      <td>3.495008</td>\n",
       "    </tr>\n",
       "    <tr>\n",
       "      <th>wiki</th>\n",
       "      <td>61.465959</td>\n",
       "      <td>3.677786</td>\n",
       "    </tr>\n",
       "    <tr>\n",
       "      <th rowspan=\"2\" valign=\"top\">count_windows</th>\n",
       "      <th rowspan=\"2\" valign=\"top\">3</th>\n",
       "      <th>gigaw</th>\n",
       "      <td>71.938194</td>\n",
       "      <td>3.168837</td>\n",
       "    </tr>\n",
       "    <tr>\n",
       "      <th>wiki</th>\n",
       "      <td>66.948773</td>\n",
       "      <td>3.719709</td>\n",
       "    </tr>\n",
       "    <tr>\n",
       "      <th>glove</th>\n",
       "      <th>3</th>\n",
       "      <th>wiki</th>\n",
       "      <td>61.848222</td>\n",
       "      <td>2.969950</td>\n",
       "    </tr>\n",
       "    <tr>\n",
       "      <th rowspan=\"5\" valign=\"top\">word2vec</th>\n",
       "      <th rowspan=\"3\" valign=\"top\">3</th>\n",
       "      <th>cwiki</th>\n",
       "      <td>64.885893</td>\n",
       "      <td>3.370298</td>\n",
       "    </tr>\n",
       "    <tr>\n",
       "      <th>gigaw</th>\n",
       "      <td>74.164143</td>\n",
       "      <td>2.981941</td>\n",
       "    </tr>\n",
       "    <tr>\n",
       "      <th>wiki</th>\n",
       "      <td>68.037037</td>\n",
       "      <td>3.223113</td>\n",
       "    </tr>\n",
       "    <tr>\n",
       "      <th>30</th>\n",
       "      <th>wiki</th>\n",
       "      <td>59.471400</td>\n",
       "      <td>2.998158</td>\n",
       "    </tr>\n",
       "    <tr>\n",
       "      <th>60</th>\n",
       "      <th>wiki</th>\n",
       "      <td>56.984646</td>\n",
       "      <td>3.127234</td>\n",
       "    </tr>\n",
       "  </tbody>\n",
       "</table>\n",
       "</div>"
      ],
      "text/plain": [
       "                                  mean  ci_width\n",
       "algo               k  unlab                     \n",
       "count_dependencies 3  gigaw  64.153577  3.495008\n",
       "                      wiki   61.465959  3.677786\n",
       "count_windows      3  gigaw  71.938194  3.168837\n",
       "                      wiki   66.948773  3.719709\n",
       "glove              3  wiki   61.848222  2.969950\n",
       "word2vec           3  cwiki  64.885893  3.370298\n",
       "                      gigaw  74.164143  2.981941\n",
       "                      wiki   68.037037  3.223113\n",
       "                   30 wiki   59.471400  2.998158\n",
       "                   60 wiki   56.984646  3.127234"
      ]
     },
     "execution_count": 4,
     "metadata": {},
     "output_type": "execute_result"
    }
   ],
   "source": [
    "performance_table(df)"
   ]
  },
  {
   "cell_type": "markdown",
   "metadata": {},
   "source": [
    "# Results\n",
    "\n",
    "Error bounds quite wide still, but:\n",
    "\n",
    " - wiki $<$ gigaw consistently\n",
    " - glove $\\approx$ deps $<$ w2v $\\approx$ wins\n",
    " - increasing $k$ drops performance (faster than in Amazon)\n",
    " - noise eval with a higher $k$ looks right even on an R2 (other notebook)"
   ]
  },
  {
   "cell_type": "code",
   "execution_count": 5,
   "metadata": {
    "collapsed": false
   },
   "outputs": [
    {
     "data": {
      "image/png": "[encoded data removed]",
      "text/plain": [
       "<matplotlib.figure.Figure at 0x10a60be10>"
      ]
     },
     "metadata": {},
     "output_type": "display_data"
    }
   ],
   "source": [
    "sns.factorplot(data=df[df.k=='3'], y='Accuracy', x='unlab', hue='algo',\n",
    "               ci=100, kind='bar');"
   ]
  },
  {
   "cell_type": "code",
   "execution_count": 6,
   "metadata": {
    "collapsed": false
   },
   "outputs": [
    {
     "data": {
      "text/html": [
       "<div>\n",
       "<table border=\"1\" class=\"dataframe\">\n",
       "  <thead>\n",
       "    <tr style=\"text-align: right;\">\n",
       "      <th></th>\n",
       "      <th>name1</th>\n",
       "      <th>acc1</th>\n",
       "      <th>name2</th>\n",
       "      <th>acc2</th>\n",
       "      <th>mean_diff</th>\n",
       "      <th>pval</th>\n",
       "      <th>significant</th>\n",
       "    </tr>\n",
       "  </thead>\n",
       "  <tbody>\n",
       "    <tr>\n",
       "      <th>6</th>\n",
       "      <td>wiki-w2v-3</td>\n",
       "      <td>0.680912</td>\n",
       "      <td>gigaw-w2v-3</td>\n",
       "      <td>0.741514</td>\n",
       "      <td>0.060603</td>\n",
       "      <td>0</td>\n",
       "      <td>True</td>\n",
       "    </tr>\n",
       "    <tr>\n",
       "      <th>32</th>\n",
       "      <td>wiki-W-3</td>\n",
       "      <td>0.669479</td>\n",
       "      <td>gigaw-w2v-3</td>\n",
       "      <td>0.741514</td>\n",
       "      <td>0.072036</td>\n",
       "      <td>0</td>\n",
       "      <td>True</td>\n",
       "    </tr>\n",
       "    <tr>\n",
       "      <th>39</th>\n",
       "      <td>cwiki-w2v-3</td>\n",
       "      <td>0.648903</td>\n",
       "      <td>gigaw-w2v-3</td>\n",
       "      <td>0.741514</td>\n",
       "      <td>0.092612</td>\n",
       "      <td>0</td>\n",
       "      <td>True</td>\n",
       "    </tr>\n",
       "    <tr>\n",
       "      <th>27</th>\n",
       "      <td>wiki-glove-3</td>\n",
       "      <td>0.618065</td>\n",
       "      <td>gigaw-w2v-3</td>\n",
       "      <td>0.741514</td>\n",
       "      <td>0.123449</td>\n",
       "      <td>0</td>\n",
       "      <td>True</td>\n",
       "    </tr>\n",
       "    <tr>\n",
       "      <th>36</th>\n",
       "      <td>wiki-D-3</td>\n",
       "      <td>0.615618</td>\n",
       "      <td>gigaw-w2v-3</td>\n",
       "      <td>0.741514</td>\n",
       "      <td>0.125896</td>\n",
       "      <td>0</td>\n",
       "      <td>True</td>\n",
       "    </tr>\n",
       "    <tr>\n",
       "      <th>14</th>\n",
       "      <td>wiki-w2v-30</td>\n",
       "      <td>0.594776</td>\n",
       "      <td>gigaw-w2v-3</td>\n",
       "      <td>0.741514</td>\n",
       "      <td>0.146739</td>\n",
       "      <td>0</td>\n",
       "      <td>True</td>\n",
       "    </tr>\n",
       "    <tr>\n",
       "      <th>21</th>\n",
       "      <td>wiki-w2v-60</td>\n",
       "      <td>0.569159</td>\n",
       "      <td>gigaw-w2v-3</td>\n",
       "      <td>0.741514</td>\n",
       "      <td>0.172355</td>\n",
       "      <td>0</td>\n",
       "      <td>True</td>\n",
       "    </tr>\n",
       "  </tbody>\n",
       "</table>\n",
       "</div>"
      ],
      "text/plain": [
       "           name1      acc1        name2      acc2  mean_diff  pval significant\n",
       "6     wiki-w2v-3  0.680912  gigaw-w2v-3  0.741514   0.060603     0        True\n",
       "32      wiki-W-3  0.669479  gigaw-w2v-3  0.741514   0.072036     0        True\n",
       "39   cwiki-w2v-3  0.648903  gigaw-w2v-3  0.741514   0.092612     0        True\n",
       "27  wiki-glove-3  0.618065  gigaw-w2v-3  0.741514   0.123449     0        True\n",
       "36      wiki-D-3  0.615618  gigaw-w2v-3  0.741514   0.125896     0        True\n",
       "14   wiki-w2v-30  0.594776  gigaw-w2v-3  0.741514   0.146739     0        True\n",
       "21   wiki-w2v-60  0.569159  gigaw-w2v-3  0.741514   0.172355     0        True"
      ]
     },
     "execution_count": 6,
     "metadata": {},
     "output_type": "execute_result"
    }
   ],
   "source": [
    "sign_df = get_demsar_params(ids, ['expansions__vectors__unlabelled', \n",
    "                                  'expansions__vectors__algorithm', \n",
    "                                  'expansions__k'])[0]\n",
    "sign_df[(sign_df.significant==True)&(sign_df.name2=='gigaw-w2v-3')].sort('mean_diff')"
   ]
  },
  {
   "cell_type": "code",
   "execution_count": 7,
   "metadata": {
    "collapsed": false
   },
   "outputs": [
    {
     "name": "stdout",
     "output_type": "stream",
     "text": [
      "0.0541310541311\n",
      "0.00616208975218\n",
      "-0.0686962276638\n",
      "-0.0416785206259\n",
      "-0.000920245398772\n",
      "0.0958301743745\n",
      "0.00438871473355\n",
      "-0.0127067014795\n",
      "0.0236111111111\n",
      "-0.0104825291181\n"
     ]
    }
   ],
   "source": [
    "for i in ids:\n",
    "    cv_score = Results.objects.get(id=i, classifier=CLASSIFIER).accuracy_mean\n",
    "    bs_score = get_ci(i)[0]\n",
    "    print((cv_score - bs_score)*100)"
   ]
  },
  {
   "cell_type": "code",
   "execution_count": null,
   "metadata": {
    "collapsed": true
   },
   "outputs": [],
   "source": []
  }
 ],
 "metadata": {
  "kernelspec": {
   "display_name": "Python 3",
   "language": "python",
   "name": "python3"
  },
  "language_info": {
   "codemirror_mode": {
    "name": "ipython",
    "version": 3
   },
   "file_extension": ".py",
   "mimetype": "text/x-python",
   "name": "python",
   "nbconvert_exporter": "python",
   "pygments_lexer": "ipython3",
   "version": "3.3.5"
  }
 },
 "nbformat": 4,
 "nbformat_minor": 0
}
