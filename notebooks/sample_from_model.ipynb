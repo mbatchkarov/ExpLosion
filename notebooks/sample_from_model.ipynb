{
 "cells": [
  {
   "cell_type": "code",
   "execution_count": 7,
   "metadata": {
    "collapsed": false
   },
   "outputs": [
    {
     "name": "stdout",
     "output_type": "stream",
     "text": [
      "/Users/miroslavbatchkarov/NetBeansProjects/ExpLosion\n"
     ]
    }
   ],
   "source": [
    "%cd ~/NetBeansProjects/ExpLosion/\n",
    "from notebooks.common_imports import *"
   ]
  },
  {
   "cell_type": "code",
   "execution_count": 2,
   "metadata": {
    "collapsed": true
   },
   "outputs": [],
   "source": [
    "from discoutils.thesaurus_loader import Vectors\n",
    "from random import sample"
   ]
  },
  {
   "cell_type": "code",
   "execution_count": 3,
   "metadata": {
    "collapsed": true
   },
   "outputs": [],
   "source": [
    "v = Vectors.from_tsv('/lustre/scratch/inf/mmb28/FeatureExtractionToolkit/word2vec_vectors/word2vec-wiki-nopos-15perc.unigr.strings.rep0') "
   ]
  },
  {
   "cell_type": "code",
   "execution_count": 5,
   "metadata": {
    "collapsed": false
   },
   "outputs": [],
   "source": [
    "v.init_sims(n_neighbors=5)"
   ]
  },
  {
   "cell_type": "code",
   "execution_count": null,
   "metadata": {
    "collapsed": true
   },
   "outputs": [],
   "source": [
    "words = random.sample(list(v.keys()), 10)\n",
    "data = []\n",
    "for w in words:\n",
    "    neigh = v.get_nearest_neighbours(w)\n",
    "    data.append([n[0] for n in neigh[:5]])"
   ]
  },
  {
   "cell_type": "code",
   "execution_count": 19,
   "metadata": {
    "collapsed": false
   },
   "outputs": [],
   "source": [
    "df = pd.DataFrame(data, index=words, columns=['Neigh %d'%d for d in range(1, 6)])"
   ]
  },
  {
   "cell_type": "code",
   "execution_count": 20,
   "metadata": {
    "collapsed": false,
    "scrolled": true
   },
   "outputs": [
    {
     "data": {
      "text/html": [
       "<div>\n",
       "<table border=\"1\" class=\"dataframe\">\n",
       "  <thead>\n",
       "    <tr style=\"text-align: right;\">\n",
       "      <th></th>\n",
       "      <th>Neigh 1</th>\n",
       "      <th>Neigh 2</th>\n",
       "      <th>Neigh 3</th>\n",
       "      <th>Neigh 4</th>\n",
       "      <th>Neigh 5</th>\n",
       "    </tr>\n",
       "  </thead>\n",
       "  <tbody>\n",
       "    <tr>\n",
       "      <th>godmother</th>\n",
       "      <td>betrothed</td>\n",
       "      <td>lover</td>\n",
       "      <td>spinster</td>\n",
       "      <td>mother-in-law</td>\n",
       "      <td>stepdaughter</td>\n",
       "    </tr>\n",
       "    <tr>\n",
       "      <th>performer</th>\n",
       "      <td>musician</td>\n",
       "      <td>artist</td>\n",
       "      <td>entertainer</td>\n",
       "      <td>dancer</td>\n",
       "      <td>accompanist</td>\n",
       "    </tr>\n",
       "    <tr>\n",
       "      <th>confiscation</th>\n",
       "      <td>expropriation</td>\n",
       "      <td>forfeiture</td>\n",
       "      <td>taking</td>\n",
       "      <td>curtailment</td>\n",
       "      <td>illegality</td>\n",
       "    </tr>\n",
       "    <tr>\n",
       "      <th>amal</th>\n",
       "      <td>al-amin</td>\n",
       "      <td>mukhtar</td>\n",
       "      <td>nasrallah</td>\n",
       "      <td>usama</td>\n",
       "      <td>ashraf</td>\n",
       "    </tr>\n",
       "    <tr>\n",
       "      <th>alms</th>\n",
       "      <td>penitent</td>\n",
       "      <td>passer-by</td>\n",
       "      <td>sainthood</td>\n",
       "      <td>yagna</td>\n",
       "      <td>repentant</td>\n",
       "    </tr>\n",
       "    <tr>\n",
       "      <th>pawnbroker</th>\n",
       "      <td>thrifty</td>\n",
       "      <td>bookie</td>\n",
       "      <td>yusuke</td>\n",
       "      <td>fleer</td>\n",
       "      <td>buchalter</td>\n",
       "    </tr>\n",
       "    <tr>\n",
       "      <th>plas</th>\n",
       "      <td>cupar</td>\n",
       "      <td>vanden</td>\n",
       "      <td>bodoni</td>\n",
       "      <td>eastlake</td>\n",
       "      <td>suk</td>\n",
       "    </tr>\n",
       "    <tr>\n",
       "      <th>menuhin</th>\n",
       "      <td>yehudi</td>\n",
       "      <td>caryl</td>\n",
       "      <td>barenboim</td>\n",
       "      <td>barone</td>\n",
       "      <td>lalo</td>\n",
       "    </tr>\n",
       "    <tr>\n",
       "      <th>parent</th>\n",
       "      <td>mother</td>\n",
       "      <td>family</td>\n",
       "      <td>live-in</td>\n",
       "      <td>child</td>\n",
       "      <td>carer</td>\n",
       "    </tr>\n",
       "    <tr>\n",
       "      <th>roden</th>\n",
       "      <td>coy</td>\n",
       "      <td>kempthorne</td>\n",
       "      <td>orme</td>\n",
       "      <td>porteous</td>\n",
       "      <td>allred</td>\n",
       "    </tr>\n",
       "  </tbody>\n",
       "</table>\n",
       "</div>"
      ],
      "text/plain": [
       "                    Neigh 1     Neigh 2      Neigh 3        Neigh 4  \\\n",
       "godmother         betrothed       lover     spinster  mother-in-law   \n",
       "performer          musician      artist  entertainer         dancer   \n",
       "confiscation  expropriation  forfeiture       taking    curtailment   \n",
       "amal                al-amin     mukhtar    nasrallah          usama   \n",
       "alms               penitent   passer-by    sainthood          yagna   \n",
       "pawnbroker          thrifty      bookie       yusuke          fleer   \n",
       "plas                  cupar      vanden       bodoni       eastlake   \n",
       "menuhin              yehudi       caryl    barenboim         barone   \n",
       "parent               mother      family      live-in          child   \n",
       "roden                   coy  kempthorne         orme       porteous   \n",
       "\n",
       "                   Neigh 5  \n",
       "godmother     stepdaughter  \n",
       "performer      accompanist  \n",
       "confiscation    illegality  \n",
       "amal                ashraf  \n",
       "alms             repentant  \n",
       "pawnbroker       buchalter  \n",
       "plas                   suk  \n",
       "menuhin               lalo  \n",
       "parent               carer  \n",
       "roden               allred  "
      ]
     },
     "execution_count": 20,
     "metadata": {},
     "output_type": "execute_result"
    }
   ],
   "source": [
    "df"
   ]
  },
  {
   "cell_type": "code",
   "execution_count": 21,
   "metadata": {
    "collapsed": false
   },
   "outputs": [
    {
     "name": "stdout",
     "output_type": "stream",
     "text": [
      "\\begin{tabular}{llllll}\n",
      "\\toprule\n",
      "{} &        Neigh 1 &     Neigh 2 &      Neigh 3 &        Neigh 4 &       Neigh 5 \\\\\n",
      "\\midrule\n",
      "godmother    &      betrothed &       lover &     spinster &  mother-in-law &  stepdaughter \\\\\n",
      "performer    &       musician &      artist &  entertainer &         dancer &   accompanist \\\\\n",
      "confiscation &  expropriation &  forfeiture &       taking &    curtailment &    illegality \\\\\n",
      "amal         &        al-amin &     mukhtar &    nasrallah &          usama &        ashraf \\\\\n",
      "alms         &       penitent &   passer-by &    sainthood &          yagna &     repentant \\\\\n",
      "pawnbroker   &        thrifty &      bookie &       yusuke &          fleer &     buchalter \\\\\n",
      "plas         &          cupar &      vanden &       bodoni &       eastlake &           suk \\\\\n",
      "menuhin      &         yehudi &       caryl &    barenboim &         barone &          lalo \\\\\n",
      "parent       &         mother &      family &      live-in &          child &         carer \\\\\n",
      "roden        &            coy &  kempthorne &         orme &       porteous &        allred \\\\\n",
      "\\bottomrule\n",
      "\\end{tabular}\n",
      "\n"
     ]
    }
   ],
   "source": [
    "print(df.to_latex())"
   ]
  }
 ],
 "metadata": {
  "kernelspec": {
   "display_name": "Python 3",
   "language": "python",
   "name": "python3"
  },
  "language_info": {
   "codemirror_mode": {
    "name": "ipython",
    "version": 3
   },
   "file_extension": ".py",
   "mimetype": "text/x-python",
   "name": "python",
   "nbconvert_exporter": "python",
   "pygments_lexer": "ipython3",
   "version": "3.3.5"
  }
 },
 "nbformat": 4,
 "nbformat_minor": 0
}
