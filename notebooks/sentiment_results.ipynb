{
 "cells": [
  {
   "cell_type": "markdown",
   "metadata": {},
   "source": [
    "# Some sentiment analysis results\n",
    "I've only ran some of the models at the sentiment corpora. Performance is not great: 60-70%, SOTA is around 90%"
   ]
  },
  {
   "cell_type": "code",
   "execution_count": 1,
   "metadata": {
    "collapsed": false
   },
   "outputs": [
    {
     "name": "stdout",
     "output_type": "stream",
     "text": [
      "/Users/miroslavbatchkarov/NetBeansProjects/ExpLosion\n"
     ]
    }
   ],
   "source": [
    "%cd ~/NetBeansProjects/ExpLosion/\n",
    "from notebooks.common_imports import *\n",
    "from gui.output_utils import *\n",
    "\n",
    "sns.timeseries.algo.bootstrap = my_bootstrap\n",
    "sns.categorical.bootstrap = my_bootstrap"
   ]
  },
  {
   "cell_type": "code",
   "execution_count": 2,
   "metadata": {
    "collapsed": false,
    "scrolled": false
   },
   "outputs": [
    {
     "name": "stdout",
     "output_type": "stream",
     "text": [
      "[385, 386, 387, 388, 389]\n",
      "folds has 2500 values\n",
      "Accuracy has 2500 values\n",
      "id has 2500 values\n",
      "unlab has 2500 values\n",
      "num_cl has 2500 values\n",
      "algo has 2500 values\n",
      "labelled has 2500 values\n",
      "keeping {'unlab', 'num_cl', 'algo', 'labelled'}\n"
     ]
    },
    {
     "data": {
      "text/html": [
       "<div>\n",
       "<table border=\"1\" class=\"dataframe\">\n",
       "  <thead>\n",
       "    <tr style=\"text-align: right;\">\n",
       "      <th></th>\n",
       "      <th></th>\n",
       "      <th></th>\n",
       "      <th></th>\n",
       "      <th>mean</th>\n",
       "      <th>ci_width</th>\n",
       "    </tr>\n",
       "    <tr>\n",
       "      <th>algo</th>\n",
       "      <th>labelled</th>\n",
       "      <th>num_cl</th>\n",
       "      <th>unlab</th>\n",
       "      <th></th>\n",
       "      <th></th>\n",
       "    </tr>\n",
       "  </thead>\n",
       "  <tbody>\n",
       "    <tr>\n",
       "      <th>glove</th>\n",
       "      <th>aclImdb-tagged</th>\n",
       "      <th>100</th>\n",
       "      <th>wiki</th>\n",
       "      <td>62.794289</td>\n",
       "      <td>1.326575</td>\n",
       "    </tr>\n",
       "    <tr>\n",
       "      <th rowspan=\"4\" valign=\"top\">w2v</th>\n",
       "      <th rowspan=\"4\" valign=\"top\">aclImdb-tagged</th>\n",
       "      <th rowspan=\"2\" valign=\"top\">100</th>\n",
       "      <th>cwiki</th>\n",
       "      <td>62.226928</td>\n",
       "      <td>1.303602</td>\n",
       "    </tr>\n",
       "    <tr>\n",
       "      <th>wiki</th>\n",
       "      <td>62.255558</td>\n",
       "      <td>1.229679</td>\n",
       "    </tr>\n",
       "    <tr>\n",
       "      <th>500</th>\n",
       "      <th>wiki</th>\n",
       "      <td>66.200386</td>\n",
       "      <td>1.206691</td>\n",
       "    </tr>\n",
       "    <tr>\n",
       "      <th>2000</th>\n",
       "      <th>wiki</th>\n",
       "      <td>68.837472</td>\n",
       "      <td>1.041709</td>\n",
       "    </tr>\n",
       "  </tbody>\n",
       "</table>\n",
       "</div>"
      ],
      "text/plain": [
       "                                        mean  ci_width\n",
       "algo  labelled       num_cl unlab                     \n",
       "glove aclImdb-tagged 100    wiki   62.794289  1.326575\n",
       "w2v   aclImdb-tagged 100    cwiki  62.226928  1.303602\n",
       "                            wiki   62.255558  1.229679\n",
       "                     500    wiki   66.200386  1.206691\n",
       "                     2000   wiki   68.837472  1.041709"
      ]
     },
     "execution_count": 2,
     "metadata": {},
     "output_type": "execute_result"
    }
   ],
   "source": [
    "ids = Experiment.objects.filter(labelled__in=['movie-reviews-tagged', 'aclImdb-tagged'],\n",
    "                                clusters__isnull=False).values_list('id', flat=True)\n",
    "print(ids)\n",
    "df = dataframe_from_exp_ids(ids, {'id':'id',\n",
    "                                  'labelled': 'labelled',\n",
    "                                  'algo': 'clusters__vectors__algorithm',\n",
    "                                  'unlab': 'clusters__vectors__unlabelled',\n",
    "                                  'num_cl': 'clusters__num_clusters'}).convert_objects(convert_numeric=True)\n",
    "performance_table(df)"
   ]
  },
  {
   "cell_type": "markdown",
   "metadata": {},
   "source": [
    "#MR is too small- CI is almost 12% wide!"
   ]
  },
  {
   "cell_type": "code",
   "execution_count": null,
   "metadata": {
    "collapsed": true
   },
   "outputs": [],
   "source": []
  }
 ],
 "metadata": {
  "kernelspec": {
   "display_name": "Python 3",
   "language": "python",
   "name": "python3"
  },
  "language_info": {
   "codemirror_mode": {
    "name": "ipython",
    "version": 3
   },
   "file_extension": ".py",
   "mimetype": "text/x-python",
   "name": "python",
   "nbconvert_exporter": "python",
   "pygments_lexer": "ipython3",
   "version": "3.3.5"
  }
 },
 "nbformat": 4,
 "nbformat_minor": 0
}
