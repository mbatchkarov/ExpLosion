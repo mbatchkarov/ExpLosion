{
 "cells": [
  {
   "cell_type": "markdown",
   "metadata": {},
   "source": [
    "# Some sentiment analysis results\n",
    "I've only ran some of the models at the sentiment corpora. Performance is not great: 60-70%, SOTA is around 90%"
   ]
  },
  {
   "cell_type": "code",
   "execution_count": 1,
   "metadata": {
    "collapsed": false
   },
   "outputs": [
    {
     "name": "stdout",
     "output_type": "stream",
     "text": [
      "/Users/miroslavbatchkarov/NetBeansProjects/ExpLosion\n"
     ]
    }
   ],
   "source": [
    "%cd ~/NetBeansProjects/ExpLosion/\n",
    "from notebooks.common_imports import *\n",
    "from gui.output_utils import *\n",
    "\n",
    "sns.timeseries.algo.bootstrap = my_bootstrap\n",
    "sns.categorical.bootstrap = my_bootstrap"
   ]
  },
  {
   "cell_type": "code",
   "execution_count": 2,
   "metadata": {
    "collapsed": true
   },
   "outputs": [],
   "source": [
    "SIGNIFICANCE_LEVEL = 0.05\n",
    "def ci_width(scores):\n",
    "    low = np.percentile(scores, 100 * (SIGNIFICANCE_LEVEL / 2))\n",
    "    high = np.percentile(scores, 100 - 100 * (SIGNIFICANCE_LEVEL / 2))\n",
    "    return (high-low)/2"
   ]
  },
  {
   "cell_type": "code",
   "execution_count": 3,
   "metadata": {
    "collapsed": false,
    "scrolled": false
   },
   "outputs": [
    {
     "name": "stdout",
     "output_type": "stream",
     "text": [
      "[385, 386, 387, 388, 389]\n",
      "folds has 2500 values\n",
      "labelled has 2500 values\n",
      "num_cl has 2500 values\n",
      "Accuracy has 2500 values\n",
      "unlab has 2500 values\n",
      "id has 2500 values\n",
      "algo has 2500 values\n"
     ]
    },
    {
     "data": {
      "text/html": [
       "<div>\n",
       "<table border=\"1\" class=\"dataframe\">\n",
       "  <thead>\n",
       "    <tr style=\"text-align: right;\">\n",
       "      <th></th>\n",
       "      <th></th>\n",
       "      <th></th>\n",
       "      <th></th>\n",
       "      <th>mean</th>\n",
       "      <th>ci_width</th>\n",
       "    </tr>\n",
       "    <tr>\n",
       "      <th>labelled</th>\n",
       "      <th>num_cl</th>\n",
       "      <th>unlab</th>\n",
       "      <th>algo</th>\n",
       "      <th></th>\n",
       "      <th></th>\n",
       "    </tr>\n",
       "  </thead>\n",
       "  <tbody>\n",
       "    <tr>\n",
       "      <th rowspan=\"5\" valign=\"top\">aclImdb-tagged</th>\n",
       "      <th rowspan=\"3\" valign=\"top\">100</th>\n",
       "      <th>cwiki</th>\n",
       "      <th>w2v</th>\n",
       "      <td>62.197033</td>\n",
       "      <td>0.965603</td>\n",
       "    </tr>\n",
       "    <tr>\n",
       "      <th rowspan=\"2\" valign=\"top\">wiki</th>\n",
       "      <th>glove</th>\n",
       "      <td>62.840528</td>\n",
       "      <td>1.024263</td>\n",
       "    </tr>\n",
       "    <tr>\n",
       "      <th>w2v</th>\n",
       "      <td>62.248974</td>\n",
       "      <td>0.896794</td>\n",
       "    </tr>\n",
       "    <tr>\n",
       "      <th>500</th>\n",
       "      <th>wiki</th>\n",
       "      <th>w2v</th>\n",
       "      <td>66.216541</td>\n",
       "      <td>0.897048</td>\n",
       "    </tr>\n",
       "    <tr>\n",
       "      <th>2000</th>\n",
       "      <th>wiki</th>\n",
       "      <th>w2v</th>\n",
       "      <td>68.860557</td>\n",
       "      <td>0.919783</td>\n",
       "    </tr>\n",
       "  </tbody>\n",
       "</table>\n",
       "</div>"
      ],
      "text/plain": [
       "                                        mean  ci_width\n",
       "labelled       num_cl unlab algo                      \n",
       "aclImdb-tagged 100    cwiki w2v    62.197033  0.965603\n",
       "                      wiki  glove  62.840528  1.024263\n",
       "                            w2v    62.248974  0.896794\n",
       "               500    wiki  w2v    66.216541  0.897048\n",
       "               2000   wiki  w2v    68.860557  0.919783"
      ]
     },
     "execution_count": 3,
     "metadata": {},
     "output_type": "execute_result"
    }
   ],
   "source": [
    "ids = Experiment.objects.filter(labelled__in=['movie-reviews-tagged', 'aclImdb-tagged'],\n",
    "                                clusters__isnull=False).values_list('id', flat=True)\n",
    "print(ids)\n",
    "df = dataframe_from_exp_ids(ids, {'id':'id',\n",
    "                                  'labelled': 'labelled',\n",
    "                                  'algo': 'clusters__vectors__algorithm',\n",
    "                                  'unlab': 'clusters__vectors__unlabelled',\n",
    "                                  'num_cl': 'clusters__num_clusters'}).convert_objects(convert_numeric=True)\n",
    "df.groupby('labelled num_cl unlab algo'.split()).agg([np.mean, ci_width]).Accuracy * 100"
   ]
  },
  {
   "cell_type": "code",
   "execution_count": 4,
   "metadata": {
    "collapsed": false
   },
   "outputs": [
    {
     "name": "stdout",
     "output_type": "stream",
     "text": [
      "[383, 384]\n",
      "folds has 1000 values\n",
      "labelled has 1000 values\n",
      "Accuracy has 1000 values\n",
      "unlab has 1000 values\n",
      "id has 1000 values\n",
      "algo has 1000 values\n"
     ]
    },
    {
     "data": {
      "text/html": [
       "<div>\n",
       "<table border=\"1\" class=\"dataframe\">\n",
       "  <thead>\n",
       "    <tr style=\"text-align: right;\">\n",
       "      <th></th>\n",
       "      <th></th>\n",
       "      <th></th>\n",
       "      <th>mean</th>\n",
       "      <th>ci_width</th>\n",
       "    </tr>\n",
       "    <tr>\n",
       "      <th>labelled</th>\n",
       "      <th>unlab</th>\n",
       "      <th>algo</th>\n",
       "      <th></th>\n",
       "      <th></th>\n",
       "    </tr>\n",
       "  </thead>\n",
       "  <tbody>\n",
       "    <tr>\n",
       "      <th>MR</th>\n",
       "      <th>cwiki</th>\n",
       "      <th>w2v</th>\n",
       "      <td>61.172662</td>\n",
       "      <td>5.669964</td>\n",
       "    </tr>\n",
       "    <tr>\n",
       "      <th>aclImdb-tagged</th>\n",
       "      <th>cwiki</th>\n",
       "      <th>w2v</th>\n",
       "      <td>56.652689</td>\n",
       "      <td>0.933875</td>\n",
       "    </tr>\n",
       "  </tbody>\n",
       "</table>\n",
       "</div>"
      ],
      "text/plain": [
       "                                mean  ci_width\n",
       "labelled       unlab algo                     \n",
       "MR             cwiki w2v   61.172662  5.669964\n",
       "aclImdb-tagged cwiki w2v   56.652689  0.933875"
      ]
     },
     "execution_count": 4,
     "metadata": {},
     "output_type": "execute_result"
    }
   ],
   "source": [
    "ids = Experiment.objects.filter(labelled__in=['movie-reviews-tagged', 'aclImdb-tagged'],\n",
    "                                clusters__isnull=True).values_list('id', flat=True)\n",
    "print(ids)\n",
    "df = dataframe_from_exp_ids(ids, {'id':'id',\n",
    "                                  'labelled': 'labelled',\n",
    "                                  'algo': 'expansions__vectors__algorithm',\n",
    "                                  'unlab': 'expansions__vectors__unlabelled',}).convert_objects(convert_numeric=True)\n",
    "df.groupby('labelled unlab algo'.split()).agg([np.mean, ci_width]).Accuracy * 100"
   ]
  },
  {
   "cell_type": "markdown",
   "metadata": {},
   "source": [
    "#MR is too small- CI is almost 12% wide!"
   ]
  },
  {
   "cell_type": "code",
   "execution_count": null,
   "metadata": {
    "collapsed": true
   },
   "outputs": [],
   "source": []
  }
 ],
 "metadata": {
  "kernelspec": {
   "display_name": "Python 3",
   "language": "python",
   "name": "python3"
  },
  "language_info": {
   "codemirror_mode": {
    "name": "ipython",
    "version": 3
   },
   "file_extension": ".py",
   "mimetype": "text/x-python",
   "name": "python",
   "nbconvert_exporter": "python",
   "pygments_lexer": "ipython3",
   "version": "3.3.5"
  }
 },
 "nbformat": 4,
 "nbformat_minor": 0
}
