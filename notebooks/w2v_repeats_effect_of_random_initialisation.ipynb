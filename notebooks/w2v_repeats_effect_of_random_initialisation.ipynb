{
 "cells": [
  {
   "cell_type": "markdown",
   "metadata": {},
   "source": [
    "# Variation due to `word2vec`'s random initialisation\n",
    "\n",
    " - fairly small at the word analogy task"
   ]
  },
  {
   "cell_type": "code",
   "execution_count": 1,
   "metadata": {},
   "outputs": [
    {
     "name": "stdout",
     "output_type": "stream",
     "text": [
      "/Volumes/LocalDataHD/m/mm/mmb28/NetBeansProjects/ExpLosion\n"
     ]
    }
   ],
   "source": [
    "%cd ~/NetBeansProjects/ExpLosion/\n",
    "from notebooks.common_imports import *\n",
    "from gui.output_utils import *"
   ]
  },
  {
   "cell_type": "code",
   "execution_count": null,
   "metadata": {},
   "outputs": [],
   "source": [
    "shared = {}\n",
    "def get_exp_ids_for_reruns_of_word2vec(corpus='amazon_grouped-tagged'):\n",
    "    query_dict = {'use_similarity': 0, \n",
    "          'neighbour_strategy':'linear',\n",
    "          'vectors__dimensionality': 100, \n",
    "          'document_features_ev': 'AN+NN', \n",
    "          'document_features_tr': 'J+N+AN+NN', \n",
    "          'allow_overlap': False,\n",
    "          'entries_of': None,\n",
    "#           'vectors__unlabelled_percentage__in': [70,80], # todo remove this\n",
    "          'vectors__algorithm': 'word2vec',\n",
    "          'vectors__composer__in': ['Add', 'Mult', 'Left', 'Right'], # todo Verb???\n",
    "          'vectors__unlabelled': 'wiki',\n",
    "          'decode_handler': 'SignifiedOnlyFeatureHandler',\n",
    "          'noise': 0,\n",
    "          'use_similarity': 0, \n",
    "          'k':3,\n",
    "          'vectors__unlabelled_percentage': 50,\n",
    "          'labelled':corpus})\n",
    "    return Experiment.objects.filter(**query_dict)"
   ]
  },
  {
   "cell_type": "code",
   "execution_count": null,
   "metadata": {},
   "outputs": [],
   "source": [
    "ids = get_exp_ids_for_reruns_of_word2vec() # todo change corpus here\n",
    "print(ids)\n",
    "data, folds = get_cv_scores_many_experiment(ids)\n",
    "\n",
    "reps = [str(x) if x >= 0 else 'avg' for x in get_vectors_field(ids, 'rep')]\n",
    "df = pd.DataFrame({'F1': data,\n",
    "                   'Composer': get_vectors_field(ids, 'composer'),\n",
    "                   'cvfold': folds,\n",
    "                   'Repetition': reps})\n",
    "df.to_html('tmp.html')\n",
    "grid = sns.factorplot(x='Composer', y='F1', hue='Repetition', \n",
    "                      data=df, kind='bar');\n",
    "# grid.set(ylim=(.6, .8));\n",
    "plt.savefig('plot-w2v_random_init_var.pdf', format='pdf', dpi=300)"
   ]
  },
  {
   "cell_type": "markdown",
   "metadata": {},
   "source": [
    " - word embeddings are reasonably stable\n",
    " - the lines above for Left and Right are (mostly) flat\n",
    "     - TODO look deeper into this\n",
    " - Composition, esp. multiplication, can result in very different phrase vectors"
   ]
  },
  {
   "cell_type": "code",
   "execution_count": null,
   "metadata": {},
   "outputs": [],
   "source": [
    ""
   ]
  }
 ],
 "metadata": {
  "kernelspec": {
   "display_name": "Python 3",
   "language": "python",
   "name": "python3"
  },
  "language_info": {
   "codemirror_mode": {
    "name": "ipython",
    "version": 3.0
   },
   "file_extension": ".py",
   "mimetype": "text/x-python",
   "name": "python",
   "nbconvert_exporter": "python",
   "pygments_lexer": "ipython3",
   "version": "3.4.3"
  }
 },
 "nbformat": 4,
 "nbformat_minor": 0
}